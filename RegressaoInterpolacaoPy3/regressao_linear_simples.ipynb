{
 "cells": [
  {
   "cell_type": "markdown",
   "metadata": {},
   "source": [
    "# Regressões Lineares com Scikit Learn\n",
    "---\n",
    "## Prof. Dr. Reginaldo Gonçalves Leão Junior¹²³\n",
    "\n",
    "1. Grupo de Estudos em Sistemas Energéticos e Simulação Computacional (GESESC)\n",
    "2. IFMG - Campus Arcos\n",
    "3. Departamento de Engenharia Nuclear - UFMG\n",
    "---"
   ]
  },
  {
   "cell_type": "markdown",
   "metadata": {},
   "source": [
    "Regressão linear é um método estatístico que provê uma forma de se estimar o \n",
    "valor esperado de uma variável `Y`, dados valores de outra variável, denominada explicativa, `X`, com a \n",
    "qual a primeira está supostamente relacionada de forma linear. É também considerado um método supervisionado de aprendizado de máquina.\n",
    "\n",
    "Para estimar o valor esperado por meio deste método, utiliza-se a seguinte equação:\n",
    "\n",
    "$$\n",
    " Y_i = \\alpha + \\beta X_i + e_i \\space (1)\n",
    "$$\n",
    "\n",
    "Onde $Y_i$ é o valor estimado, $\\alpha$ e $\\beta$ os coeficientes lineares e angulares respectivamente, $X_i$, a variável explicativa e $e_i$ uma constante que estima o conjunto de fatores residuais e erros na estimativa de $Y_i$.\n",
    "\n",
    "O método que será utilizado, mínimos quadrados ordinários, trata de minimizar o somatórios dos quadrados dos valores de $e_i$, conforme a Eq.2.\n",
    "\n",
    "$$\n",
    "min \\sum^n_i(Y_i - \\alpha - \\beta x_i)^2 \n",
    "$$\n",
    "\n",
    "\n",
    "Utilizaremos a biblioteca *scikit learn* para implementar a minimização da Eq. 2 de forma mais otimizada e precisa"
   ]
  },
  {
   "cell_type": "code",
   "execution_count": null,
   "metadata": {},
   "outputs": [],
   "source": []
  },
  {
   "cell_type": "code",
   "execution_count": 35,
   "metadata": {},
   "outputs": [],
   "source": [
    "# Importa o módulo com as funcionalidades de modelos lineares\n",
    "from sklearn import linear_model as linmodel\n",
    "\n",
    "# Importa o modelo de secção do data-set em dados de treinamento e dados de teste\n",
    "from sklearn.model_selection import train_test_split \n",
    "\n",
    "# Importa os datasets disponibilizados pela biblioteca\n",
    "from sklearn import datasets\n",
    "\n",
    "# Importa o módulo pyplot da biblioteca matplotlib\n",
    "import matplotlib.pyplot as plt\n",
    "\n",
    "# Importa a biblioteca numpy\n",
    "import numpy as np"
   ]
  },
  {
   "cell_type": "markdown",
   "metadata": {},
   "source": [
    "Em primeiro lugar obteremos o *data-set* padrão para a análise.\n",
    "\n",
    "Carregamos um *data-set* disponibilizado pela biblioteca Scikit Learn denominado\n",
    "diabetes, que chamaremos `wine_data`. \n",
    "\n",
    "Este *data-set* agrupa dados de 178 tipos de vinho, apresentando, dentre outras informações (vide colunas da tabela abaixo) o teor alcóolico percentual na coluna `alcohol` e concentração percentual de ácido málico na coluna `malic_acid`."
   ]
  },
  {
   "cell_type": "code",
   "execution_count": 24,
   "metadata": {},
   "outputs": [
    {
     "data": {
      "text/html": [
       "<div>\n",
       "<style scoped>\n",
       "    .dataframe tbody tr th:only-of-type {\n",
       "        vertical-align: middle;\n",
       "    }\n",
       "\n",
       "    .dataframe tbody tr th {\n",
       "        vertical-align: top;\n",
       "    }\n",
       "\n",
       "    .dataframe thead th {\n",
       "        text-align: right;\n",
       "    }\n",
       "</style>\n",
       "<table border=\"1\" class=\"dataframe\">\n",
       "  <thead>\n",
       "    <tr style=\"text-align: right;\">\n",
       "      <th></th>\n",
       "      <th>alcohol</th>\n",
       "      <th>malic_acid</th>\n",
       "      <th>ash</th>\n",
       "      <th>alcalinity_of_ash</th>\n",
       "      <th>magnesium</th>\n",
       "      <th>total_phenols</th>\n",
       "      <th>flavanoids</th>\n",
       "      <th>nonflavanoid_phenols</th>\n",
       "      <th>proanthocyanins</th>\n",
       "      <th>color_intensity</th>\n",
       "      <th>hue</th>\n",
       "      <th>od280/od315_of_diluted_wines</th>\n",
       "      <th>proline</th>\n",
       "    </tr>\n",
       "  </thead>\n",
       "  <tbody>\n",
       "    <tr>\n",
       "      <th>0</th>\n",
       "      <td>14.23</td>\n",
       "      <td>1.71</td>\n",
       "      <td>2.43</td>\n",
       "      <td>15.6</td>\n",
       "      <td>127.0</td>\n",
       "      <td>2.80</td>\n",
       "      <td>3.06</td>\n",
       "      <td>0.28</td>\n",
       "      <td>2.29</td>\n",
       "      <td>5.64</td>\n",
       "      <td>1.04</td>\n",
       "      <td>3.92</td>\n",
       "      <td>1065.0</td>\n",
       "    </tr>\n",
       "    <tr>\n",
       "      <th>1</th>\n",
       "      <td>13.20</td>\n",
       "      <td>1.78</td>\n",
       "      <td>2.14</td>\n",
       "      <td>11.2</td>\n",
       "      <td>100.0</td>\n",
       "      <td>2.65</td>\n",
       "      <td>2.76</td>\n",
       "      <td>0.26</td>\n",
       "      <td>1.28</td>\n",
       "      <td>4.38</td>\n",
       "      <td>1.05</td>\n",
       "      <td>3.40</td>\n",
       "      <td>1050.0</td>\n",
       "    </tr>\n",
       "    <tr>\n",
       "      <th>2</th>\n",
       "      <td>13.16</td>\n",
       "      <td>2.36</td>\n",
       "      <td>2.67</td>\n",
       "      <td>18.6</td>\n",
       "      <td>101.0</td>\n",
       "      <td>2.80</td>\n",
       "      <td>3.24</td>\n",
       "      <td>0.30</td>\n",
       "      <td>2.81</td>\n",
       "      <td>5.68</td>\n",
       "      <td>1.03</td>\n",
       "      <td>3.17</td>\n",
       "      <td>1185.0</td>\n",
       "    </tr>\n",
       "    <tr>\n",
       "      <th>3</th>\n",
       "      <td>14.37</td>\n",
       "      <td>1.95</td>\n",
       "      <td>2.50</td>\n",
       "      <td>16.8</td>\n",
       "      <td>113.0</td>\n",
       "      <td>3.85</td>\n",
       "      <td>3.49</td>\n",
       "      <td>0.24</td>\n",
       "      <td>2.18</td>\n",
       "      <td>7.80</td>\n",
       "      <td>0.86</td>\n",
       "      <td>3.45</td>\n",
       "      <td>1480.0</td>\n",
       "    </tr>\n",
       "    <tr>\n",
       "      <th>4</th>\n",
       "      <td>13.24</td>\n",
       "      <td>2.59</td>\n",
       "      <td>2.87</td>\n",
       "      <td>21.0</td>\n",
       "      <td>118.0</td>\n",
       "      <td>2.80</td>\n",
       "      <td>2.69</td>\n",
       "      <td>0.39</td>\n",
       "      <td>1.82</td>\n",
       "      <td>4.32</td>\n",
       "      <td>1.04</td>\n",
       "      <td>2.93</td>\n",
       "      <td>735.0</td>\n",
       "    </tr>\n",
       "    <tr>\n",
       "      <th>...</th>\n",
       "      <td>...</td>\n",
       "      <td>...</td>\n",
       "      <td>...</td>\n",
       "      <td>...</td>\n",
       "      <td>...</td>\n",
       "      <td>...</td>\n",
       "      <td>...</td>\n",
       "      <td>...</td>\n",
       "      <td>...</td>\n",
       "      <td>...</td>\n",
       "      <td>...</td>\n",
       "      <td>...</td>\n",
       "      <td>...</td>\n",
       "    </tr>\n",
       "    <tr>\n",
       "      <th>173</th>\n",
       "      <td>13.71</td>\n",
       "      <td>5.65</td>\n",
       "      <td>2.45</td>\n",
       "      <td>20.5</td>\n",
       "      <td>95.0</td>\n",
       "      <td>1.68</td>\n",
       "      <td>0.61</td>\n",
       "      <td>0.52</td>\n",
       "      <td>1.06</td>\n",
       "      <td>7.70</td>\n",
       "      <td>0.64</td>\n",
       "      <td>1.74</td>\n",
       "      <td>740.0</td>\n",
       "    </tr>\n",
       "    <tr>\n",
       "      <th>174</th>\n",
       "      <td>13.40</td>\n",
       "      <td>3.91</td>\n",
       "      <td>2.48</td>\n",
       "      <td>23.0</td>\n",
       "      <td>102.0</td>\n",
       "      <td>1.80</td>\n",
       "      <td>0.75</td>\n",
       "      <td>0.43</td>\n",
       "      <td>1.41</td>\n",
       "      <td>7.30</td>\n",
       "      <td>0.70</td>\n",
       "      <td>1.56</td>\n",
       "      <td>750.0</td>\n",
       "    </tr>\n",
       "    <tr>\n",
       "      <th>175</th>\n",
       "      <td>13.27</td>\n",
       "      <td>4.28</td>\n",
       "      <td>2.26</td>\n",
       "      <td>20.0</td>\n",
       "      <td>120.0</td>\n",
       "      <td>1.59</td>\n",
       "      <td>0.69</td>\n",
       "      <td>0.43</td>\n",
       "      <td>1.35</td>\n",
       "      <td>10.20</td>\n",
       "      <td>0.59</td>\n",
       "      <td>1.56</td>\n",
       "      <td>835.0</td>\n",
       "    </tr>\n",
       "    <tr>\n",
       "      <th>176</th>\n",
       "      <td>13.17</td>\n",
       "      <td>2.59</td>\n",
       "      <td>2.37</td>\n",
       "      <td>20.0</td>\n",
       "      <td>120.0</td>\n",
       "      <td>1.65</td>\n",
       "      <td>0.68</td>\n",
       "      <td>0.53</td>\n",
       "      <td>1.46</td>\n",
       "      <td>9.30</td>\n",
       "      <td>0.60</td>\n",
       "      <td>1.62</td>\n",
       "      <td>840.0</td>\n",
       "    </tr>\n",
       "    <tr>\n",
       "      <th>177</th>\n",
       "      <td>14.13</td>\n",
       "      <td>4.10</td>\n",
       "      <td>2.74</td>\n",
       "      <td>24.5</td>\n",
       "      <td>96.0</td>\n",
       "      <td>2.05</td>\n",
       "      <td>0.76</td>\n",
       "      <td>0.56</td>\n",
       "      <td>1.35</td>\n",
       "      <td>9.20</td>\n",
       "      <td>0.61</td>\n",
       "      <td>1.60</td>\n",
       "      <td>560.0</td>\n",
       "    </tr>\n",
       "  </tbody>\n",
       "</table>\n",
       "<p>178 rows × 13 columns</p>\n",
       "</div>"
      ],
      "text/plain": [
       "     alcohol  malic_acid   ash  alcalinity_of_ash  magnesium  total_phenols  \\\n",
       "0      14.23        1.71  2.43               15.6      127.0           2.80   \n",
       "1      13.20        1.78  2.14               11.2      100.0           2.65   \n",
       "2      13.16        2.36  2.67               18.6      101.0           2.80   \n",
       "3      14.37        1.95  2.50               16.8      113.0           3.85   \n",
       "4      13.24        2.59  2.87               21.0      118.0           2.80   \n",
       "..       ...         ...   ...                ...        ...            ...   \n",
       "173    13.71        5.65  2.45               20.5       95.0           1.68   \n",
       "174    13.40        3.91  2.48               23.0      102.0           1.80   \n",
       "175    13.27        4.28  2.26               20.0      120.0           1.59   \n",
       "176    13.17        2.59  2.37               20.0      120.0           1.65   \n",
       "177    14.13        4.10  2.74               24.5       96.0           2.05   \n",
       "\n",
       "     flavanoids  nonflavanoid_phenols  proanthocyanins  color_intensity   hue  \\\n",
       "0          3.06                  0.28             2.29             5.64  1.04   \n",
       "1          2.76                  0.26             1.28             4.38  1.05   \n",
       "2          3.24                  0.30             2.81             5.68  1.03   \n",
       "3          3.49                  0.24             2.18             7.80  0.86   \n",
       "4          2.69                  0.39             1.82             4.32  1.04   \n",
       "..          ...                   ...              ...              ...   ...   \n",
       "173        0.61                  0.52             1.06             7.70  0.64   \n",
       "174        0.75                  0.43             1.41             7.30  0.70   \n",
       "175        0.69                  0.43             1.35            10.20  0.59   \n",
       "176        0.68                  0.53             1.46             9.30  0.60   \n",
       "177        0.76                  0.56             1.35             9.20  0.61   \n",
       "\n",
       "     od280/od315_of_diluted_wines  proline  \n",
       "0                            3.92   1065.0  \n",
       "1                            3.40   1050.0  \n",
       "2                            3.17   1185.0  \n",
       "3                            3.45   1480.0  \n",
       "4                            2.93    735.0  \n",
       "..                            ...      ...  \n",
       "173                          1.74    740.0  \n",
       "174                          1.56    750.0  \n",
       "175                          1.56    835.0  \n",
       "176                          1.62    840.0  \n",
       "177                          1.60    560.0  \n",
       "\n",
       "[178 rows x 13 columns]"
      ]
     },
     "execution_count": 24,
     "metadata": {},
     "output_type": "execute_result"
    }
   ],
   "source": [
    "# Importação dos dados como uma data frame\n",
    "wine_data = datasets.load_wine(as_frame=True)\n",
    "\n",
    "# Mostra os dados armazenados no objeto `wine_data`.\n",
    "wine_data.data"
   ]
  },
  {
   "cell_type": "markdown",
   "metadata": {},
   "source": [
    "Vamos ver como esses dados se comportam graficamente."
   ]
  },
  {
   "cell_type": "code",
   "execution_count": 6,
   "metadata": {},
   "outputs": [
    {
     "data": {
      "image/png": "[encoded data removed]",
      "text/plain": [
       "<Figure size 432x288 with 1 Axes>"
      ]
     },
     "metadata": {
      "needs_background": "light"
     },
     "output_type": "display_data"
    }
   ],
   "source": [
    "# Cria um gráfico de dispersão utilizando a biblioteca matplotlib\n",
    "plt.scatter(\n",
    "    wine_data.data.alcohol, \n",
    "    wine_data.data.malic_acid, \n",
    "    edgecolors=(0, 0, 0)\n",
    ")\n",
    "plt.xlabel(\"Teor alcoólico (%)\")\n",
    "plt.ylabel(\"Concentração de ácido málico (%)\")\n",
    "plt.show()"
   ]
  },
  {
   "cell_type": "markdown",
   "metadata": {},
   "source": [
    "Como o objeto `wine_data` possui várias *features* organizadas em colunas, então criaremos vetores extraídos da série estudada. Além disso, o método de treinamento dos dados `LineareRegression().fit()` requer que os vetreos sejam passados na forma (nº de amostras x nº de características). Por isso, faremos a mudança do *shape* dos vetores para o formato requerido. \n",
    "\n",
    "Na rotina a seguir as séries do objeto `wine_data` são explicitamente convertidas em vetores NumPy e em seguida os *shapes* modificados para o formato requerido. O primeiro argumento no método `reshape`, -1, indica que o vetor terá um número de elementos igual ao seu comprimento na primeira dimensão, e apenas um elemento na segunda. "
   ]
  },
  {
   "cell_type": "code",
   "execution_count": 56,
   "metadata": {},
   "outputs": [],
   "source": [
    "X = np.array(wine_data.data.alcohol).reshape(-1,1)\n",
    "y = np.array(wine_data.data.malic_acid).reshape(-1,1)"
   ]
  },
  {
   "cell_type": "markdown",
   "metadata": {},
   "source": [
    "Em seguida, faremos a secção do *data-set* em duas porções distintas, 80% dos dados destinados ao treinamento do\n",
    "algoritmo, 20% dos dados destinados ao teste do algoritmo, sem o recurso de embaralhamento, a fim de preservar\n",
    "a ordem de amostragem."
   ]
  },
  {
   "cell_type": "code",
   "execution_count": 64,
   "metadata": {},
   "outputs": [],
   "source": [
    "X_train, X_test, y_train, y_test = train_test_split(X, y, test_size=.2, random_state=0)"
   ]
  },
  {
   "cell_type": "markdown",
   "metadata": {},
   "source": [
    "Agora criamos um objeto do tipo `LinearRegression` para acesso aos métodos de \n",
    "regressão linear disponibilizados por essa classe."
   ]
  },
  {
   "cell_type": "code",
   "execution_count": 65,
   "metadata": {},
   "outputs": [],
   "source": [
    "lregress = linmodel.LinearRegression()"
   ]
  },
  {
   "cell_type": "markdown",
   "metadata": {},
   "source": [
    "O método `fit()` do objeto `lregress` realiza o treinamento do modelo de regressão linear, então passaremos para ele\n",
    "os dados de treinamento."
   ]
  },
  {
   "cell_type": "code",
   "execution_count": 66,
   "metadata": {},
   "outputs": [
    {
     "name": "stdout",
     "output_type": "stream",
     "text": [
      "Coeficiente a = [0.139389]\n",
      "Coeficiente b = [0.56265916]\n"
     ]
    }
   ],
   "source": [
    "lregress.fit(X_train, y_train)\n",
    "print(f\"Coeficiente a = {lregress.coef_[0]}\") # Coeficiente \"a\"\n",
    "print(f\"Coeficiente b = {lregress.intercept_}\") # Coeficiente \"b\""
   ]
  },
  {
   "cell_type": "markdown",
   "metadata": {},
   "source": [
    "Agora já temos nosso modelo treinado, então poderemos fazer predições com ele. Para isso utilizados o métodos `predict()` de `lregress` e criamos um vetor de predições, utilizando os dados de teste. Note que, como os valores preditos são de $Y$, então valores de $X$ serão passados."
   ]
  },
  {
   "cell_type": "code",
   "execution_count": 67,
   "metadata": {},
   "outputs": [],
   "source": [
    "y_predt = lregress.predict(X_test)"
   ]
  },
  {
   "cell_type": "markdown",
   "metadata": {},
   "source": [
    "Utilizaremos um gráfico de dispersão para comparar os dados preditos com os dados de teste."
   ]
  },
  {
   "cell_type": "code",
   "execution_count": 72,
   "metadata": {},
   "outputs": [
    {
     "data": {
      "image/png": "[encoded data removed]",
      "text/plain": [
       "<Figure size 432x288 with 1 Axes>"
      ]
     },
     "metadata": {
      "needs_background": "light"
     },
     "output_type": "display_data"
    }
   ],
   "source": [
    "plt.scatter(X_test, y_test, edgecolors=(0,0,0), label= \"Dados de teste\")\n",
    "plt.scatter(X_test, y_predt, edgecolors=(0,0,0), label= \"Dados preditos\")\n",
    "for x, t, p in zip(X_test, y_test, y_predt):\n",
    "    plt.plot([x,x], [p,t], \"r--\")\n",
    "plt.xlabel(\"Teor alcoólico (%)\")\n",
    "plt.ylabel(\"Concentração de ácido málico (%)\")\n",
    "plt.legend()\n",
    "plt.show()"
   ]
  },
  {
   "cell_type": "markdown",
   "metadata": {},
   "source": [
    "Finalmente, podemos visualizar o ajuste combinando dados de teste e preditos, em um mesmo gráfico, utilizando uma\n",
    "função linear e os limites dos vetor X criado anteriormente."
   ]
  },
  {
   "cell_type": "code",
   "execution_count": 89,
   "metadata": {},
   "outputs": [],
   "source": [
    "func_lin = lambda a, b, x: a*x + b\n",
    "newX = np.linspace(X.min(), X.max(), X.size)"
   ]
  },
  {
   "cell_type": "code",
   "execution_count": 90,
   "metadata": {},
   "outputs": [
    {
     "data": {
      "image/png": "[encoded data removed]",
      "text/plain": [
       "<Figure size 432x288 with 1 Axes>"
      ]
     },
     "metadata": {
      "needs_background": "light"
     },
     "output_type": "display_data"
    }
   ],
   "source": [
    "plt.scatter(X, y, edgecolors=(0,0,0))\n",
    "plt.plot(newX, func_lin(lregress.coef_[0], lregress.intercept_, newX), color=\"red\", linewidth=2)\n",
    "plt.xlabel(\"Teor alcoólico (%)\")\n",
    "plt.ylabel(\"Concentração de ácido málico (%)\")\n",
    "plt.show()"
   ]
  },
  {
   "cell_type": "markdown",
   "metadata": {},
   "source": [
    "Caso se queira obter o erro absoluto médio (EAM) (Eq.2) e o erro quadrado médio (EQM) do processo (Eq.2), o módulo `metrics` da biblioteca *scikit learn* pode ser utilizado.\n",
    "\n",
    "$$\n",
    "EAM = \\frac{1}{n} \\sum_{i=1}^{n} |y_i - \\hat{y}_i| \\space (2)\n",
    "$$\n",
    "\n",
    "$$\n",
    "EQM = \\frac{1}{n} \\sum_{i=1}^{n} (y_i - \\hat{y}_i)^2 \\space (3)\n",
    "$$"
   ]
  },
  {
   "cell_type": "code",
   "execution_count": 94,
   "metadata": {},
   "outputs": [
    {
     "name": "stdout",
     "output_type": "stream",
     "text": [
      "Erro absoluto médio: 0.896\n",
      "Erro quadrático médio: 1.266\n"
     ]
    }
   ],
   "source": [
    "from sklearn import metrics\n",
    "print(f\"Erro absoluto médio: {metrics.mean_absolute_error(y_test, y_predt):.3f}\")\n",
    "print(f\"Erro quadrático médio: {metrics.mean_squared_error(y_test, y_predt):.3f}\")"
   ]
  },
  {
   "cell_type": "markdown",
   "metadata": {},
   "source": [
    "## *ESSE CURSO FOI PRODUZIDO PELO GRUPO DE ESTUDOS EM SISTEMAS ENERGÉTICOS E SIMULAÇÃO COMPUTACIONAL (GESESC)*\n",
    "![GESES](logo_gesesc.png)\n",
    "\n",
    "### *Todos os direitos reservados segundo os termos da licença MIT*"
   ]
  },
  {
   "cell_type": "code",
   "execution_count": null,
   "metadata": {},
   "outputs": [],
   "source": []
  }
 ],
 "metadata": {
  "interpreter": {
   "hash": "d417725d09d51a5139445bfe94d60a8fc218a01dc2d45b144ad69749c0e23d30"
  },
  "kernelspec": {
   "display_name": "Python 3",
   "language": "python",
   "name": "python3"
  },
  "language_info": {
   "codemirror_mode": {
    "name": "ipython",
    "version": 3
   },
   "file_extension": ".py",
   "mimetype": "text/x-python",
   "name": "python",
   "nbconvert_exporter": "python",
   "pygments_lexer": "ipython3",
   "version": "3.8.10"
  }
 },
 "nbformat": 4,
 "nbformat_minor": 4
}
