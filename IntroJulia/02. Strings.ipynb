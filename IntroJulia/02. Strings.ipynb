{
 "cells": [
  {
   "cell_type": "markdown",
   "id": "b06db2e1-a5ba-4f19-94cd-3fd1a6f7e849",
   "metadata": {},
   "source": [
    "# Strings\n",
    "\n",
    "Tópicos:\n",
    "1.  Como obter uma string\n",
    "2. Interpolação de string\n",
    "3. Concatenação de string"
   ]
  },
  {
   "cell_type": "markdown",
   "id": "42063f13-2335-4307-9501-8dcf3dde3a71",
   "metadata": {},
   "source": [
    "## Como obter uma string\n",
    "\n",
    "Coloque os seus caracteres em \" \" ou \"\"\" \"\"\"!"
   ]
  },
  {
   "cell_type": "code",
   "execution_count": 7,
   "id": "a22ccc4b-b46d-495e-8860-3a86ce18d824",
   "metadata": {},
   "outputs": [
    {
     "data": {
      "text/plain": [
       "\"Eu sou uma string.\""
      ]
     },
     "execution_count": 7,
     "metadata": {},
     "output_type": "execute_result"
    }
   ],
   "source": [
    "s1 = \"Eu sou uma string.\""
   ]
  },
  {
   "cell_type": "code",
   "execution_count": 8,
   "id": "e04ad7c1-35a5-4e91-b6ca-fdf42b853a8b",
   "metadata": {},
   "outputs": [
    {
     "data": {
      "text/plain": [
       "\"Eu também sou uma string. \""
      ]
     },
     "execution_count": 8,
     "metadata": {},
     "output_type": "execute_result"
    }
   ],
   "source": [
    "s2 = \"\"\"Eu também sou uma string. \"\"\""
   ]
  },
  {
   "cell_type": "markdown",
   "id": "24cbd4b0-47f0-44eb-b28c-9c889990706b",
   "metadata": {},
   "source": [
    "\"Aqui, obtemos um \"erro\" porque é ambíguo onde essa string termina\""
   ]
  },
  {
   "cell_type": "code",
   "execution_count": 9,
   "id": "8de4fc95-de93-4c39-9359-ceb2cad70b30",
   "metadata": {},
   "outputs": [
    {
     "data": {
      "text/plain": [
       "\"Olha mamãe, sem \\\"erros\\\"!!! \""
      ]
     },
     "execution_count": 9,
     "metadata": {},
     "output_type": "execute_result"
    }
   ],
   "source": [
    "\"\"\"Olha mamãe, sem \"erros\"!!! \"\"\""
   ]
  },
  {
   "cell_type": "markdown",
   "id": "30113eba-4fb0-44e6-9da9-acc35040f8eb",
   "metadata": {},
   "source": [
    "Note que ' ' define um carácter, mas NÃO uma string!"
   ]
  },
  {
   "cell_type": "code",
   "execution_count": 10,
   "id": "6102fb9d-784d-4e78-b804-50c3fd1c3601",
   "metadata": {},
   "outputs": [
    {
     "data": {
      "text/plain": [
       "Char"
      ]
     },
     "execution_count": 10,
     "metadata": {},
     "output_type": "execute_result"
    }
   ],
   "source": [
    "typeof('a')"
   ]
  },
  {
   "cell_type": "code",
   "execution_count": 11,
   "id": "1cdf254a-ec07-4e69-a601-18b1745ba582",
   "metadata": {
    "tags": []
   },
   "outputs": [
    {
     "ename": "LoadError",
     "evalue": "syntax: character literal contains multiple characters",
     "output_type": "error",
     "traceback": [
      "syntax: character literal contains multiple characters",
      "",
      "Stacktrace:",
      " [1] top-level scope",
      "   @ In[11]:1",
      " [2] eval",
      "   @ .\\boot.jl:360 [inlined]",
      " [3] include_string(mapexpr::typeof(REPL.softscope), mod::Module, code::String, filename::String)",
      "   @ Base .\\loading.jl:1094"
     ]
    }
   ],
   "source": [
    "'Vamos obter um erro aqui'"
   ]
  },
  {
   "cell_type": "markdown",
   "id": "99d90a3d-d75e-4f21-923a-d933fe658234",
   "metadata": {},
   "source": [
    "## Interpolação de strings\n",
    "\n",
    "Podemos utilizar o sinal $ para inserir variáveis existentes numa string e avaliar expressões dentro de uma string. <br>\n",
    "Abaixo está um exemplo que contém alguma informação pessoal."
   ]
  },
  {
   "cell_type": "code",
   "execution_count": 12,
   "id": "85514f19-4a67-47ba-b4fd-c9e6d06f2b42",
   "metadata": {},
   "outputs": [
    {
     "data": {
      "text/plain": [
       "10"
      ]
     },
     "execution_count": 12,
     "metadata": {},
     "output_type": "execute_result"
    }
   ],
   "source": [
    "nome = \"Joana\"\n",
    "num_dedosmao = 10\n",
    "num_dedospe = 10"
   ]
  },
  {
   "cell_type": "code",
   "execution_count": 13,
   "id": "c15d5b63-4e39-4b64-9f96-2ff5997adca3",
   "metadata": {},
   "outputs": [
    {
     "name": "stdout",
     "output_type": "stream",
     "text": [
      "Olá, meu nome é Joana.\n",
      "Eu tenho 10 dedos da mão e 10 dedos do pé.\n"
     ]
    }
   ],
   "source": [
    "println(\"Olá, meu nome é $nome.\")\n",
    "println(\"Eu tenho $num_dedosmao dedos da mão e $num_dedospe dedos do pé.\")"
   ]
  },
  {
   "cell_type": "code",
   "execution_count": 14,
   "id": "0393361c-263f-4cfb-8b4a-4b8bd37027ea",
   "metadata": {},
   "outputs": [
    {
     "name": "stdout",
     "output_type": "stream",
     "text": [
      "Ou seja, 20 dedos no total!!\n"
     ]
    }
   ],
   "source": [
    " println(\"Ou seja, $(num_dedosmao + num_dedospe) dedos no total!!\")"
   ]
  },
  {
   "cell_type": "markdown",
   "id": "547ce5dc-8eb4-432f-aa2c-d21a44f65691",
   "metadata": {},
   "source": [
    "## Concatenação de string\n",
    "\n",
    "Abaixo estão três formas de concatenar strings! <br><br>\n",
    "A primeira maneira é utilizar a função `string()`. <br>\n",
    "`string()` converte entradas sem string em strings."
   ]
  },
  {
   "cell_type": "code",
   "execution_count": 15,
   "id": "45364415-787d-47db-9b1f-ae0871ef2b45",
   "metadata": {},
   "outputs": [
    {
     "data": {
      "text/plain": [
       "10"
      ]
     },
     "execution_count": 15,
     "metadata": {},
     "output_type": "execute_result"
    }
   ],
   "source": [
    "s3 = \"Quantos gatos \";\n",
    "s4 = \"são muitos gatos?\";\n",
    "😺 = 10"
   ]
  },
  {
   "cell_type": "code",
   "execution_count": 16,
   "id": "52fd076e-1a0d-4c47-b826-44a83b25fad6",
   "metadata": {},
   "outputs": [
    {
     "data": {
      "text/plain": [
       "\"Quantos gatos são muitos gatos?\""
      ]
     },
     "execution_count": 16,
     "metadata": {},
     "output_type": "execute_result"
    }
   ],
   "source": [
    "string(s3, s4)"
   ]
  },
  {
   "cell_type": "code",
   "execution_count": 17,
   "id": "b7218994-2486-4aec-87a3-d2a21f59cd55",
   "metadata": {},
   "outputs": [
    {
     "data": {
      "text/plain": [
       "\"Não sei, mas 10 é muito pouco.\""
      ]
     },
     "execution_count": 17,
     "metadata": {},
     "output_type": "execute_result"
    }
   ],
   "source": [
    "string(\"Não sei, mas \", 😺, \" é muito pouco.\")"
   ]
  },
  {
   "cell_type": "markdown",
   "id": "04183da4-cd6f-4e1c-9665-485c7899be38",
   "metadata": {},
   "source": [
    "Também podemos utilizar `*` para concatenação!"
   ]
  },
  {
   "cell_type": "code",
   "execution_count": 18,
   "id": "8cd48161-d346-40c9-a8e9-c22ffec3b834",
   "metadata": {},
   "outputs": [
    {
     "data": {
      "text/plain": [
       "\"Quantos gatos são muitos gatos?\""
      ]
     },
     "execution_count": 18,
     "metadata": {},
     "output_type": "execute_result"
    }
   ],
   "source": [
    "s3*s4"
   ]
  },
  {
   "cell_type": "markdown",
   "id": "1bc81283-d7a5-4fe6-a648-c2220643b5d8",
   "metadata": {},
   "source": [
    "### Exercícios\n",
    "\n",
    "#### 2.1 \n",
    "Criar uma string que diga \"oi\" 1000 vezes, primeiro com \"repetição\" e depois com o operador de exponenciação, que pode chamar `*` abaixo. Atribuir-lhe a variável `oi` abaixo."
   ]
  },
  {
   "cell_type": "code",
   "execution_count": 19,
   "id": "26d95656-2f3c-496c-b3c2-dc60159bd9d3",
   "metadata": {
    "nbgrader": {
     "checksum": "2046f6f9c3d290e2d63b4c261629d27d",
     "grade": false,
     "grade_id": "cell-5b38bdb1115161b4",
     "locked": false,
     "schema_version": 1,
     "solution": true
    }
   },
   "outputs": [],
   "source": [
    "oi = repeat(\"oi\", 1000);"
   ]
  },
  {
   "cell_type": "code",
   "execution_count": 20,
   "id": "95b19a40-9bfc-4bba-86c9-9b6e3164cace",
   "metadata": {},
   "outputs": [],
   "source": [
    "oi2 = \"oi\"^1000;"
   ]
  },
  {
   "cell_type": "code",
   "execution_count": 21,
   "id": "ef02dd5d-ba99-4b5b-8b0c-4e71cf7f16a2",
   "metadata": {},
   "outputs": [],
   "source": [
    "@assert oi == \"oioioioioioioioioioioioioioioioioioioioioioioioioioioioioioioioioioioioioioioioioioioioioioioioioioioioioioioioioioioioioioioioioioioioioioioioioioioioioioioioioioioioioioioioioioioioioioioioioioioioioioioioioioioioioioioioioioioioioioioioioioioioioioioioioioioioioioioioioioioioioioioioioioioioioioioioioioioioioioioioioioioioioioioioioioioioioioioioioioioioioioioioioioioioioioioioioioioioioioioioioioioioioioioioioioioioioioioioioioioioioioioioioioioioioioioioioioioioioioioioioioioioioioioioioioioioioioioioioioioioioioioioioioioioioioioioioioioioioioioioioioioioioioioioioioioioioioioioioioioioioioioioioioioioioioioioioioioioioioioioioioioioioioioioioioioioioioioioioioioioioioioioioioioioioioioioioioioioioioioioioioioioioioioioioioioioioioioioioioioioioioioioioioioioioioioioioioioioioioioioioioioioioioioioioioioioioioioioioioioioioioioioioioioioioioioioioioioioioioioioioioioioioioioioioioioioioioioioioioioioioioioioioioioioioioioioioioioioioioioioioioioioioioioioioioioioioioioioioioioioioioioioioioioioioioioioioioioioioioioioioioioioioioioioioioioioioioioioioioioioioioioioioioioioioioioioioioioioioioioioioioioioioioioioioioioioioioioioioioioioioioioioioioioioioioioioioioioioioioioioioioioioioioioioioioioioioioioioioioioioioioioioioioioioioioioioioioioioioioioioioioioioioioioioioioioioioioioioioioioioioioioioioioioioioioioioioioioioioioioioioioioioioioioioioioioioioioioioioioioioioioioioioioioioioioioioioioioioioioioioioioioioioioioioioioioioioioioioioioioioioioioioioioioioioioioioioioioioioioioioioioioioioioioioioioioioioioioioioioioioioioioioioioioioioioioioioioioioioioioioioioioioioioioioioioioioioioioioioioioioioioioioioioioioioioioioioioioioioioioioioioioioioioioioioioioioioioioioioioioioioioioioioioioioioioioioioioioioioioioioioioioioioioioioioioioioioioioioioioioioioioioioioioioioioioioioioioioioioioioioioioioioioioioioioioioioioioioioioioioioioioioioioioioioioioioioioioioioioioioioioioioioioioioioioioioioioioioioioioioioioioioioioioioioioioioioioioioioioioioioi\""
   ]
  },
  {
   "cell_type": "markdown",
   "id": "1e35176c-8129-48a3-b1e7-1ed9b37af88b",
   "metadata": {},
   "source": [
    "#### 2.2 \n",
    "Declare duas variáveis\n",
    "\n",
    "```julia\n",
    "a = 3\n",
    "b = 4\n",
    "```\n",
    "use-as para criar duas strings:\n",
    "```julia\n",
    "\"3 + 4\"\n",
    "\"7\" \n",
    "```\n",
    "e armazene os resultados em `c` and `d` respectivamente"
   ]
  },
  {
   "cell_type": "code",
   "execution_count": 22,
   "id": "5b2da8f2-a186-4547-b6eb-993fb6a711b9",
   "metadata": {
    "tags": []
   },
   "outputs": [
    {
     "data": {
      "text/latex": [
       "\\begin{verbatim}\n",
       "@assert cond [text]\n",
       "\\end{verbatim}\n",
       "Throw an \\href{@ref}{\\texttt{AssertionError}} if \\texttt{cond} is \\texttt{false}. Preferred syntax for writing assertions. Message \\texttt{text} is optionally displayed upon assertion failure.\n",
       "\n",
       "\\begin{quote}\n",
       "\\textbf{warning}\n",
       "\n",
       "Warning\n",
       "\n",
       "An assert might be disabled at various optimization levels. Assert should therefore only be used as a debugging tool and not used for authentication verification (e.g., verifying passwords), nor should side effects needed for the function to work correctly be used inside of asserts.\n",
       "\n",
       "\\end{quote}\n",
       "\\section{Examples}\n",
       "\\begin{verbatim}\n",
       "julia> @assert iseven(3) \"3 is an odd number!\"\n",
       "ERROR: AssertionError: 3 is an odd number!\n",
       "\n",
       "julia> @assert isodd(3) \"What even are numbers?\"\n",
       "\\end{verbatim}\n"
      ],
      "text/markdown": [
       "```\n",
       "@assert cond [text]\n",
       "```\n",
       "\n",
       "Throw an [`AssertionError`](@ref) if `cond` is `false`. Preferred syntax for writing assertions. Message `text` is optionally displayed upon assertion failure.\n",
       "\n",
       "!!! warning\n",
       "    An assert might be disabled at various optimization levels. Assert should therefore only be used as a debugging tool and not used for authentication verification (e.g., verifying passwords), nor should side effects needed for the function to work correctly be used inside of asserts.\n",
       "\n",
       "\n",
       "# Examples\n",
       "\n",
       "```jldoctest\n",
       "julia> @assert iseven(3) \"3 is an odd number!\"\n",
       "ERROR: AssertionError: 3 is an odd number!\n",
       "\n",
       "julia> @assert isodd(3) \"What even are numbers?\"\n",
       "```\n"
      ],
      "text/plain": [
       "\u001b[36m  @assert cond [text]\u001b[39m\n",
       "\n",
       "  Throw an \u001b[36mAssertionError\u001b[39m if \u001b[36mcond\u001b[39m is \u001b[36mfalse\u001b[39m. Preferred syntax for writing\n",
       "  assertions. Message \u001b[36mtext\u001b[39m is optionally displayed upon assertion failure.\n",
       "\n",
       "\u001b[33m\u001b[1m  │ \u001b[22m\u001b[39m\u001b[33m\u001b[1mWarning\u001b[22m\u001b[39m\n",
       "\u001b[33m\u001b[1m  │\u001b[22m\u001b[39m\n",
       "\u001b[33m\u001b[1m  │\u001b[22m\u001b[39m  An assert might be disabled at various optimization levels. Assert\n",
       "\u001b[33m\u001b[1m  │\u001b[22m\u001b[39m  should therefore only be used as a debugging tool and not used for\n",
       "\u001b[33m\u001b[1m  │\u001b[22m\u001b[39m  authentication verification (e.g., verifying passwords), nor\n",
       "\u001b[33m\u001b[1m  │\u001b[22m\u001b[39m  should side effects needed for the function to work correctly be\n",
       "\u001b[33m\u001b[1m  │\u001b[22m\u001b[39m  used inside of asserts.\n",
       "\n",
       "\u001b[1m  Examples\u001b[22m\n",
       "\u001b[1m  ≡≡≡≡≡≡≡≡≡≡\u001b[22m\n",
       "\n",
       "\u001b[36m  julia> @assert iseven(3) \"3 is an odd number!\"\u001b[39m\n",
       "\u001b[36m  ERROR: AssertionError: 3 is an odd number!\u001b[39m\n",
       "\u001b[36m  \u001b[39m\n",
       "\u001b[36m  julia> @assert isodd(3) \"What even are numbers?\"\u001b[39m"
      ]
     },
     "execution_count": 22,
     "metadata": {},
     "output_type": "execute_result"
    }
   ],
   "source": [
    "?@assert"
   ]
  },
  {
   "cell_type": "code",
   "execution_count": 23,
   "id": "7b1a82f1-e4ff-4298-8e31-a0126c4a9051",
   "metadata": {
    "nbgrader": {
     "checksum": "fad4e601d321aac4b6a1ea9b4e859309",
     "grade": false,
     "grade_id": "cell-36beb524c8ecd33b",
     "locked": false,
     "schema_version": 1,
     "solution": true
    }
   },
   "outputs": [],
   "source": [
    "a = 3\n",
    "b = 4\n",
    "c = string(a,\" + \", b)\n",
    "d = string(a+b);"
   ]
  },
  {
   "cell_type": "code",
   "execution_count": 26,
   "id": "76ae49ad-a707-4c24-a423-93aec984d17f",
   "metadata": {
    "editable": false,
    "hide_input": true,
    "nbgrader": {
     "checksum": "191b413e8c273e1d2c6423d090ce6f0f",
     "grade": true,
     "grade_id": "cell-14c3c5b015a97892",
     "locked": true,
     "points": 1,
     "schema_version": 1,
     "solution": false
    }
   },
   "outputs": [],
   "source": [
    "@assert c == \"3 + 4\"\n",
    "@assert d == \"7\""
   ]
  },
  {
   "cell_type": "code",
   "execution_count": null,
   "id": "a4f16063-4a03-46c1-a3f8-6dedd1478043",
   "metadata": {},
   "outputs": [],
   "source": [
    "Por favor clique em `Validate` no topo, uma vez terminados os exercícios."
   ]
  }
 ],
 "metadata": {
  "kernelspec": {
   "display_name": "Julia 1.6.1",
   "language": "julia",
   "name": "julia-1.6"
  },
  "language_info": {
   "file_extension": ".jl",
   "mimetype": "application/julia",
   "name": "julia",
   "version": "1.6.1"
  }
 },
 "nbformat": 4,
 "nbformat_minor": 5
}
