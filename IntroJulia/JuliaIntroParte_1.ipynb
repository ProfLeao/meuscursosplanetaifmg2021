{
 "cells": [
  {
   "cell_type": "markdown",
   "id": "available-experience",
   "metadata": {},
   "source": [
    "# INTRODUÇÃO À LINGUAGEM JULIA\n",
    "(1ª Parte)\n",
    "\n",
    "---\n",
    "## Prof. Dr. Reginaldo Gonçalves Leão Junior¹²³ (reginaldo.junior@ifmg.edu.br)\n",
    "#### Júlia Maria LealFirme²\n",
    "#### Filipe Morais de Faria²\n",
    "#### Gabriel Junior Leal²\n",
    "#### Wallyson Da Silva Fortunato²\n",
    "#### Luis Fillipe Camargos²\n",
    "\n",
    "1. *Grupo de Estudos em Sistemas Energéticos e Simulação Computacional (GESESC)*\n",
    "2. *IFMG - Campus Arcos*\n",
    "3. *Departamento de Engenharia Nuclear - UFMG*\n",
    "---"
   ]
  },
  {
   "cell_type": "markdown",
   "id": "strong-inventory",
   "metadata": {},
   "source": [
    "## *Hello World!*\n",
    "Começando com um bom e velho *Hello World*... \n",
    "\n",
    "A expressão é inglês geralmente é utilazada como exemplo para a intrudução à toda linguagem de programação. Em *Julia* para a exibição de um valor no dispositivo de saída padrão do seu sistema (`stdout`) se usa a função `print()` ou `println()`. "
   ]
  },
  {
   "cell_type": "code",
   "execution_count": 4,
   "id": "opponent-division",
   "metadata": {},
   "outputs": [
    {
     "name": "stdout",
     "output_type": "stream",
     "text": [
      "Hello World!"
     ]
    }
   ],
   "source": [
    "print(\"Hello World!\")"
   ]
  },
  {
   "cell_type": "code",
   "execution_count": 6,
   "id": "human-draft",
   "metadata": {},
   "outputs": [
    {
     "name": "stdout",
     "output_type": "stream",
     "text": [
      "Hello World\n"
     ]
    }
   ],
   "source": [
    "println(\"Hello World\")"
   ]
  },
  {
   "cell_type": "markdown",
   "id": "neutral-accommodation",
   "metadata": {},
   "source": [
    "Agora vamos entender a diferença entre as duas funções.\n",
    "\n",
    "- `print()` exibe o valor no dispositivo de saída padrão.\n",
    "- `println()` exibe o valor no dispositivo de saída padrão e insere um quebra de linha."
   ]
  },
  {
   "cell_type": "code",
   "execution_count": 7,
   "id": "informed-australia",
   "metadata": {},
   "outputs": [
    {
     "name": "stdout",
     "output_type": "stream",
     "text": [
      "01 - Chamada à função print.02 - Chamada à função print.03 - Chamada à função println.\n",
      "04 - Chamada à função print."
     ]
    }
   ],
   "source": [
    "print(\"01 - Chamada à função print.\")\n",
    "print(\"02 - Chamada à função print.\")\n",
    "println(\"03 - Chamada à função println.\")\n",
    "print(\"04 - Chamada à função print.\")"
   ]
  },
  {
   "cell_type": "markdown",
   "id": "registered-paragraph",
   "metadata": {},
   "source": [
    "## Operações Matemática Básicas\n",
    "Os operadores matemáticos são utilizados em Julia pelos seguintes operadores.\n",
    "\n",
    "Operação        | Operador | Tipo\n",
    "----------------|----------|-----------------\n",
    "Soma            | `+`      | Binário e Unário\n",
    "Subtração       | `-`      | Binário e Unário\n",
    "Divisão         | `/`      | Binário\n",
    "Multiplicação   | `*`      | Binário\n",
    "Potenciação     | `^`      | Binário\n",
    "Resto da Divisão| `%`      | Binário\n",
    "\n",
    "Nas linhas abaixo são apresentados exemplos de utilização.\n",
    "\n",
    "Também são usadas linhas de comentário - linhas iniciadas pelo caractere `#`, que são trechos de um programa que não serão executados e servem para adicionar informações adicionais ao código."
   ]
  },
  {
   "cell_type": "code",
   "execution_count": 2,
   "id": "vocal-belfast",
   "metadata": {},
   "outputs": [
    {
     "name": "stdout",
     "output_type": "stream",
     "text": [
      "a) Soma: 5 + 5 =  10\n",
      "b) Subtração: 20 - 5 = 15\n",
      "c) Divisão: 20 : 5 = 4.0\n",
      "d) Multiplicação: 2 x 4 = 8\n",
      "e) Potenciação: 2³ = 8\n",
      "f) Resto da divisão: 20 % 3 =2\n"
     ]
    }
   ],
   "source": [
    "# Isto é um comentário\n",
    "# Soma\n",
    "println(\"a) Soma: 5 + 5 =  \", 5+5)\n",
    "# Subtração\n",
    "println(\"b) Subtração: 20 - 5 = \",20-5)\n",
    "# Divisão\n",
    "println(\"c) Divisão: 20 : 5 = \", 20/5)\n",
    "# Multiplicação\n",
    "println(\"d) Multiplicação: 2 x 4 = \", 2*4)\n",
    "# Potenciação\n",
    "println(\"e) Potenciação: 2³ = \", 2^3)\n",
    "# Resto da Divisão\n",
    "println(\"f) Resto da divisão: 20 % 3 =\", 20%3 )"
   ]
  },
  {
   "cell_type": "markdown",
   "id": "accredited-reservation",
   "metadata": {},
   "source": [
    "Já que falamos de comentários, eles podem ocupar mais de uma linha utilizando a seguinte sintexe:\n",
    "\n",
    "~~~ Julia\n",
    "#=\n",
    "    Esse é um comentário\n",
    "    que pode ocupar quantas\n",
    "    linhas você desejar\n",
    "=#\n",
    "~~~"
   ]
  },
  {
   "cell_type": "markdown",
   "id": "organic-trial",
   "metadata": {},
   "source": [
    "## Atribuição de Variáveis\n",
    "Em toda linguagem de programação, uma das tarefas mais comuns é o armazenamento de valores na memória durante a execução do programa. A maneira mais convencional de fazê-lo é atribuindo o valor que se desja armazenar a uma variável. Este processo se denomina atribuição e é feito por meio do operador binário de atribuição `=`. "
   ]
  },
  {
   "cell_type": "code",
   "execution_count": 34,
   "id": "annual-waste",
   "metadata": {},
   "outputs": [
    {
     "data": {
      "text/plain": [
       "20"
      ]
     },
     "execution_count": 34,
     "metadata": {},
     "output_type": "execute_result"
    }
   ],
   "source": [
    "var = 20"
   ]
  },
  {
   "cell_type": "markdown",
   "id": "lyric-south",
   "metadata": {},
   "source": [
    "Os nomes das variáveis devem obedecer as seguintes regras:\n",
    "\n",
    "1. Os nomes das variáveis devem iniciar por letras ou pelo caractere `_`.\n",
    "2. Nomes de variáveis não devem possuir caracteres especiais exceto `_`. \n",
    "3. Os nomes das variáveis podem conter números, mas estes não podem ser o primeiro caractere do nome. `var1` é um nome válido, mas `1var` não é um nome válido.\n",
    "\n",
    "Apesar dessas restrições, Julia oferece uma funcionalidade incomum entre linguagens de programação, ela suporta o uso de qualquer caractere Unicode como nome de variável ou componente de uma expressão. Veja a operação matemática abaixo.\n",
    "\n",
    "*Exemplo 1* \n",
    "Joãozinho tem 4 maçãs, se ele ganhar outras três maçãs, quantas ele terá?"
   ]
  },
  {
   "cell_type": "code",
   "execution_count": 41,
   "id": "refined-manchester",
   "metadata": {},
   "outputs": [
    {
     "data": {
      "text/plain": [
       "7"
      ]
     },
     "execution_count": 41,
     "metadata": {},
     "output_type": "execute_result"
    }
   ],
   "source": [
    "🍎= 1\n",
    "😄 = 4 * 🍎 # Maçãs de Joãozinh\\:laughing:\n",
    "😄 = 😄 + 3 * 🍎\n",
    "# Pra que será que isso serve?"
   ]
  },
  {
   "cell_type": "markdown",
   "id": "hairy-admission",
   "metadata": {},
   "source": [
    "A vantagem desse recurso é que podemos criar variáveis com nomes matematicamente sugestivos como os mostrados abaixo, mas eu mesmo não uso esse recurso. "
   ]
  },
  {
   "cell_type": "code",
   "execution_count": null,
   "id": "aging-orchestra",
   "metadata": {},
   "outputs": [],
   "source": [
    "Ω =  25;\n",
    "Δ = 100;\n",
    "Ψ = 1000;"
   ]
  },
  {
   "cell_type": "markdown",
   "id": "beautiful-coffee",
   "metadata": {},
   "source": [
    "## Tipos de Dados Básicos de Julia\n",
    "\n",
    "Ainda que Julia proveja um grande número de tipos de dados básicos os principais podem ser divididos em quadro grupos. \n",
    "\n",
    "__Os inteiros (`int`)__, são tipos que representam valores que não possuem parte decimal 10, -5, 20, 100 e 50030 são exemplos de números inteiros. Por padrão os inteiros em Julia são do tipo `Int64` que são números inteiros de  64 bits. Mas formatos de 8 bits até 128 bits estão disponívies na linguagem. \n",
    "\n",
    "Da mesma forma __os números decimais (`float`)__, que são valores que possuem tanto parte inteira quanto decimal, são por padrão implementados como `Float64` e podem armazenar valores de 64 bits.\n",
    "\n",
    "Tipo __lógico ou booleano (`bool`)__ armazena apenas valores `true` ou `false`. \n",
    "\n",
    "E finalmente o tipo __complexo (`complex`)__ armazenam valores que possuem parte real e imaginária e devem ser declarados na forma `(parte_real) + (parte_imaginaria)im`, na listagem abaixo são mostradas inicializações de variáveis de cada um dos tipos, seguido da chamada à função `typeof()`que retorna o tipo do dado passado como argumento para a função."
   ]
  },
  {
   "cell_type": "code",
   "execution_count": 3,
   "id": "ahead-advertiser",
   "metadata": {},
   "outputs": [
    {
     "name": "stdout",
     "output_type": "stream",
     "text": [
      "Int64\n",
      "Float64\n",
      "Bool\n",
      "ComplexF64\n"
     ]
    }
   ],
   "source": [
    "inteiro = 100\n",
    "decimal = 200.10\n",
    "logico = true\n",
    "complexo = 200.10 + 100im\n",
    "\n",
    "println(typeof(inteiro))\n",
    "println(typeof(decimal))\n",
    "println(typeof(logico))\n",
    "println(typeof(complexo))"
   ]
  },
  {
   "cell_type": "markdown",
   "id": "regional-agent",
   "metadata": {},
   "source": [
    "## Strings e Caracteres\n",
    "\n",
    "### AVISO AOS PYTHONISTAS:\n",
    "\n",
    "__SIM__, Julia faz distinção entre caracteres e strings.\n",
    "\n",
    "A declaração de um caractere em Julia é realizada utilizando-se aspas simples."
   ]
  },
  {
   "cell_type": "code",
   "execution_count": 5,
   "id": "decreased-thumbnail",
   "metadata": {},
   "outputs": [
    {
     "data": {
      "text/plain": [
       "'C': ASCII/Unicode U+0043 (category Lu: Letter, uppercase)"
      ]
     },
     "execution_count": 5,
     "metadata": {},
     "output_type": "execute_result"
    }
   ],
   "source": [
    "caractere = 'C'"
   ]
  },
  {
   "cell_type": "markdown",
   "id": "insured-benchmark",
   "metadata": {},
   "source": [
    "No entanto, se eu tentar fazer algo dessa natureza `caractere = 'car'` então eu terei um erro de sintaxe, conforme mostrado abaixo."
   ]
  },
  {
   "cell_type": "code",
   "execution_count": 7,
   "id": "expected-squad",
   "metadata": {},
   "outputs": [
    {
     "ename": "LoadError",
     "evalue": "syntax: character literal contains multiple characters",
     "output_type": "error",
     "traceback": [
      "syntax: character literal contains multiple characters",
      "",
      "Stacktrace:",
      " [1] top-level scope",
      "   @ In[7]:1",
      " [2] eval",
      "   @ ./boot.jl:360 [inlined]",
      " [3] include_string(mapexpr::typeof(REPL.softscope), mod::Module, code::String, filename::String)",
      "   @ Base ./loading.jl:1094"
     ]
    }
   ],
   "source": [
    "caractere = 'car'"
   ]
  },
  {
   "cell_type": "markdown",
   "id": "willing-sample",
   "metadata": {},
   "source": [
    "Conjuntos de caracteres, ou cadeias de caracteres, como são mais conhecidas as strings no mundo da programação, são definidas utilizando-se aspas duplas."
   ]
  },
  {
   "cell_type": "code",
   "execution_count": 9,
   "id": "empirical-gossip",
   "metadata": {},
   "outputs": [
    {
     "data": {
      "text/plain": [
       "\"reginaldo da silva sauro\""
      ]
     },
     "execution_count": 9,
     "metadata": {},
     "output_type": "execute_result"
    }
   ],
   "source": [
    "nome = \"reginaldo da silva sauro\""
   ]
  },
  {
   "cell_type": "markdown",
   "id": "simplified-motor",
   "metadata": {},
   "source": [
    "### Interpolação de Strings\n",
    "\n",
    "Nos exemplos de utilização de operadores matemáticos, utilizamos o seguinte método para exibir simultaneamente, uma string, e o resultado de uma operação matemática.\n",
    "\n",
    "~~~Julia\n",
    "println(\"a) Soma: 5 + 5 =  \", 5+5)\n",
    "~~~\n",
    "\n",
    "Veja que dois argumentos (dois valores) foram passados para a função `println()` a string e a operação. \n",
    "Existe uma forma ligeiramente mais elegante de fazer isto por meio do recurso de *Interpolação de String* da linguagem.\n",
    "\n",
    "Apenas para a primeira exemplificação, vamos mudar o código utilizado como exemplo para a seguite forma:"
   ]
  },
  {
   "cell_type": "code",
   "execution_count": 11,
   "id": "floppy-tiffany",
   "metadata": {},
   "outputs": [
    {
     "name": "stdout",
     "output_type": "stream",
     "text": [
      "a) Soma: 5 + 5 =  10\n"
     ]
    }
   ],
   "source": [
    "soma = 5+5\n",
    "println(\"a) Soma: 5 + 5 =  \", soma)"
   ]
  },
  {
   "cell_type": "markdown",
   "id": "comparable-nation",
   "metadata": {},
   "source": [
    "Note que criamos uma variável intermediária denominada soma, agora suponha que desejemos interpolar essa variável com a string. O termo interpolar gramaticalmente quer dizer, *introduzir algo em um texto*. Para interpolar a variável `soma` com a string fazemos:"
   ]
  },
  {
   "cell_type": "code",
   "execution_count": 13,
   "id": "exempt-costa",
   "metadata": {},
   "outputs": [
    {
     "name": "stdout",
     "output_type": "stream",
     "text": [
      "a) Soma: 5 + 5 =  10\n"
     ]
    }
   ],
   "source": [
    "println(\"a) Soma: 5 + 5 =  $soma\")"
   ]
  },
  {
   "cell_type": "markdown",
   "id": "accepting-season",
   "metadata": {},
   "source": [
    "Veja que agora, apenas um argumento foi passado a função `println()` uma string. No entanto, dentro dela, encontramos a seguinte sequência `$soma`, que é exatamente o ponto onde ocorre a interpolação. O caractere `$` nesse contexto, diz a Julia que o que está anexo a ele é algo que deve ser tratado computacionalmente, exatamente como o restante do código.\n",
    "\n",
    "Porem, a variável adicional não é necessária, a operação matemática poderia ser realizada diretamente dentro da string simplesmente englobando a operação com parênteses."
   ]
  },
  {
   "cell_type": "code",
   "execution_count": 14,
   "id": "documentary-click",
   "metadata": {},
   "outputs": [
    {
     "name": "stdout",
     "output_type": "stream",
     "text": [
      "a) Soma: 5 + 5 =  10\n"
     ]
    }
   ],
   "source": [
    "println(\"a) Soma: 5 + 5 =  $(5+5)\")"
   ]
  },
  {
   "cell_type": "markdown",
   "id": "naval-stupid",
   "metadata": {},
   "source": [
    "Em programação, é fundamental sempre manter em mente que, qualquer otimização de desempenho de seu código em termos de consumo de recursos computacionais é bem vinda. Reduzir o número de variáveis criadas, otimiza o consumo de memória RAM do seu programa. "
   ]
  },
  {
   "cell_type": "markdown",
   "id": "animated-japan",
   "metadata": {},
   "source": [
    "### Concatenação de Strings\n",
    "\n",
    "Quem já programa em outroas linguagens, vai indeitificar aqui algo estranho na linguagem Julia, porem, a sintaxe incomum de Julia para tratar de concatenação de strings funciona muito bem, sendo necessário apenas que o programador se acostume a isso.\n",
    "\n",
    "Mas se você nunca programou antes, saiba que o termo concatenar strings, significa combiná-las para produzir uma nova a partir daquelas combinadas. Veja o exemplo abaixo."
   ]
  },
  {
   "cell_type": "code",
   "execution_count": 20,
   "id": "pediatric-spank",
   "metadata": {},
   "outputs": [
    {
     "data": {
      "text/plain": [
       "\"FÍGADO é delicioso!\""
      ]
     },
     "execution_count": 20,
     "metadata": {},
     "output_type": "execute_result"
    }
   ],
   "source": [
    "proteina = \"FÍGADO \";\n",
    "verbo = \"é \";\n",
    "opiniao_irrefutavel = \"delicioso!\";\n",
    "\n",
    "obvio = proteina*verbo*opiniao_irrefutavel"
   ]
  },
  {
   "cell_type": "markdown",
   "id": "nutritional-count",
   "metadata": {},
   "source": [
    "Aí está, veja que quando o operador `*`foi utilizado com as variáveis que continham strings, ele combinou strings envolvidas para produzir uma nova e armazenar na nova variável `obvio`. Existe ainda a função `string()` que realiza o mesmo procedimento da seguinte maneira:"
   ]
  },
  {
   "cell_type": "code",
   "execution_count": 21,
   "id": "horizontal-mirror",
   "metadata": {},
   "outputs": [
    {
     "data": {
      "text/plain": [
       "\"É claro que FÍGADO é delicioso!\""
      ]
     },
     "execution_count": 21,
     "metadata": {},
     "output_type": "execute_result"
    }
   ],
   "source": [
    "obvio2 = string(\"É claro que \", proteina, verbo, opiniao_irrefutavel)"
   ]
  },
  {
   "cell_type": "markdown",
   "id": "oriented-imagination",
   "metadata": {},
   "source": [
    "Em alguns casos, a automatização da repetição de trechos de strings ou caracteres pode ser útil para tratar alguns problemas. A função `repeat()` faz esse trabalho."
   ]
  },
  {
   "cell_type": "code",
   "execution_count": 22,
   "id": "graduate-archives",
   "metadata": {},
   "outputs": [
    {
     "data": {
      "text/plain": [
       "\"FÍGADO FÍGADO  é melhor que FÍGADO \""
      ]
     },
     "execution_count": 22,
     "metadata": {},
     "output_type": "execute_result"
    }
   ],
   "source": [
    "repeat(proteina, 2) * \" é melhor que \" * proteina"
   ]
  },
  {
   "cell_type": "markdown",
   "id": "leading-romania",
   "metadata": {},
   "source": [
    "Outra possibilidade seria utilizando o operador `^` para o mesmo propósito. "
   ]
  },
  {
   "cell_type": "code",
   "execution_count": 23,
   "id": "assumed-parent",
   "metadata": {},
   "outputs": [
    {
     "data": {
      "text/plain": [
       "\"FÍGADO é bom, FÍGADO FÍGADO  é ainda melhor mas ... FÍGADO FÍGADO FÍGADO É bom demais!\""
      ]
     },
     "execution_count": 23,
     "metadata": {},
     "output_type": "execute_result"
    }
   ],
   "source": [
    "proteina * \"é bom, \" * proteina^2 * \" é ainda melhor mas ... \" * proteina^3 * \"É bom demais!\""
   ]
  },
  {
   "cell_type": "markdown",
   "id": "forty-latter",
   "metadata": {},
   "source": [
    "E aí programadores de outras linguagens? Estranho né ? Mas funciona muito bem!!!"
   ]
  },
  {
   "cell_type": "markdown",
   "id": "altered-devices",
   "metadata": {},
   "source": [
    "## Operadores Relacionais e Lógicos\n",
    "Em qualquer linguagem de programação, os operadores relacionais realizam comparações entre valores e retornam a avaliação dessa comparação como sendo verdadeira (`true`) ou falsa (`false`). \n",
    "\n",
    "Para você entender bem isso vamos simular um jogo, dois jogadores vão lançar um dado três vezes sucessivas, aquele que obtiver maior soma, ganha o jogo. Para isso, utilizaremos a função `rand()` de Julia. "
   ]
  },
  {
   "cell_type": "code",
   "execution_count": 49,
   "id": "thick-advance",
   "metadata": {},
   "outputs": [],
   "source": [
    "jogador1 = rand(1:6);\n",
    "jogador1 += rand(1:6);\n",
    "jogador1 += rand(1:6);\n",
    "jogador2 = rand(1:6);\n",
    "jogador2 += rand(1:6);\n",
    "jogador2 += rand(1:6);"
   ]
  },
  {
   "cell_type": "markdown",
   "id": "decreased-seller",
   "metadata": {},
   "source": [
    "| **IMPORTANTE:** O operador `+=` realiza a soma da variável (primeiro operando) com o segundo e atribui o novo resultado ao primeiro operando, ou seja, `jogador1 += rand(1:6)` equivale a `jogador1 = jogador1 + rand(1:6)`, esse tipo de procedimento pode ser realizado com todos os operadores matemáticos básicos. |\n",
    "----------\n",
    "\n",
    "---\n",
    "Agora podemos comparar o resultado obtido por cada jogador para determinar o vencedor.\n",
    "\n",
    "Na instrução abaixo, em primeiro lugar verificamos se houve um empate, se não,  verificamos se o jogador 1 teve a maior soma, se não, vence o jogador 2."
   ]
  },
  {
   "cell_type": "code",
   "execution_count": 52,
   "id": "induced-paraguay",
   "metadata": {},
   "outputs": [
    {
     "name": "stdout",
     "output_type": "stream",
     "text": [
      "false\n",
      "false\n"
     ]
    }
   ],
   "source": [
    "println(jogador1 == jogador2)\n",
    "println(jogador1 > jogador2)"
   ]
  },
  {
   "cell_type": "markdown",
   "id": "reliable-italy",
   "metadata": {},
   "source": [
    "Os operadores relacionais são os seguintes:\n",
    "\n",
    "Operação        | Operador \n",
    ":---------------|----------\n",
    "Igual a         | `==`     \n",
    "Maior que       | `>`      \n",
    "Menor que       | `<`      \n",
    "Maior ou igual a| `>=`     \n",
    "Menor ou igual a| `<=`     \n",
    "Diferente       | `!=`     "
   ]
  },
  {
   "cell_type": "markdown",
   "id": "ranging-ridge",
   "metadata": {},
   "source": [
    "Já os operadores lógicos binários operam com valores boolenos e não realizam comparação. O que fazem é verificar a se seus operados são `true` ou `false` e retornar outro booleano segundo seus critérios de avaliação. Nesse curso falaremos dos operadores booleanos **OU (`||`)** e **E (`&&`)**.\n",
    "\n",
    "__O operador OU, retorna `true` quando pelo menos um, ou ambos os operados é `true`. Já o operador E só retorna `true` se os dois operados forem `true`.__  Veja nos exemplos abaixo."
   ]
  },
  {
   "cell_type": "code",
   "execution_count": 61,
   "id": "applicable-relay",
   "metadata": {},
   "outputs": [
    {
     "name": "stdout",
     "output_type": "stream",
     "text": [
      "Testes com o operador lógico OU\n",
      "true\n",
      "false\n",
      "true\n",
      "Testes com o operador lógico E\n",
      "false\n",
      "false\n",
      "true\n"
     ]
    }
   ],
   "source": [
    "println(\"Testes com o operador lógico OU\")\n",
    "println(5>2 || 2>5)  # true pois o primeiro operando (5>2) é verdadeiro\n",
    "println(5==2 || 2>5) # false pois os dois operandos são falsos \n",
    "println(5>2 || 2<5)  # true pois os dois operandos são verdadeiros\n",
    "\n",
    "println(\"Testes com o operador lógico E\")\n",
    "println(5>2 && 2>5)  # true pois o primeiro operando (5>2) é verdadeiro\n",
    "println(5==2 && 2>5) # false pois os dois operandos são falsos \n",
    "println(5>2 && 2<5)  # true pois os dois operandos são verdadeiros"
   ]
  },
  {
   "cell_type": "markdown",
   "id": "optimum-planet",
   "metadata": {},
   "source": [
    "Existe ainda um terceiro operador lógico, porém unário, o operador NEGAÇÃO (`!`). Ele realiza a negação de um valor lógico qualquer, logo um `true` negado será um `false`e um `false` negado será um `true`. \n",
    "\n",
    "Veja como ficariam os exemplos anteriores negados."
   ]
  },
  {
   "cell_type": "code",
   "execution_count": 63,
   "id": "recent-missouri",
   "metadata": {},
   "outputs": [
    {
     "name": "stdout",
     "output_type": "stream",
     "text": [
      "Testes com o operador lógico OU negado\n",
      "false\n",
      "true\n",
      "false\n",
      "Testes com o operador lógico E negado\n",
      "true\n",
      "true\n",
      "false\n"
     ]
    }
   ],
   "source": [
    "println(\"Testes com o operador lógico OU negado\")\n",
    "println(!(5>2 || 2>5))  # true pois o primeiro operando (5>2) é verdadeiro\n",
    "println(!(5==2 || 2>5)) # false pois os dois operandos são falsos \n",
    "println(!(5>2 || 2<5))  # true pois os dois operandos são verdadeiros\n",
    "\n",
    "println(\"Testes com o operador lógico E negado\")\n",
    "println(!(5>2 && 2>5))  # true pois o primeiro operando (5>2) é verdadeiro\n",
    "println(!(5==2 && 2>5)) # false pois os dois operandos são falsos \n",
    "println(!\n",
    "    (5>2 && 2<5))  # true pois os dois operandos são verdadeiros"
   ]
  },
  {
   "cell_type": "markdown",
   "id": "realistic-blind",
   "metadata": {},
   "source": [
    "**Muito bem pessoal, acho que já deve ser hora de almoçar.**"
   ]
  },
  {
   "cell_type": "markdown",
   "id": "miniature-competition",
   "metadata": {},
   "source": [
    "## *ESSE CURSO FOI PRODUZIDO PELO _GRUPO DE ESTUDOS EM SISTEMAS ENERGÉTICOS E SIMULAÇÃO COMPUTACIONAL_ (GESESC)*\n",
    "![GESESC](logo_gesesc.png)\n",
    "\n",
    "### *Todos os direitos reservados segundo os termos da licença MIT*"
   ]
  },
  {
   "cell_type": "code",
   "execution_count": null,
   "id": "anticipated-details",
   "metadata": {},
   "outputs": [],
   "source": []
  }
 ],
 "metadata": {
  "kernelspec": {
   "display_name": "julia1.6 1.6.1",
   "language": "julia",
   "name": "julia1.6-1.6"
  },
  "language_info": {
   "file_extension": ".jl",
   "mimetype": "application/julia",
   "name": "julia",
   "version": "1.6.1"
  }
 },
 "nbformat": 4,
 "nbformat_minor": 5
}
