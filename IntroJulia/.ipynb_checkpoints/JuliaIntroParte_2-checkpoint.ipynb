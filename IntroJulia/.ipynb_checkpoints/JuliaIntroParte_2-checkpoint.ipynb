{
 "cells": [
  {
   "cell_type": "markdown",
   "id": "smoking-steal",
   "metadata": {},
   "source": [
    "# INTRODUÇÃO À LINGUAGEM JULIA\n",
    "(2ª Parte)\n",
    "\n",
    "---\n",
    "## Prof. Dr. Reginaldo Gonçalves Leão Junior¹²³ (reginaldo.junior@ifmg.edu.br)\n",
    "#### Júlia Maria Leal Firme²\n",
    "#### Filipe Morais de Faria²\n",
    "#### Gabriel Junior Leal²\n",
    "#### Wallyson Da Silva Fortunato²\n",
    "#### Luis Fillipe Camargos²\n",
    "\n",
    "1. *Grupo de Estudos em Sistemas Energéticos e Simulação Computacional (GESESC)*\n",
    "2. *IFMG - Campus Arcos*\n",
    "3. *Departamento de Engenharia Nuclear - UFMG*\n",
    "---"
   ]
  },
  {
   "cell_type": "markdown",
   "id": "bulgarian-theme",
   "metadata": {},
   "source": [
    "## Blocos de Execução Condicional\n",
    "\n",
    "Os operadores relacionais e lógicos, são destinados, na grande maioria das vezes a comporem crivos de execução para determinados blocos de código. Ou seja, determinar quando um determinado bloco de código de execução condicional, deve ou não ser executado. \n",
    "\n",
    "Para criar um blodo de código de execução concidicional, utilizamos as palavras reservadas da linguagem `if` e `end`. Um exemplo simples poderia ser feito para exibir uma mensagem informando se um determinado número inteiro é par ou ímpar. Da seguinte forma:"
   ]
  },
  {
   "cell_type": "code",
   "execution_count": 1,
   "id": "honest-polish",
   "metadata": {},
   "outputs": [
    {
     "name": "stdout",
     "output_type": "stream",
     "text": [
      "O número 21 é impar.\n"
     ]
    }
   ],
   "source": [
    "num = 21\n",
    "if num%2 == 0\n",
    "    println(\"O número $num é par.\")\n",
    "end\n",
    "if num%2 != 0\n",
    "    println(\"O número $num é impar.\")\n",
    "end"
   ]
  },
  {
   "cell_type": "markdown",
   "id": "thirty-spotlight",
   "metadata": {},
   "source": [
    "Note que `if` e `end`delimitam o bloco de execução condicional e o verificação relacional à direita de `if` especifíca o critério de execução daquele bloco. \n",
    "\n",
    "O caso anterior, no entanto, poderia ser simplificado para uma estrutura mais elegante, caso fosse garantido inexistência de excessões para o valor de `num`. Isto quer dizer que, se de alguma forma o programador garantir que `num` atenderá os critérios de teste, por exemplo, ser sempre inteiro e maior ou igual a zero, então a palavra reservada `else` poderia ser utilizada no lugar do segundo bloco `if`. "
   ]
  },
  {
   "cell_type": "code",
   "execution_count": 2,
   "id": "weighted-bandwidth",
   "metadata": {},
   "outputs": [
    {
     "name": "stdout",
     "output_type": "stream",
     "text": [
      "O número 22 é par.\n"
     ]
    }
   ],
   "source": [
    "num = 22\n",
    "if num%2 == 0\n",
    "    println(\"O número $num é par.\")\n",
    "else\n",
    "    println(\"O número $num é impar.\")\n",
    "end"
   ]
  },
  {
   "cell_type": "code",
   "execution_count": 3,
   "id": "indie-workshop",
   "metadata": {},
   "outputs": [
    {
     "name": "stdout",
     "output_type": "stream",
     "text": [
      "O número 21 é impar.\n"
     ]
    }
   ],
   "source": [
    "num = 21\n",
    "if num%2 == 0\n",
    "    println(\"O número $num é par.\")\n",
    "else\n",
    "    println(\"O número $num é impar.\")\n",
    "end"
   ]
  },
  {
   "cell_type": "markdown",
   "id": "dress-accent",
   "metadata": {},
   "source": [
    "O bloco `else` será executado apenas se o bloco `if` não o for independete de quaisquer outros critérios. Isto exige que ele seja cuidadosamente utilizado, e que sejam garantidas as inocorrência de quaiquer excessões ao teste. Como a seguinte, por exemplo. "
   ]
  },
  {
   "cell_type": "code",
   "execution_count": 4,
   "id": "compound-authority",
   "metadata": {},
   "outputs": [
    {
     "name": "stdout",
     "output_type": "stream",
     "text": [
      "O número 2.2 é impar.\n"
     ]
    }
   ],
   "source": [
    "num = 2.2\n",
    "if num%2 == 0\n",
    "    println(\"O número $num é par.\")\n",
    "else\n",
    "    println(\"O número $num é impar.\")\n",
    "end"
   ]
  },
  {
   "cell_type": "markdown",
   "id": "sublime-evanescence",
   "metadata": {},
   "source": [
    "Veja que quando um `float`foi passado, o código determinou que o número é ímpar, no entanto, é sabido que a paridade é uma característica apenas de números inteiros, o que demonstra a debilidade do método como está implementado aqui, para valores de `num` inadequados.\n",
    "\n",
    "Para corrigirmos esse comportamento, poderíamos validar a entrada e usar o recurso de blocos de execução condicional aninhados, ou seja, blocos declarados dentro de outos blocos."
   ]
  },
  {
   "cell_type": "code",
   "execution_count": 5,
   "id": "specified-invite",
   "metadata": {},
   "outputs": [
    {
     "name": "stdout",
     "output_type": "stream",
     "text": [
      "O valor informado não possui paridade.\n"
     ]
    }
   ],
   "source": [
    "num = 2.5\n",
    "if typeof(num) == Int\n",
    "    if num%2 == 0\n",
    "        println(\"O número $num é par.\")\n",
    "    else\n",
    "        println(\"O número $num é impar.\")\n",
    "    end\n",
    "else\n",
    "    println(\"O valor informado não possui paridade.\")\n",
    "end"
   ]
  },
  {
   "cell_type": "markdown",
   "id": "loving-casino",
   "metadata": {},
   "source": [
    "Ainda é possível associar múltiplas verificações relacionais e lógicas sequenciais utilizando as palavra reservada `elseif`. No notebook anterior, um jogo de dados foi simulado, porém o teste lógico realizado foi bastante grosseiro. Podemos melhor esse teste, inclusive exibindo o resultado da avaliação relacional para o usuário. "
   ]
  },
  {
   "cell_type": "code",
   "execution_count": 6,
   "id": "sexual-ridge",
   "metadata": {},
   "outputs": [
    {
     "name": "stdout",
     "output_type": "stream",
     "text": [
      "Vitória do Jogador 1 com 16 pontos contra 9 pontos do Jogador 2.\n"
     ]
    }
   ],
   "source": [
    "# Jogadas sucessivas\n",
    "\n",
    "jogador1 = rand(1:6);\n",
    "jogador1 += rand(1:6);\n",
    "jogador1 += rand(1:6);\n",
    "jogador2 = rand(1:6);\n",
    "jogador2 += rand(1:6);\n",
    "jogador2 += rand(1:6);\n",
    "# Já já vamos melhorar essa coisa horrível aí em cima\n",
    "\n",
    "if jogador1 == jogador2\n",
    "    println(\"EMPATE!\")\n",
    "elseif jogador1 > jogador2\n",
    "    println(\"Vitória do Jogador 1 com $jogador1 pontos contra $jogador2 pontos do Jogador 2.\")\n",
    "else\n",
    "    println(\"Vitória do Jogador 2 com $jogador2 pontos contra $jogador1 pontos do Jogador 1.\")\n",
    "end"
   ]
  },
  {
   "cell_type": "markdown",
   "id": "ordinary-singer",
   "metadata": {},
   "source": [
    "## *Containers* de Julia\n",
    "\n",
    "*Containers* são tipos de dados abstratos, com os quais o usuário pode armazenar uma determinada **coleção** de \n",
    "valores de distintos tipos. \n",
    "\n",
    "Julia possui três tipos de *containers* distintos, as tuplas, os dicionários e os *arrays*. \n",
    "\n",
    "### Tuplas de Julia\n",
    "\n",
    "Tuplas são coleções imutáveis de dados sequenciais. As tuplas são inicializadas através da declaração de seus valores entre parênteses e separados por vírgulas, como mostrado abaixo."
   ]
  },
  {
   "cell_type": "code",
   "execution_count": 7,
   "id": "streaming-pizza",
   "metadata": {},
   "outputs": [
    {
     "data": {
      "text/plain": [
       "(22, 15.7, 198 + 80im, 'R', \"fígado\")"
      ]
     },
     "execution_count": 7,
     "metadata": {},
     "output_type": "execute_result"
    }
   ],
   "source": [
    "tupla1 = (22, 15.7, 198+80im, 'R', \"fígado\")"
   ]
  },
  {
   "cell_type": "markdown",
   "id": "paperback-tampa",
   "metadata": {},
   "source": [
    "Note a versatilidade da estrutura que é capaz de armazenar diferentes tipos de dados simultaneamente. Todavia é importante ressaltar mais uma vez que tuplas são imutáveis e seus ítens não podem ser modificados após a inicialização da estrutura. Veja como os valores dos ítens podem ser acessados individualmente e o que acontece quando tentamos modificar qualquer um desses valores."
   ]
  },
  {
   "cell_type": "code",
   "execution_count": 8,
   "id": "cognitive-indiana",
   "metadata": {},
   "outputs": [
    {
     "name": "stdout",
     "output_type": "stream",
     "text": [
      "22\n",
      "15.7\n",
      "198 + 80im\n",
      "R\n",
      "fígado\n"
     ]
    },
    {
     "ename": "LoadError",
     "evalue": "MethodError: no method matching setindex!(::Tuple{Int64, Float64, Complex{Int64}, Char, String}, ::String, ::Int64)",
     "output_type": "error",
     "traceback": [
      "MethodError: no method matching setindex!(::Tuple{Int64, Float64, Complex{Int64}, Char, String}, ::String, ::Int64)",
      "",
      "Stacktrace:",
      " [1] top-level scope",
      "   @ In[8]:6",
      " [2] eval",
      "   @ ./boot.jl:360 [inlined]",
      " [3] include_string(mapexpr::typeof(REPL.softscope), mod::Module, code::String, filename::String)",
      "   @ Base ./loading.jl:1094"
     ]
    }
   ],
   "source": [
    "println(tupla1[1])\n",
    "println(tupla1[2])\n",
    "println(tupla1[3])\n",
    "println(tupla1[4])\n",
    "println(tupla1[5])\n",
    "tupla1[5] = \"Já falei que fígado é muito bom?\";"
   ]
  },
  {
   "cell_type": "markdown",
   "id": "registered-lucas",
   "metadata": {},
   "source": [
    "Veja que não houve modificação no ítem de índice 5."
   ]
  },
  {
   "cell_type": "code",
   "execution_count": 9,
   "id": "decent-pantyhose",
   "metadata": {},
   "outputs": [
    {
     "data": {
      "text/plain": [
       "(22, 15.7, 198 + 80im, 'R', \"fígado\")"
      ]
     },
     "execution_count": 9,
     "metadata": {},
     "output_type": "execute_result"
    }
   ],
   "source": [
    "tupla1"
   ]
  },
  {
   "cell_type": "markdown",
   "id": "liked-diversity",
   "metadata": {},
   "source": [
    "Fatias de tuplas também podem ser obtidas, veja o caso da criação de uma fatia com os três primeiros elementos de `tupla1`."
   ]
  },
  {
   "cell_type": "code",
   "execution_count": 10,
   "id": "cloudy-detection",
   "metadata": {},
   "outputs": [
    {
     "data": {
      "text/plain": [
       "(22, 15.7, 198 + 80im)"
      ]
     },
     "execution_count": 10,
     "metadata": {},
     "output_type": "execute_result"
    }
   ],
   "source": [
    "tupla1[1:3]"
   ]
  },
  {
   "cell_type": "markdown",
   "id": "hawaiian-attack",
   "metadata": {},
   "source": [
    "### AVISO AOS PYTHONISTAS:\n",
    "\n",
    "__SIM__, Julia inicia a indexação dos *containers* pelo número 1, e __SIM__ de novo, o limite superior é fechado na delimitação dos *slices**, e daí? \n",
    "\n",
    "---\n",
    "\n",
    "### Tuplas nomeadas\n",
    "\n",
    "Os elementos de uma tupla em Julia podem receber nomes, que devem respeitar as regras de escolha dos nomes de variáveis de tal forma que a `tupla1` poderia ser redeclarada nomeadamente também. Note como cada elemento recebeu um nome válido."
   ]
  },
  {
   "cell_type": "code",
   "execution_count": 11,
   "id": "sacred-silver",
   "metadata": {},
   "outputs": [
    {
     "data": {
      "text/plain": [
       "(data = 22, data_e_mes = 15.7, idade_peso_imaginario = 1 + 98im, inicial = 'R', bom = \"fígado\")"
      ]
     },
     "execution_count": 11,
     "metadata": {},
     "output_type": "execute_result"
    }
   ],
   "source": [
    "tupla1_nom = (data=22, data_e_mes=15.7, idade_peso_imaginario = 1+98im, inicial='R', bom=\"fígado\")"
   ]
  },
  {
   "cell_type": "markdown",
   "id": "portable-reporter",
   "metadata": {},
   "source": [
    "Agora os elementos da tupla podem ser acessados tanto por seu índice, quando por seu nome utilizando o operador de acesso `.`."
   ]
  },
  {
   "cell_type": "code",
   "execution_count": 12,
   "id": "standard-banner",
   "metadata": {},
   "outputs": [
    {
     "name": "stdout",
     "output_type": "stream",
     "text": [
      "22\n",
      "22\n",
      "15.7\n",
      "15.7\n",
      "1 + 98im\n",
      "1 + 98im\n",
      "R\n",
      "R\n",
      "fígado\n",
      "fígado\n"
     ]
    }
   ],
   "source": [
    "println(tupla1_nom[1])\n",
    "println(tupla1_nom.data)\n",
    "println(tupla1_nom[2])\n",
    "println(tupla1_nom.data_e_mes)\n",
    "println(tupla1_nom[3])\n",
    "println(tupla1_nom.idade_peso_imaginario)\n",
    "println(tupla1_nom[4])\n",
    "println(tupla1_nom.inicial)\n",
    "println(tupla1_nom[5])\n",
    "println(tupla1_nom.bom)\n",
    "# Aquele negócio absurdo de ficar repetindo instruções semelhantes de novo né ?"
   ]
  },
  {
   "cell_type": "markdown",
   "id": "foreign-secondary",
   "metadata": {},
   "source": [
    "### Dicionários de Julia\n",
    "\n",
    "Os dicionários são estruturas bastante semelhantes às tuplas nomeadas, porém são mutáveis e não admitem acesso elementar pelo operador ponto. O nome dos elementos de um dicionário também é mais flexível, podendo ser qualquer, desde valores numéricos à strings de qualquer formato.\n",
    "\n",
    "A inicialização de um dicionário se dá por meio da função `Dict()` conforme mostrado abaixo:"
   ]
  },
  {
   "cell_type": "code",
   "execution_count": 13,
   "id": "valuable-berkeley",
   "metadata": {},
   "outputs": [
    {
     "name": "stdout",
     "output_type": "stream",
     "text": [
      "Dict{String, Any}(\"bom\" => \"fígado\", \"inicial\" => 'R', \"idade_peso_imaginario\" => 1 + 98im, \"data\" => 22, \"data_e_mes\" => 15.7)\n"
     ]
    }
   ],
   "source": [
    "dicionario1 = Dict(\n",
    "    \"data\" => 22, \n",
    "    \"data_e_mes\" => 15.7, \n",
    "    \"idade_peso_imaginario\" => 1+98im, \n",
    "    \"inicial\" =>'R', \n",
    "    \"bom\" => \"fígado\"\n",
    ")\n",
    "println(dicionario1)"
   ]
  },
  {
   "cell_type": "markdown",
   "id": "jewish-binary",
   "metadata": {},
   "source": [
    "Veja como os elementos do dicionário são mutávies e também como são acessados por meio de suas chaves."
   ]
  },
  {
   "cell_type": "code",
   "execution_count": 14,
   "id": "disturbed-sheep",
   "metadata": {},
   "outputs": [
    {
     "name": "stdout",
     "output_type": "stream",
     "text": [
      "Dict{String, Any}(\"bom\" => \"Já falei que fígado é muito bom?\", \"inicial\" => 'R', \"idade_peso_imaginario\" => 1 + 98im, \"data\" => 2, \"data_e_mes\" => 15.7)\n"
     ]
    }
   ],
   "source": [
    "dicionario1[\"data\"] = 02;\n",
    "dicionario1[\"bom\"] = \"Já falei que fígado é muito bom?\";\n",
    "println(dicionario1)"
   ]
  },
  {
   "cell_type": "markdown",
   "id": "executive-potential",
   "metadata": {},
   "source": [
    "Uma outra grande versatilidade dos dicionários, é sua extensibilidade. Uma vez que tenham sido inicializados com a função `Dict()` podem ser extendidos sempre que necessário."
   ]
  },
  {
   "cell_type": "code",
   "execution_count": 15,
   "id": "negative-extreme",
   "metadata": {},
   "outputs": [
    {
     "data": {
      "text/plain": [
       "Dict{String, Any} with 6 entries:\n",
       "  \"bom\"                   => \"Já falei que fígado é muito bom?\"\n",
       "  \"lendaurbana\"           => \"fígado com jiló\"\n",
       "  \"inicial\"               => 'R'\n",
       "  \"idade_peso_imaginario\" => 1+98im\n",
       "  \"data\"                  => 2\n",
       "  \"data_e_mes\"            => 15.7"
      ]
     },
     "execution_count": 15,
     "metadata": {},
     "output_type": "execute_result"
    }
   ],
   "source": [
    "dicionario1[\"lendaurbana\"] = \"fígado com jiló\"\n",
    "dicionario1"
   ]
  },
  {
   "cell_type": "markdown",
   "id": "ecological-stomach",
   "metadata": {},
   "source": [
    "Por outro lado, se você deseja remover um elemento do dicionário pode fazê-lo utilizando a função `pop!()` que recebe como primeiro argumento o nome do dicionário que modificará, e como segundo argumento a chave a ser deletada."
   ]
  },
  {
   "cell_type": "code",
   "execution_count": 16,
   "id": "hindu-coordinate",
   "metadata": {},
   "outputs": [
    {
     "data": {
      "text/plain": [
       "Dict{String, Any} with 5 entries:\n",
       "  \"bom\"                   => \"Já falei que fígado é muito bom?\"\n",
       "  \"lendaurbana\"           => \"fígado com jiló\"\n",
       "  \"inicial\"               => 'R'\n",
       "  \"idade_peso_imaginario\" => 1+98im\n",
       "  \"data_e_mes\"            => 15.7"
      ]
     },
     "execution_count": 16,
     "metadata": {},
     "output_type": "execute_result"
    }
   ],
   "source": [
    "pop!(dicionario1, \"data\")\n",
    "dicionario1"
   ]
  },
  {
   "cell_type": "markdown",
   "id": "irish-member",
   "metadata": {},
   "source": [
    "### *Arrays* \n",
    "\n",
    "Os *arrays* são os *containers* mais simples da linguagem, são totalmente mutáveis e não são nomeáveis, o acesso aos seus elementos se dá apenas pelos respectivos índices. \n",
    "\n",
    "Arrays que possuem apenas uma série de valores são ditos unidimensionais e denominados vetores, se combinarem duas séries ou mais podem ser bidimensionais, quando todas as séries interiores ocupam o mesmo nível interno, ou multidimensionais, quando as séries interiores ocupam níveis mais internos do *array*. \n",
    "\n",
    "A inicialização de um *array* é semelhante à das tuplas não nomeadas, porém, substituindo-se os parênteses por colchetes. Vejo o vetor e array 2D abaixo."
   ]
  },
  {
   "cell_type": "code",
   "execution_count": 17,
   "id": "dress-fabric",
   "metadata": {},
   "outputs": [],
   "source": [
    "vetor = [1,2,3,4,5,6,7,8]\n",
    "arranjo2d = [[1,2,3,4,5],[6,7,8,9,10],[0,-1,-2,-3,-4]];"
   ]
  },
  {
   "cell_type": "markdown",
   "id": "relative-inspection",
   "metadata": {},
   "source": [
    "Note que quando acessamos o primeiro elemento de `vetor` obtemos um número, no entanto, quando acessamos o primeiro elemento de `arranjo2d` obtemos um vetor, indicando que `vetor` é composto por elementos zero-dimensionais e portando deve ser unidimensional, e `arranjo2d` é composto por elementos unidimensionais, e por isso é bidimensional."
   ]
  },
  {
   "cell_type": "code",
   "execution_count": 18,
   "id": "reverse-latex",
   "metadata": {},
   "outputs": [
    {
     "name": "stdout",
     "output_type": "stream",
     "text": [
      "1\n",
      "[1, 2, 3, 4, 5]\n"
     ]
    }
   ],
   "source": [
    "println(vetor[1])\n",
    "println(arranjo2d[1])"
   ]
  },
  {
   "cell_type": "markdown",
   "id": "metallic-lecture",
   "metadata": {},
   "source": [
    "Vetores e arranjos podem combinar elementos de diferentes tipo, conforme pode ser visto abaixo."
   ]
  },
  {
   "cell_type": "code",
   "execution_count": 19,
   "id": "final-tackle",
   "metadata": {},
   "outputs": [
    {
     "data": {
      "text/plain": [
       "3-element Vector{Vector{Any}}:\n",
       " [1, 2, 3, 4, 5]\n",
       " [6, 7, 8, 9, \"dez\"]\n",
       " [0, -1, -2, -3, -4]"
      ]
     },
     "execution_count": 19,
     "metadata": {},
     "output_type": "execute_result"
    }
   ],
   "source": [
    "vetor = [1,2,3,4,5,6,7,\"oito\"]\n",
    "arranjo2d = [[1,2,3,4,5],[6,7,8,9,\"dez\"],[0,-1,-2,-3,-4]]"
   ]
  },
  {
   "cell_type": "markdown",
   "id": "textile-hands",
   "metadata": {},
   "source": [
    "No entanto, é preciso ser cuidado quanto a isso, quando você inicializa um vetor ou *array* preenchido com apenas um tipo de dado, Julia atribui esse tipo à sua estrutura, tentar modificar ou inserior um elemento de outro tipo na coleção gera um erro."
   ]
  },
  {
   "cell_type": "code",
   "execution_count": 20,
   "id": "multiple-phoenix",
   "metadata": {},
   "outputs": [
    {
     "data": {
      "text/plain": [
       "5-element Vector{Int64}:\n",
       " 1\n",
       " 2\n",
       " 3\n",
       " 4\n",
       " 5"
      ]
     },
     "execution_count": 20,
     "metadata": {},
     "output_type": "execute_result"
    }
   ],
   "source": [
    "vetor2 = [1,2,3,4,5]"
   ]
  },
  {
   "cell_type": "markdown",
   "id": "adaptive-payroll",
   "metadata": {},
   "source": [
    "Veja que quando o vetor é inicializado ele passa a ser um elemento `Vector{Int64}` preenchido com inteiros de 64 bits, se por ventura tentar modificar um dos valores para ponto flutuante ocorrerá um erro já que os elementos foram tipificados. "
   ]
  },
  {
   "cell_type": "code",
   "execution_count": 21,
   "id": "american-fever",
   "metadata": {},
   "outputs": [
    {
     "ename": "LoadError",
     "evalue": "InexactError: Int64(2.5)",
     "output_type": "error",
     "traceback": [
      "InexactError: Int64(2.5)",
      "",
      "Stacktrace:",
      " [1] Int64",
      "   @ ./float.jl:723 [inlined]",
      " [2] convert",
      "   @ ./number.jl:7 [inlined]",
      " [3] setindex!(A::Vector{Int64}, x::Float64, i1::Int64)",
      "   @ Base ./array.jl:839",
      " [4] top-level scope",
      "   @ In[21]:1",
      " [5] eval",
      "   @ ./boot.jl:360 [inlined]",
      " [6] include_string(mapexpr::typeof(REPL.softscope), mod::Module, code::String, filename::String)",
      "   @ Base ./loading.jl:1094"
     ]
    }
   ],
   "source": [
    "vetor2[2] = 2.5"
   ]
  },
  {
   "cell_type": "markdown",
   "id": "proprietary-python",
   "metadata": {},
   "source": [
    "Elementos podem ser adicionados dentro de um vetor utilizando a função modificadora `push!()` e retirados por meio da função `pop!()`"
   ]
  },
  {
   "cell_type": "code",
   "execution_count": 22,
   "id": "center-entrance",
   "metadata": {},
   "outputs": [
    {
     "name": "stdout",
     "output_type": "stream",
     "text": [
      "[1, 2, 3, 4, 5, 6]\n",
      "[1, 2, 3, 4, 5]\n"
     ]
    }
   ],
   "source": [
    "push!(vetor2, 6)\n",
    "println(vetor2)\n",
    "pop!(vetor2)\n",
    "println(vetor2)"
   ]
  },
  {
   "cell_type": "markdown",
   "id": "horizontal-resistance",
   "metadata": {},
   "source": [
    "Atenção ao fato de que as funções utilizadas `push!()` e `pop!()`, respectivamente, adicionam e retiram elementos __ao final da lista__."
   ]
  },
  {
   "cell_type": "markdown",
   "id": "refined-component",
   "metadata": {},
   "source": [
    "__Que tal um cafezinho__ ☕?"
   ]
  },
  {
   "cell_type": "markdown",
   "id": "incorporated-atlanta",
   "metadata": {},
   "source": [
    "## Laços 🎀\n",
    "\n",
    "Anteriormente você notou o comentário que deixei logo após essa coisa absurda aqui?\n",
    "\n",
    "~~~Julia\n",
    "jogador1 = rand(1:6);\n",
    "jogador1 += rand(1:6);\n",
    "jogador1 += rand(1:6);\n",
    "jogador2 = rand(1:6);\n",
    "jogador2 += rand(1:6);\n",
    "jogador2 += rand(1:6);\n",
    "# Já já vamos melhorar essa coisa horrível aí em cima\n",
    "~~~\n",
    "\n",
    "Os prgramas de computador existem exatamente para se evitar esse tipo de abordagem, repetir manualmente várias vezes uma determinada operação ou instrução, o que é totalmente contrário aos princípios de automatização da computação.  \n",
    "\n",
    "Para promover ações repetitivas consecutivas como essas, todas as linguagens de programação oferecem recursos de repetição denominados laços. \n",
    "\n",
    "Os laços, ou _loops_ são blocos de código que serão executados um determinado número de vezes, ou enquanto uma determinada condição for satisfeita, ou seja resolvida como `true`. \n",
    "\n",
    "A estrutura de repetição cujo o número de execuções (iterações), é previamente controlada, é denominada laço `for`. Já a estrutura de repetição cujo o controle do número de iterações é dependente do atendimento a uma condição lógica previamente estabelecida é denominada laço `while`. \n",
    "\n",
    "Vamos refatorar o jogo de dados utilizando primeiro um laço `while` e então repetiremos o procedimento utilizando um laço `for`.\n",
    "\n",
    "Utilizaremos a seguinte estratégia, em primeiro lugar, criaremos uma variável para armazenar o número de jogadas disponíveis para cada jogador, e então a decrementaremos iterativamente para determinar o ganhador."
   ]
  },
  {
   "cell_type": "code",
   "execution_count": 14,
   "id": "integral-surgeon",
   "metadata": {},
   "outputs": [
    {
     "name": "stdout",
     "output_type": "stream",
     "text": [
      "INÍCIO DE RODADA!\n",
      "Jogador 1, lance o dado agora.\n",
      "Jogador 2, lance o dado agora.\n",
      "INÍCIO DE RODADA!\n",
      "Jogador 1, lance o dado agora.\n",
      "Jogador 2, lance o dado agora.\n",
      "INÍCIO DE RODADA!\n",
      "Jogador 1, lance o dado agora.\n",
      "Jogador 2, lance o dado agora.\n"
     ]
    }
   ],
   "source": [
    "jogadas = 3\n",
    "jogador1, jogador2 = 0, 0\n",
    "while jogadas > 0\n",
    "    println(\"INÍCIO DE RODADA!\")\n",
    "    println(\"Jogador 1, lance o dado agora.\")\n",
    "    jogador1 += rand(1:6);\n",
    "    \n",
    "    println(\"Jogador 2, lance o dado agora.\")\n",
    "    jogador2 += rand(1:6);\n",
    "    jogadas -= 1\n",
    "end"
   ]
  },
  {
   "cell_type": "markdown",
   "id": "centered-offer",
   "metadata": {},
   "source": [
    "Note a declaração do critério de parada à direita de `while`, que determina que o bloco será executado enquanto a variável `jogadas` for maior de 0. \n",
    "Associando esse código ao teste lógico implementado anteriormente, pode-se obter um programa mais estruturado, lógico e funcional."
   ]
  },
  {
   "cell_type": "code",
   "execution_count": 15,
   "id": "alpha-forth",
   "metadata": {},
   "outputs": [
    {
     "name": "stdout",
     "output_type": "stream",
     "text": [
      "INÍCIO DE RODADA!\n",
      "Jogador 1, lance o dado agora.\n",
      "Jogador 2, lance o dado agora.\n",
      "INÍCIO DE RODADA!\n",
      "Jogador 1, lance o dado agora.\n",
      "Jogador 2, lance o dado agora.\n",
      "INÍCIO DE RODADA!\n",
      "Jogador 1, lance o dado agora.\n",
      "Jogador 2, lance o dado agora.\n",
      "Vitória do Jogador 1 com 11 pontos contra 8 pontos do Jogador 2.\n"
     ]
    }
   ],
   "source": [
    "jogadas = 3\n",
    "jogador1, jogador2 = 0, 0\n",
    "while jogadas > 0\n",
    "    println(\"INÍCIO DE RODADA!\")\n",
    "    println(\"Jogador 1, lance o dado agora.\")\n",
    "    jogador1 += rand(1:6);\n",
    "    \n",
    "    println(\"Jogador 2, lance o dado agora.\")\n",
    "    jogador2 += rand(1:6);\n",
    "    jogadas -= 1\n",
    "end\n",
    "if jogador1 == jogador2\n",
    "    println(\"EMPATE!\")\n",
    "elseif jogador1 > jogador2\n",
    "    println(\"Vitória do Jogador 1 com $jogador1 pontos contra $jogador2 pontos do Jogador 2.\")\n",
    "else\n",
    "    println(\"Vitória do Jogador 2 com $jogador2 pontos contra $jogador1 pontos do Jogador 1.\")\n",
    "end"
   ]
  },
  {
   "cell_type": "markdown",
   "id": "resident-simulation",
   "metadata": {},
   "source": [
    "O laço `for` por sua vez, tem sua execução controlada por meio da iteração com os elementos de um iterável. Um iterável é uma estrutura que passa um valor para o bloco `for` cada vez que é solicitado. Quando todos os elementos do iterável são consumidos pelo for, diz-se que o iterável se extenuou, e o bloco cessa a execução. \n",
    "\n",
    "Como o tamanho do iterável é geralmente conhecido ou conhecível, imediatamente antes do início das interações, sabe-se perfeitamente bem, quantas vezes aquele bloco será executado. \n",
    "\n",
    "Lista e tuplas são iteráveis, dicionários também, sob certas condições, como serão três lançamentos para cada jogador, criaremos uma lista com os elementos 1, 2 e 3 como interável para o bloco."
   ]
  },
  {
   "cell_type": "code",
   "execution_count": 13,
   "id": "weighted-simpson",
   "metadata": {},
   "outputs": [
    {
     "name": "stdout",
     "output_type": "stream",
     "text": [
      "INÍCIO DE RODADA!\n",
      "Jogador 1, lance o dado agora.\n",
      "Jogador 2, lance o dado agora.\n",
      "INÍCIO DE RODADA!\n",
      "Jogador 1, lance o dado agora.\n",
      "Jogador 2, lance o dado agora.\n",
      "INÍCIO DE RODADA!\n",
      "Jogador 1, lance o dado agora.\n",
      "Jogador 2, lance o dado agora.\n",
      "Vitória do Jogador 2 com 13 pontos contra 8 pontos do Jogador 1.\n"
     ]
    }
   ],
   "source": [
    "jogador1, jogador2 = 0, 0\n",
    "for j in [1,2,3] # iterável do bloco for\n",
    "    println(\"INÍCIO DE RODADA!\")\n",
    "    println(\"Jogador 1, lance o dado agora.\")\n",
    "    jogador1 += rand(1:6);\n",
    "    \n",
    "    println(\"Jogador 2, lance o dado agora.\")\n",
    "    jogador2 += rand(1:6);\n",
    "end\n",
    "if jogador1 == jogador2\n",
    "    println(\"EMPATE!\")\n",
    "elseif jogador1 > jogador2\n",
    "    println(\"Vitória do Jogador 1 com $jogador1 pontos contra $jogador2 pontos do Jogador 2.\")\n",
    "else\n",
    "    println(\"Vitória do Jogador 2 com $jogador2 pontos contra $jogador1 pontos do Jogador 1.\")\n",
    "end"
   ]
  },
  {
   "cell_type": "markdown",
   "id": "every-platform",
   "metadata": {},
   "source": [
    "Opcionalmente, uma estrutura mais otimizada poderia ser utilizada no lugar da lista, um `UnitRange`. Essa estrutura promove a criação de um iterador unitário iniciando no primeiro elemento declarado e terminando no último elemento declardo. Um `UnitRange` com elementos de 0 a 100 seria declarodo em Julia da seguinte forma `1:100`. Vamos substituir a lista por um `UnitRange` em nosso exemplo."
   ]
  },
  {
   "cell_type": "code",
   "execution_count": 17,
   "id": "focused-endorsement",
   "metadata": {},
   "outputs": [
    {
     "name": "stdout",
     "output_type": "stream",
     "text": [
      "INÍCIO DE RODADA!\n",
      "Jogador 1, lance o dado agora.\n",
      "Jogador 2, lance o dado agora.\n",
      "INÍCIO DE RODADA!\n",
      "Jogador 1, lance o dado agora.\n",
      "Jogador 2, lance o dado agora.\n",
      "INÍCIO DE RODADA!\n",
      "Jogador 1, lance o dado agora.\n",
      "Jogador 2, lance o dado agora.\n",
      "Vitória do Jogador 2 com 9 pontos contra 8 pontos do Jogador 1.\n"
     ]
    }
   ],
   "source": [
    "jogador1, jogador2 = 0, 0\n",
    "for j in 1:3 # iterável do bloco for\n",
    "    println(\"INÍCIO DE RODADA!\")\n",
    "    println(\"Jogador 1, lance o dado agora.\")\n",
    "    jogador1 += rand(1:6);\n",
    "    \n",
    "    println(\"Jogador 2, lance o dado agora.\")\n",
    "    jogador2 += rand(1:6);\n",
    "end\n",
    "if jogador1 == jogador2\n",
    "    println(\"EMPATE!\")\n",
    "elseif jogador1 > jogador2\n",
    "    println(\"Vitória do Jogador 1 com $jogador1 pontos contra $jogador2 pontos do Jogador 2.\")\n",
    "else\n",
    "    println(\"Vitória do Jogador 2 com $jogador2 pontos contra $jogador1 pontos do Jogador 1.\")\n",
    "end"
   ]
  },
  {
   "cell_type": "markdown",
   "id": "compound-design",
   "metadata": {},
   "source": [
    "Outras melhorias poderiam ser feitas, mas por hora o código está bem mais lógico e estruturado que antes."
   ]
  },
  {
   "cell_type": "markdown",
   "id": "continued-medline",
   "metadata": {},
   "source": []
  },
  {
   "cell_type": "markdown",
   "id": "successful-burden",
   "metadata": {},
   "source": [
    "## Funções\n",
    "\n",
    "Finalmente chegamos a uma dos elementos mais úteis de qualquer linguagem de programação, as funções. Uma função bem modelada e estruturada pode, virtualmente, representar qualquer coisa que se queira, basta o programador ter suficiente expertise para tal. \n",
    "\n",
    "As funções são blocos de código que realizam tarefas específicas e que podem ser utilizadas em diferentes momentos do seu código para realizar aquela tarefa. Porém, ainda possuem uma versatilidade adicional, o comportamento da função é determinado não apenas por seu conteúdo, mas também pelos dados que são passados para ela, de modo que, uma mesma função, pode realizar tarefas bem diferentes quando dados de diferentes tipos são passados para sua operação. \n",
    "\n",
    "Vamos iniciar definindo uma função matemática na forma de função computacional. Utilizaremos uma função de segundo grau como modelo matemático para nossa implementação.\n",
    "\n",
    "$$\n",
    "f(x) = ax^2 + bx + c\n",
    "$$\n",
    "\n",
    "Esta função funciona com base em 4 distintos parâmetros, os coeficientes constantes a, b e c e a variável intedependente x, estes parâmetros de funcionamento devem ser recebidos externamente pela função e tratados internamente por ela. Para dizer a Julia que a, b, c e x devem ser informados pelo cliente da função, estes parâmetros devem ser declarados ao se definir a mesma. "
   ]
  },
  {
   "cell_type": "code",
   "execution_count": 23,
   "id": "familiar-bangladesh",
   "metadata": {},
   "outputs": [
    {
     "data": {
      "text/plain": [
       "377"
      ]
     },
     "execution_count": 23,
     "metadata": {},
     "output_type": "execute_result"
    }
   ],
   "source": [
    "function func_2grau(par_a, par_b, par_c, var_x)\n",
    "    return par_a * var_x^2 + par_b * var_x + par_c\n",
    "end \n",
    "\n",
    "func_2grau(10 , 2, 5, 6)"
   ]
  },
  {
   "cell_type": "markdown",
   "id": "painful-fluid",
   "metadata": {},
   "source": [
    "Obviamente as funções não precisam ser matemáicas veja o seguinte exemplo:"
   ]
  },
  {
   "cell_type": "code",
   "execution_count": 33,
   "id": "discrete-chapel",
   "metadata": {},
   "outputs": [
    {
     "name": "stdout",
     "output_type": "stream",
     "text": [
      "Saudações terráqueo Reginaldo\n"
     ]
    }
   ],
   "source": [
    "function saudacoes(nome, print_=false)\n",
    "    if print_\n",
    "        println(\"Saudações terráqueo $nome\")\n",
    "        return nothing\n",
    "    else\n",
    "        return \"Saudações terráqueo $nome\"\n",
    "    end\n",
    "end\n",
    "\n",
    "saud = saudacoes(\"Reginaldo\", true);"
   ]
  },
  {
   "cell_type": "markdown",
   "id": "spoken-saver",
   "metadata": {},
   "source": [
    "Funções de uma linha, principalmente as matemáticas, também podem ser declaradas como funções anônimas.\n",
    "Uma função anônima é aquela que, ao invés de receber um nome para si quando criada, é armazenada em uma variável no lugar disso. Veja o caso da implementação da função do segundo grau anterior em uma função anônima.x"
   ]
  },
  {
   "cell_type": "code",
   "execution_count": 44,
   "id": "little-participant",
   "metadata": {},
   "outputs": [
    {
     "data": {
      "text/plain": [
       "true"
      ]
     },
     "execution_count": 44,
     "metadata": {},
     "output_type": "execute_result"
    }
   ],
   "source": [
    "func2d = (a,b,c,x) -> a*x^2 + b*x + c\n",
    "func2d(10, 2, 5, 6) == func_2grau(10 , 2, 5, 6)"
   ]
  },
  {
   "cell_type": "markdown",
   "id": "urban-investor",
   "metadata": {},
   "source": [
    "__Hora de descansar pessoal!__"
   ]
  },
  {
   "cell_type": "markdown",
   "id": "ruled-resolution",
   "metadata": {},
   "source": [
    "## *ESSE CURSO FOI PRODUZIDO PELO _GRUPO DE ESTUDOS EM SISTEMAS ENERGÉTICOS E SIMULAÇÃO COMPUTACIONAL_ (GESESC)*\n",
    "![GESESC](logo_gesesc.png)\n",
    "\n",
    "### *Todos os direitos reservados segundo os termos da licença MIT*"
   ]
  },
  {
   "cell_type": "code",
   "execution_count": null,
   "id": "resident-coverage",
   "metadata": {},
   "outputs": [],
   "source": []
  }
 ],
 "metadata": {
  "kernelspec": {
   "display_name": "julia1.6 1.6.1",
   "language": "julia",
   "name": "julia1.6-1.6"
  },
  "language_info": {
   "file_extension": ".jl",
   "mimetype": "application/julia",
   "name": "julia",
   "version": "1.6.1"
  }
 },
 "nbformat": 4,
 "nbformat_minor": 5
}
