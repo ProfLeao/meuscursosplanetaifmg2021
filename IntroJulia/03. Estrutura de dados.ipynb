{
 "cells": [
  {
   "cell_type": "markdown",
   "id": "ed4be6d0-7c17-4016-9de3-9feca5a42a91",
   "metadata": {},
   "source": [
    "# Estruturas de dados\n",
    "\n",
    "Quando começarmos a trabalhar com muitos dados ao mesmo tempo, será conveniente para nós armazenar dados em estruturas como arrays ou dicionários (em vez de confiarmos apenas em variáveis).<br>\n",
    "\n",
    "Tipos de estruturas de dados abrangidos:\n",
    "1. Tuples\n",
    "2. Dicionários\n",
    "3. Arrays\n",
    "\n",
    "<br>\n",
    "Como visão geral, os tuples e os arrays são sequências ordenadas de elementos (para que possamos indexar neles). Os dicionários e os arrays são ambos mutáveis.\n",
    "Explicaremos isto mais abaixo!"
   ]
  },
  {
   "cell_type": "markdown",
   "id": "9cf7d89c-ccec-4058-a6ec-afc2c9d2d112",
   "metadata": {},
   "source": [
    "## Tuples\n",
    "\n",
    "We can create a tuple by enclosing an ordered collection of elements in `( )`.\n",
    "\n",
    "Syntax: <br>\n",
    "```julia\n",
    "(item1, item2, ...)\n",
    "```\n"
   ]
  },
  {
   "cell_type": "code",
   "execution_count": 7,
   "id": "3e396735-e76a-42b8-acc4-81e13c301da0",
   "metadata": {},
   "outputs": [
    {
     "data": {
      "text/plain": [
       "(\"pinguins\", \"gatos\", \"Petauro\")"
      ]
     },
     "execution_count": 7,
     "metadata": {},
     "output_type": "execute_result"
    }
   ],
   "source": [
    "meusanimaisfav = (\"pinguins\", \"gatos\", \"Petauro\")"
   ]
  },
  {
   "cell_type": "markdown",
   "id": "9ca969b3-edc0-47dd-9428-7f0b03e1a3de",
   "metadata": {},
   "source": [
    "Podemos indexar neste tuple,"
   ]
  },
  {
   "cell_type": "code",
   "execution_count": 8,
   "id": "b47a9f57-92d9-4c20-98f7-1b4e8b680b4c",
   "metadata": {},
   "outputs": [
    {
     "data": {
      "text/plain": [
       "\"pinguins\""
      ]
     },
     "execution_count": 8,
     "metadata": {},
     "output_type": "execute_result"
    }
   ],
   "source": [
    "meusanimaisfav[1]"
   ]
  },
  {
   "cell_type": "markdown",
   "id": "e1d18a7a-be0c-4ca2-8969-439eaeca1782",
   "metadata": {},
   "source": [
    "mas como os tuples são imutáveis, não podemos atualizá-los"
   ]
  },
  {
   "cell_type": "code",
   "execution_count": 9,
   "id": "8309ea3b-5b0f-4c8d-8667-1142a567886a",
   "metadata": {},
   "outputs": [
    {
     "ename": "LoadError",
     "evalue": "MethodError: no method matching setindex!(::Tuple{String, String, String}, ::String, ::Int64)",
     "output_type": "error",
     "traceback": [
      "MethodError: no method matching setindex!(::Tuple{String, String, String}, ::String, ::Int64)",
      "",
      "Stacktrace:",
      " [1] top-level scope",
      "   @ In[9]:1",
      " [2] eval",
      "   @ .\\boot.jl:360 [inlined]",
      " [3] include_string(mapexpr::typeof(REPL.softscope), mod::Module, code::String, filename::String)",
      "   @ Base .\\loading.jl:1094"
     ]
    }
   ],
   "source": [
    "meusanimaisfav[1] = \"otters\""
   ]
  },
  {
   "cell_type": "markdown",
   "id": "24604fdd-f895-498e-adb6-7ee720957998",
   "metadata": {},
   "source": [
    "## Agora em 1.0: NamedTuples\n",
    "\n",
    "Como podemos adivinhar, `NamedTuple`s são exatamente como `Tuple`s exceto que cada elemento adicionalmente tem um nome! Eles têm uma sintaxe especial usando `=` dentro de um tuple:\n",
    "\n",
    "```julia\n",
    "(nome1 = item1, nome2 = item2, ...)\n",
    "```"
   ]
  },
  {
   "cell_type": "code",
   "execution_count": 10,
   "id": "3cd876f9-77f1-4828-aa40-b36114fc1f39",
   "metadata": {},
   "outputs": [
    {
     "data": {
      "text/plain": [
       "(passaro = \"pinguins\", mamifero = \"gato\", marsupial = \"Petauro\")"
      ]
     },
     "execution_count": 10,
     "metadata": {},
     "output_type": "execute_result"
    }
   ],
   "source": [
    "meusanimaisfav = (passaro = \"pinguins\", mamifero = \"gato\", marsupial = \"Petauro\")\n",
    "# isso parece um dicionário ordenado mas imutável, ou não ?"
   ]
  },
  {
   "cell_type": "markdown",
   "id": "1d9c7369-9586-48f3-882a-b8af980b243c",
   "metadata": {},
   "source": [
    "Como os regulares `Tuples`, `NamedTuples` são ordenados, para que possamos recuperar seus elementos através de indexação:"
   ]
  },
  {
   "cell_type": "code",
   "execution_count": 11,
   "id": "07f31efe-6f01-4bf8-befb-7f9db5f3677b",
   "metadata": {},
   "outputs": [
    {
     "data": {
      "text/plain": [
       "\"pinguins\""
      ]
     },
     "execution_count": 11,
     "metadata": {},
     "output_type": "execute_result"
    }
   ],
   "source": [
    "meusanimaisfav[1]"
   ]
  },
  {
   "cell_type": "markdown",
   "id": "b576ab58-c357-4917-87cd-0465bbfcc2b0",
   "metadata": {},
   "source": [
    "Eles também acrescentam a habilidade especial de acessar valores por seu nome:"
   ]
  },
  {
   "cell_type": "code",
   "execution_count": 12,
   "id": "41b01db4-61c9-4156-b0a8-b13252ef6f08",
   "metadata": {},
   "outputs": [
    {
     "data": {
      "text/plain": [
       "\"pinguins\""
      ]
     },
     "execution_count": 12,
     "metadata": {},
     "output_type": "execute_result"
    }
   ],
   "source": [
    "meusanimaisfav.passaro"
   ]
  },
  {
   "cell_type": "markdown",
   "id": "746673a7-b08d-4cfd-89d1-b355fbc418ad",
   "metadata": {},
   "source": [
    "## Dicionários\n",
    "\n",
    "Se tivermos conjuntos de dados relacionados uns aos outros, podemos optar por armazenar esses dados em um dicionário. Podemos criar um dicionário usando o `Dict()` que podemos inicializar como um dicionário vazio ou uma chave de armazenamento, pares de valores.\n",
    "\n",
    "Syntax:\n",
    "```julia\n",
    "Dict(chave1 => valor1, chave2 => vslor2, ...)\n",
    "```\n",
    "\n",
    "Um bom exemplo é uma lista de contatos, onde associamos nomes a números de telefone."
   ]
  },
  {
   "cell_type": "code",
   "execution_count": 13,
   "id": "bd5ed824-bdce-42d4-aa8a-aed96f7fc6de",
   "metadata": {},
   "outputs": [
    {
     "data": {
      "text/plain": [
       "Dict{String, String} with 2 entries:\n",
       "  \"Caça-Fantasmas\" => \"555-2368\"\n",
       "  \"Joana\"          => \"867-5309\""
      ]
     },
     "execution_count": 13,
     "metadata": {},
     "output_type": "execute_result"
    }
   ],
   "source": [
    "listadetel = Dict(\"Joana\" => \"867-5309\", \"Caça-Fantasmas\" => \"555-2368\")"
   ]
  },
  {
   "cell_type": "markdown",
   "id": "81e43870-1f70-4b97-a984-2a25232e383e",
   "metadata": {},
   "source": [
    "Neste exemplo, cada nome e número é um par \"chave\" e \"valor\". Podemos pegar o número da Joana (um valor) usando a chave associada"
   ]
  },
  {
   "cell_type": "code",
   "execution_count": 14,
   "id": "72b20091-3d14-4c47-80b1-1216fb1a8331",
   "metadata": {},
   "outputs": [
    {
     "data": {
      "text/plain": [
       "\"867-5309\""
      ]
     },
     "execution_count": 14,
     "metadata": {},
     "output_type": "execute_result"
    }
   ],
   "source": [
    "listadetel[\"Joana\"]"
   ]
  },
  {
   "cell_type": "markdown",
   "id": "434f2cb7-782d-454c-94fe-49447d9b5382",
   "metadata": {},
   "source": [
    "Podemos acrescentar outra entrada a este dicionário da seguinte forma"
   ]
  },
  {
   "cell_type": "code",
   "execution_count": 15,
   "id": "efa31825-3c20-46de-a599-ec75c221f38e",
   "metadata": {},
   "outputs": [
    {
     "data": {
      "text/plain": [
       "\"555-FILK\""
      ]
     },
     "execution_count": 15,
     "metadata": {},
     "output_type": "execute_result"
    }
   ],
   "source": [
    "listadetel[\"Filipe\"] = \"555-FILK\""
   ]
  },
  {
   "cell_type": "markdown",
   "id": "1326cd08-0386-47de-af7a-d25efe8a0e8c",
   "metadata": {},
   "source": [
    "Vamos verificar como está a nossa lista telefônica agora..."
   ]
  },
  {
   "cell_type": "code",
   "execution_count": 16,
   "id": "24cc0547-5a1f-451a-a0d5-fb967ab9edae",
   "metadata": {},
   "outputs": [
    {
     "data": {
      "text/plain": [
       "Dict{String, String} with 3 entries:\n",
       "  \"Caça-Fantasmas\" => \"555-2368\"\n",
       "  \"Joana\"          => \"867-5309\"\n",
       "  \"Filipe\"         => \"555-FILK\""
      ]
     },
     "execution_count": 16,
     "metadata": {},
     "output_type": "execute_result"
    }
   ],
   "source": [
    "listadetel"
   ]
  },
  {
   "cell_type": "markdown",
   "id": "373b56bc-9f11-441f-b788-520bb125f4c1",
   "metadata": {},
   "source": [
    "Podemos excluir Filipe de nossa lista de contatos e simultaneamente obter seu número - usando `pop!`"
   ]
  },
  {
   "cell_type": "code",
   "execution_count": 17,
   "id": "2002b2d4-883f-4523-bf80-48286037ac6f",
   "metadata": {},
   "outputs": [
    {
     "data": {
      "text/plain": [
       "\"555-FILK\""
      ]
     },
     "execution_count": 17,
     "metadata": {},
     "output_type": "execute_result"
    }
   ],
   "source": [
    "pop!(listadetel, \"Filipe\")"
   ]
  },
  {
   "cell_type": "code",
   "execution_count": 18,
   "id": "db9c4119-9636-4596-9955-3edfb21c1942",
   "metadata": {},
   "outputs": [
    {
     "data": {
      "text/plain": [
       "Dict{String, String} with 2 entries:\n",
       "  \"Caça-Fantasmas\" => \"555-2368\"\n",
       "  \"Joana\"          => \"867-5309\""
      ]
     },
     "execution_count": 18,
     "metadata": {},
     "output_type": "execute_result"
    }
   ],
   "source": [
    "listadetel"
   ]
  },
  {
   "cell_type": "markdown",
   "id": "2e5dc373-19d5-46f8-8cb4-a3530109e8a2",
   "metadata": {},
   "source": [
    "Ao contrário dos tuples e arrays, os dicionários não são encomendados. Portanto, não podemos indexar neles."
   ]
  },
  {
   "cell_type": "code",
   "execution_count": 19,
   "id": "ee98254b-01ef-40fb-9354-8f38edb4d33e",
   "metadata": {},
   "outputs": [
    {
     "ename": "LoadError",
     "evalue": "KeyError: key 1 not found",
     "output_type": "error",
     "traceback": [
      "KeyError: key 1 not found",
      "",
      "Stacktrace:",
      " [1] getindex(h::Dict{String, String}, key::Int64)",
      "   @ Base .\\dict.jl:482",
      " [2] top-level scope",
      "   @ In[19]:1",
      " [3] eval",
      "   @ .\\boot.jl:360 [inlined]",
      " [4] include_string(mapexpr::typeof(REPL.softscope), mod::Module, code::String, filename::String)",
      "   @ Base .\\loading.jl:1094"
     ]
    }
   ],
   "source": [
    "listadetel[1]"
   ]
  },
  {
   "cell_type": "markdown",
   "id": "93fe750f-2a31-4739-b606-0912e54d9a23",
   "metadata": {},
   "source": [
    "No exemplo acima, `julia` acha que você está tentando acessar um valor associado à chave `1`."
   ]
  },
  {
   "cell_type": "markdown",
   "id": "d12a3899-8e86-44bf-8a7c-00f6ba5627fb",
   "metadata": {},
   "source": [
    "## Arrays\n",
    "\n",
    "Ao contrário dos tuples, os arrays são mutáveis. Ao contrário dos dicionários, os arrays contêm coleções ordenadas. <br>\n",
    "Podemos criar um array, encerrando essa coleção em `[ ]`.\n",
    "\n",
    "Syntax: <br>\n",
    "```julia\n",
    "[item1, item2, ...]\n",
    "```\n",
    "\n",
    "\n",
    "Por exemplo, podemos criar uma matriz para acompanhar meus amigos"
   ]
  },
  {
   "cell_type": "code",
   "execution_count": 20,
   "id": "3293dcc1-9efc-4174-a1e5-50fdecfb0964",
   "metadata": {},
   "outputs": [
    {
     "data": {
      "text/plain": [
       "5-element Vector{String}:\n",
       " \"Filipe\"\n",
       " \"Monalisa\"\n",
       " \"Ana\"\n",
       " \"Fernando\"\n",
       " \"Rodrigo\""
      ]
     },
     "execution_count": 20,
     "metadata": {},
     "output_type": "execute_result"
    }
   ],
   "source": [
    "amigos = [\"Filipe\", \"Monalisa\", \"Ana\", \"Fernando\", \"Rodrigo\"]"
   ]
  },
  {
   "cell_type": "markdown",
   "id": "c4efaed9-198d-4627-839b-84ae4e1ffeec",
   "metadata": {},
   "source": [
    "O `1` no `Array{String,1}` significa que este é um vetor unidimensional. Um `Array{String,2}` seria uma matriz 2d, etc. A `String` é o tipo de cada elemento."
   ]
  },
  {
   "cell_type": "markdown",
   "id": "a8307c7b-62a0-42eb-b531-fa8575d74304",
   "metadata": {},
   "source": [
    "ou para armazenar uma sequência de números"
   ]
  },
  {
   "cell_type": "code",
   "execution_count": 21,
   "id": "d4b19e24-0c72-4e8b-a561-27fac65af436",
   "metadata": {},
   "outputs": [
    {
     "data": {
      "text/plain": [
       "7-element Vector{Int64}:\n",
       "  1\n",
       "  1\n",
       "  2\n",
       "  3\n",
       "  5\n",
       "  8\n",
       " 13"
      ]
     },
     "execution_count": 21,
     "metadata": {},
     "output_type": "execute_result"
    }
   ],
   "source": [
    "fibonacci = [1, 1, 2, 3, 5, 8, 13]"
   ]
  },
  {
   "cell_type": "code",
   "execution_count": 22,
   "id": "ee610043-c049-48a1-baa1-0c3d67340b98",
   "metadata": {},
   "outputs": [
    {
     "data": {
      "text/plain": [
       "6-element Vector{Any}:\n",
       " 1\n",
       " 1\n",
       " 2\n",
       " 3\n",
       "  \"Rodrigo\"\n",
       "  \"Rubens\""
      ]
     },
     "execution_count": 22,
     "metadata": {},
     "output_type": "execute_result"
    }
   ],
   "source": [
    "mixture = [1, 1, 2, 3, \"Rodrigo\", \"Rubens\"]"
   ]
  },
  {
   "cell_type": "markdown",
   "id": "d79d0495-1d2f-432b-81a3-50e176c0488a",
   "metadata": {},
   "source": [
    "Uma vez que tenhamos um array, podemos pegar pedaços individuais de dados de dentro desse array, indexando-os ao array. Por exemplo, se quisermos o terceiro amigo listado em `amigos`, escrevemos"
   ]
  },
  {
   "cell_type": "code",
   "execution_count": 23,
   "id": "45c19c4b-ed8c-4941-8f5f-edd09cc679e4",
   "metadata": {},
   "outputs": [
    {
     "data": {
      "text/plain": [
       "\"Ana\""
      ]
     },
     "execution_count": 23,
     "metadata": {},
     "output_type": "execute_result"
    }
   ],
   "source": [
    "amigos[3]"
   ]
  },
  {
   "cell_type": "markdown",
   "id": "06d26b68-55a6-4bd3-8864-c74a9685ce0a",
   "metadata": {},
   "source": [
    "Podemos usar a indexação para editar um elemento existente de um array"
   ]
  },
  {
   "cell_type": "code",
   "execution_count": 24,
   "id": "39efc8d5-82c7-4927-bafe-2c063b88f538",
   "metadata": {},
   "outputs": [
    {
     "data": {
      "text/plain": [
       "\"Francisco\""
      ]
     },
     "execution_count": 24,
     "metadata": {},
     "output_type": "execute_result"
    }
   ],
   "source": [
    "amigos[3] = \"Francisco\""
   ]
  },
  {
   "cell_type": "markdown",
   "id": "48ab91ac-24d5-4c02-8079-52ec3a1b39b6",
   "metadata": {},
   "source": [
    "Sim, Julia é uma indexação baseada em 1, não em 0 como Python.  As guerras são travadas por questões menores. Eu tenho um amigo com a sabedoria de Salomão que propõe resolver isto de uma vez por todas com ½ 😃"
   ]
  },
  {
   "cell_type": "markdown",
   "id": "95e9b687-64e1-4d11-bad0-1d1de1af358b",
   "metadata": {},
   "source": [
    "Também podemos editar o array usando as funções `push!` e `pop!. `push!` adiciona um elemento ao final de um array e `pop!` remove o último elemento do array\n",
    "\n",
    "Podemos adicionar outro número à nossa seqüência fibonnaci"
   ]
  },
  {
   "cell_type": "code",
   "execution_count": 25,
   "id": "c94ef1b9-6e4b-4ab3-97de-d64632028010",
   "metadata": {},
   "outputs": [
    {
     "data": {
      "text/plain": [
       "8-element Vector{Int64}:\n",
       "  1\n",
       "  1\n",
       "  2\n",
       "  3\n",
       "  5\n",
       "  8\n",
       " 13\n",
       " 21"
      ]
     },
     "execution_count": 25,
     "metadata": {},
     "output_type": "execute_result"
    }
   ],
   "source": [
    "push!(fibonacci, 21)"
   ]
  },
  {
   "cell_type": "markdown",
   "id": "408cad83-d459-4f3b-b50f-8acb7d643084",
   "metadata": {},
   "source": [
    "e então remova-o"
   ]
  },
  {
   "cell_type": "code",
   "execution_count": 26,
   "id": "05db996c-94e1-44c3-88ee-2404d5e397a8",
   "metadata": {},
   "outputs": [
    {
     "data": {
      "text/plain": [
       "21"
      ]
     },
     "execution_count": 26,
     "metadata": {},
     "output_type": "execute_result"
    }
   ],
   "source": [
    "pop!(fibonacci)"
   ]
  },
  {
   "cell_type": "code",
   "execution_count": 27,
   "id": "cd4ddcfb-ee58-4dd6-aaaa-84214ea3dd82",
   "metadata": {},
   "outputs": [
    {
     "data": {
      "text/plain": [
       "7-element Vector{Int64}:\n",
       "  1\n",
       "  1\n",
       "  2\n",
       "  3\n",
       "  5\n",
       "  8\n",
       " 13"
      ]
     },
     "execution_count": 27,
     "metadata": {},
     "output_type": "execute_result"
    }
   ],
   "source": [
    "fibonacci"
   ]
  },
  {
   "cell_type": "markdown",
   "id": "81d385d7-fa14-4f29-a42a-b0e35357bacf",
   "metadata": {},
   "source": [
    "Até agora eu dei exemplos de apenas arrays 1D de escalares, mas os arrays podem ter um número arbitrário de dimensões e também podem armazenar outros arrays. \n",
    "<br><br>\n",
    "Por exemplo, os seguintes são arrays de arrays:"
   ]
  },
  {
   "cell_type": "code",
   "execution_count": 28,
   "id": "9451a531-aa9c-44d4-894e-5f270346a429",
   "metadata": {},
   "outputs": [
    {
     "data": {
      "text/plain": [
       "2-element Vector{Vector{String}}:\n",
       " [\"kebab\", \"chocolate\", \"ovos\"]\n",
       " [\"pinguins\", \"gatos\", \"pentauro\"]"
      ]
     },
     "execution_count": 28,
     "metadata": {},
     "output_type": "execute_result"
    }
   ],
   "source": [
    "favoritos = [[\"kebab\", \"chocolate\", \"ovos\"],[\"pinguins\", \"gatos\", \"pentauro\"]]"
   ]
  },
  {
   "cell_type": "code",
   "execution_count": 29,
   "id": "977d4972-7e73-45c5-a1ea-f5a16a7abf00",
   "metadata": {},
   "outputs": [
    {
     "data": {
      "text/plain": [
       "3-element Vector{Vector{Int64}}:\n",
       " [1, 2, 3]\n",
       " [4, 5]\n",
       " [6, 7, 8, 9]"
      ]
     },
     "execution_count": 29,
     "metadata": {},
     "output_type": "execute_result"
    }
   ],
   "source": [
    "numeros = [[1, 2, 3], [4, 5], [6, 7, 8, 9]]"
   ]
  },
  {
   "cell_type": "markdown",
   "id": "ff0ac20e-7849-4b3b-8df9-597a8ca69f79",
   "metadata": {},
   "source": [
    "Abaixo estão exemplos de arrays 2D e 3D povoada com valores aleatórios."
   ]
  },
  {
   "cell_type": "code",
   "execution_count": 30,
   "id": "b6a56a3b-4177-475b-a23c-eab62a7bae56",
   "metadata": {},
   "outputs": [
    {
     "data": {
      "text/plain": [
       "4×3 Matrix{Float64}:\n",
       " 0.881233  0.0557425  0.330672\n",
       " 0.383833  0.344118   0.0662933\n",
       " 0.632385  0.89101    0.344433\n",
       " 0.563187  0.895307   0.349672"
      ]
     },
     "execution_count": 30,
     "metadata": {},
     "output_type": "execute_result"
    }
   ],
   "source": [
    "rand(4, 3)"
   ]
  },
  {
   "cell_type": "code",
   "execution_count": 31,
   "id": "cf4ec006-c1d6-49e4-b350-171a8dce5f29",
   "metadata": {},
   "outputs": [
    {
     "data": {
      "text/plain": [
       "4×3×2 Array{Float64, 3}:\n",
       "[:, :, 1] =\n",
       " 0.0396961  0.967998  0.984955\n",
       " 0.955625   0.294377  0.51831\n",
       " 0.229512   0.764688  0.10264\n",
       " 0.799889   0.676456  0.640694\n",
       "\n",
       "[:, :, 2] =\n",
       " 0.754194   0.763964  0.654917\n",
       " 0.966966   0.736196  0.90908\n",
       " 0.0712113  0.171226  0.523706\n",
       " 0.682173   0.386637  0.313933"
      ]
     },
     "execution_count": 31,
     "metadata": {},
     "output_type": "execute_result"
    }
   ],
   "source": [
    "rand(4, 3, 2)"
   ]
  },
  {
   "cell_type": "markdown",
   "id": "3a0c5e4d-fdf5-4806-a970-e4a40ff9ed31",
   "metadata": {},
   "source": [
    "Seja cuidadoso quando quiser copiar arrays!"
   ]
  },
  {
   "cell_type": "code",
   "execution_count": 32,
   "id": "256c6c11-62f2-499c-8248-c8f353b979de",
   "metadata": {},
   "outputs": [
    {
     "data": {
      "text/plain": [
       "7-element Vector{Int64}:\n",
       "  1\n",
       "  1\n",
       "  2\n",
       "  3\n",
       "  5\n",
       "  8\n",
       " 13"
      ]
     },
     "execution_count": 32,
     "metadata": {},
     "output_type": "execute_result"
    }
   ],
   "source": [
    "fibonacci"
   ]
  },
  {
   "cell_type": "code",
   "execution_count": 33,
   "id": "91daca9b-b2a1-4c05-8c6d-c4acbea7aafc",
   "metadata": {},
   "outputs": [
    {
     "data": {
      "text/plain": [
       "7-element Vector{Int64}:\n",
       "  1\n",
       "  1\n",
       "  2\n",
       "  3\n",
       "  5\n",
       "  8\n",
       " 13"
      ]
     },
     "execution_count": 33,
     "metadata": {},
     "output_type": "execute_result"
    }
   ],
   "source": [
    "mesmosnum = fibonacci"
   ]
  },
  {
   "cell_type": "code",
   "execution_count": 34,
   "id": "3d058b7c-1c5c-4f86-83ad-7f18fd50306e",
   "metadata": {},
   "outputs": [
    {
     "data": {
      "text/plain": [
       "404"
      ]
     },
     "execution_count": 34,
     "metadata": {},
     "output_type": "execute_result"
    }
   ],
   "source": [
    "mesmosnum[1] = 404"
   ]
  },
  {
   "cell_type": "code",
   "execution_count": 35,
   "id": "1288c4cd-0b05-4a2f-8d0f-d347ec47ed4a",
   "metadata": {},
   "outputs": [
    {
     "data": {
      "text/plain": [
       "7-element Vector{Int64}:\n",
       " 404\n",
       "   1\n",
       "   2\n",
       "   3\n",
       "   5\n",
       "   8\n",
       "  13"
      ]
     },
     "execution_count": 35,
     "metadata": {},
     "output_type": "execute_result"
    }
   ],
   "source": [
    "fibonacci"
   ]
  },
  {
   "cell_type": "markdown",
   "id": "19fe93a2-acfb-4c7e-ae80-f2676615dfb4",
   "metadata": {},
   "source": [
    "Editando `mesmosnum` faz com que `fibonacci` seja atualizado também!\n",
    "\n",
    "No exemplo acima, na verdade não fizemos uma cópia de `fibonacci`. Acabamos de criar uma nova maneira de acessar as entradas no array vinculado a `fibonacci`.\n",
    "\n",
    "Se quisermos fazer uma cópia do array vinculado a `fibonacci`, podemos usar a função `copy`."
   ]
  },
  {
   "cell_type": "code",
   "execution_count": 36,
   "id": "24564e59-2231-4cc1-bd1e-f9df97f282fa",
   "metadata": {},
   "outputs": [
    {
     "data": {
      "text/plain": [
       "7-element Vector{Int64}:\n",
       "  1\n",
       "  1\n",
       "  2\n",
       "  3\n",
       "  5\n",
       "  8\n",
       " 13"
      ]
     },
     "execution_count": 36,
     "metadata": {},
     "output_type": "execute_result"
    }
   ],
   "source": [
    "# Primeiro, restaurar os fibonacci\n",
    "fibonacci[1] = 1\n",
    "fibonacci"
   ]
  },
  {
   "cell_type": "code",
   "execution_count": 37,
   "id": "9c052005-0260-4706-9707-eaacb0d6e2c5",
   "metadata": {},
   "outputs": [
    {
     "data": {
      "text/plain": [
       "7-element Vector{Int64}:\n",
       "  1\n",
       "  1\n",
       "  2\n",
       "  3\n",
       "  5\n",
       "  8\n",
       " 13"
      ]
     },
     "execution_count": 37,
     "metadata": {},
     "output_type": "execute_result"
    }
   ],
   "source": [
    "mesmosnum = copy(fibonacci)"
   ]
  },
  {
   "cell_type": "code",
   "execution_count": 38,
   "id": "ae2c2241-d289-494f-9ef3-e62e7a9201a1",
   "metadata": {},
   "outputs": [
    {
     "data": {
      "text/plain": [
       "404"
      ]
     },
     "execution_count": 38,
     "metadata": {},
     "output_type": "execute_result"
    }
   ],
   "source": [
    "mesmosnum[1] = 404"
   ]
  },
  {
   "cell_type": "code",
   "execution_count": 39,
   "id": "4e3a9c09-7bb2-468a-b623-ef4cac454ca0",
   "metadata": {},
   "outputs": [
    {
     "data": {
      "text/plain": [
       "7-element Vector{Int64}:\n",
       "  1\n",
       "  1\n",
       "  2\n",
       "  3\n",
       "  5\n",
       "  8\n",
       " 13"
      ]
     },
     "execution_count": 39,
     "metadata": {},
     "output_type": "execute_result"
    }
   ],
   "source": [
    "fibonacci"
   ]
  },
  {
   "cell_type": "markdown",
   "id": "4a216bfd-8c51-42c6-a271-93a295cf4f8d",
   "metadata": {},
   "source": [
    "Neste último exemplo, fibonacci não foi atualizado. Portanto, vemos que os arrays ligados a `mesmosnum` e `fibonacci` \n",
    "são distintos."
   ]
  },
  {
   "cell_type": "markdown",
   "id": "b1ddbda4-3b2f-4d54-8928-71014ece5795",
   "metadata": {},
   "source": [
    "### Exercícios\n",
    "\n",
    "#### 3.1 \n",
    "Crie um array, `a_ray`, com o seguinte código:\n",
    "\n",
    "```julia\n",
    "a_ray = [1, 2, 3]\n",
    "```\n",
    "\n",
    "Adicione o número `4` ao final desta matriz e, em seguida, remova-o."
   ]
  },
  {
   "cell_type": "code",
   "execution_count": 40,
   "id": "a431b999-9f31-41b2-b1e4-025883f08bc8",
   "metadata": {},
   "outputs": [
    {
     "name": "stdout",
     "output_type": "stream",
     "text": [
      "[1, 2, 3, 4]\n",
      "[1, 2, 3]\n"
     ]
    }
   ],
   "source": [
    "a_ray = [1, 2, 3];\n",
    "push!(a_ray, 4);\n",
    "println(a_ray)\n",
    "pop!(a_ray);\n",
    "println(a_ray)"
   ]
  },
  {
   "cell_type": "code",
   "execution_count": 41,
   "id": "28168075-64fc-4e94-9e28-972270969851",
   "metadata": {
    "editable": false,
    "hide_input": true,
    "nbgrader": {
     "checksum": "8dde7e020bc07c5762194abf5c72285c",
     "grade": true,
     "grade_id": "cell-a6b20b78fbfeb449",
     "locked": true,
     "points": 1,
     "schema_version": 1,
     "solution": false
    }
   },
   "outputs": [],
   "source": [
    "@assert a_ray == [1, 2, 3]"
   ]
  },
  {
   "cell_type": "markdown",
   "id": "5551a08e-a656-4c0f-ab9f-ba902dd9255c",
   "metadata": {},
   "source": [
    "#### 3.2 \n",
    "Tente adicionar \"Emergência\" como chave para `listadetel` com o valor `string(911)` com o seguinte código\n",
    "```julia\n",
    "listadetel[\"Emergencia\"] = 911\n",
    "```\n",
    "\n",
    "Por que isso não funciona?"
   ]
  },
  {
   "cell_type": "code",
   "execution_count": 42,
   "id": "3b1d332b-c842-4090-885a-60aac772396e",
   "metadata": {},
   "outputs": [
    {
     "ename": "LoadError",
     "evalue": "MethodError: \u001b[0mCannot `convert` an object of type \u001b[92mInt64\u001b[39m\u001b[0m to an object of type \u001b[91mString\u001b[39m\n\u001b[0mClosest candidates are:\n\u001b[0m  convert(::Type{String}, \u001b[91m::String\u001b[39m) at essentials.jl:210\n\u001b[0m  convert(::Type{T}, \u001b[91m::T\u001b[39m) where T<:AbstractString at strings/basic.jl:231\n\u001b[0m  convert(::Type{T}, \u001b[91m::AbstractString\u001b[39m) where T<:AbstractString at strings/basic.jl:232\n\u001b[0m  ...",
     "output_type": "error",
     "traceback": [
      "MethodError: \u001b[0mCannot `convert` an object of type \u001b[92mInt64\u001b[39m\u001b[0m to an object of type \u001b[91mString\u001b[39m\n\u001b[0mClosest candidates are:\n\u001b[0m  convert(::Type{String}, \u001b[91m::String\u001b[39m) at essentials.jl:210\n\u001b[0m  convert(::Type{T}, \u001b[91m::T\u001b[39m) where T<:AbstractString at strings/basic.jl:231\n\u001b[0m  convert(::Type{T}, \u001b[91m::AbstractString\u001b[39m) where T<:AbstractString at strings/basic.jl:232\n\u001b[0m  ...",
      "",
      "Stacktrace:",
      " [1] setindex!(h::Dict{String, String}, v0::Int64, key::String)",
      "   @ Base .\\dict.jl:382",
      " [2] top-level scope",
      "   @ In[42]:1",
      " [3] eval",
      "   @ .\\boot.jl:360 [inlined]",
      " [4] include_string(mapexpr::typeof(REPL.softscope), mod::Module, code::String, filename::String)",
      "   @ Base .\\loading.jl:1094"
     ]
    }
   ],
   "source": [
    "listadetel[\"Emergencia\"] = 911"
   ]
  },
  {
   "cell_type": "markdown",
   "id": "9cb07a69-f22b-46f8-8efd-6555a438943d",
   "metadata": {},
   "source": [
    "#### 3.3 \n",
    "\n",
    "Crie um novo dicionário chamado `tel_flex` que tem o número da Joana armazenado como um número inteiro e o número dos Caça-Fantasmas armazenado como uma cadeia com o seguinte código\n",
    "\n",
    "```julia\n",
    "tel_flex = Dict(\"Joana\" => 8675309, \"Caça-Fantasmas\" => \"555-2368\")\n",
    "```"
   ]
  },
  {
   "cell_type": "code",
   "execution_count": 43,
   "id": "716be742-8fd7-412d-ba16-1f574e21bd3c",
   "metadata": {},
   "outputs": [
    {
     "data": {
      "text/plain": [
       "Dict{String, Any} with 2 entries:\n",
       "  \"Caça-Fantasmas\" => \"555-2368\"\n",
       "  \"Joana\"          => 8675309"
      ]
     },
     "execution_count": 43,
     "metadata": {},
     "output_type": "execute_result"
    }
   ],
   "source": [
    "tel_flex = Dict(\"Joana\" => 8675309, \"Caça-Fantasmas\" => \"555-2368\")"
   ]
  },
  {
   "cell_type": "code",
   "execution_count": 44,
   "id": "09448513-6f4c-4f7a-acd2-1e1544f44c85",
   "metadata": {},
   "outputs": [],
   "source": [
    "@assert tel_flex == Dict(\"Joana\" => 8675309, \"Caça-Fantasmas\" => \"555-2368\")"
   ]
  },
  {
   "cell_type": "markdown",
   "id": "641fcbb9-bcbc-4a46-a922-1205ceff55c7",
   "metadata": {},
   "source": [
    "#### 3.4 \n",
    "Acrescente a chave \"Emergencia\" com o valor `190` (um número inteiro) para `tel_flex`."
   ]
  },
  {
   "cell_type": "code",
   "execution_count": 45,
   "id": "e52b53a8-4c5c-4bc8-b9e6-20e003c53fc2",
   "metadata": {},
   "outputs": [
    {
     "data": {
      "text/plain": [
       "190"
      ]
     },
     "execution_count": 45,
     "metadata": {},
     "output_type": "execute_result"
    }
   ],
   "source": [
    "tel_flex[\"Emergencia\"] = 190"
   ]
  },
  {
   "cell_type": "code",
   "execution_count": 46,
   "id": "2bb72cc1-f8e6-4174-8765-fe7e8579f9f3",
   "metadata": {},
   "outputs": [],
   "source": [
    "@assert haskey(tel_flex, \"Emergencia\")"
   ]
  },
  {
   "cell_type": "code",
   "execution_count": 47,
   "id": "7cd6a222-49a3-4a04-b12f-8ea6caebb58a",
   "metadata": {},
   "outputs": [],
   "source": [
    "@assert tel_flex[\"Emergencia\"] == 190"
   ]
  },
  {
   "cell_type": "markdown",
   "id": "b3372a92-3211-41b8-ba98-9c8366412a30",
   "metadata": {},
   "source": [
    "#### 3.5 \n",
    "Por que podemos adicionar um número inteiro como um valor a `tel_flex` mas não a `listadetel`? Como poderíamos ter inicializado `listadetel` para que aceitasse inteiros como valores?"
   ]
  },
  {
   "cell_type": "code",
   "execution_count": 48,
   "id": "a6d6eb29-fef1-4d89-bfa3-41439eb49760",
   "metadata": {},
   "outputs": [
    {
     "data": {
      "text/plain": [
       "Dict{String, Int64}()"
      ]
     },
     "execution_count": 48,
     "metadata": {},
     "output_type": "execute_result"
    }
   ],
   "source": [
    "Dict{String, Int64}()\n",
    "# Cria um dicionário vazio atribuindo a tipagem dos dados neste inicialização"
   ]
  },
  {
   "cell_type": "markdown",
   "id": "a5b69dde-b343-476e-93ff-c0d104d55e56",
   "metadata": {},
   "source": [
    "Por favor, clique no botão `Validate` no topo, após a conclusão do exercício"
   ]
  }
 ],
 "metadata": {
  "kernelspec": {
   "display_name": "Julia 1.6.1",
   "language": "julia",
   "name": "julia-1.6"
  },
  "language_info": {
   "file_extension": ".jl",
   "mimetype": "application/julia",
   "name": "julia",
   "version": "1.6.1"
  }
 },
 "nbformat": 4,
 "nbformat_minor": 5
}
