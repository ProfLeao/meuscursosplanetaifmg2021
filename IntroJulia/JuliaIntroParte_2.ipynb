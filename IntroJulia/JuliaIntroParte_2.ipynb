{
 "cells": [
  {
   "cell_type": "markdown",
   "id": "combined-stomach",
   "metadata": {},
   "source": [
    "# INTRODUÇÃO À LINGUAGEM JULIA\n",
    "---\n",
    "## Prof. Dr. Reginaldo Gonçalves Leão Junior¹²³ (reginaldo.junior@ifmg.edu.br)\n",
    "#### Júlia Maria Leao Firme²\n",
    "#### Filipe Morais de Faria²\n",
    "#### Gabriel Junior Leal²\n",
    "#### Wallyson Da Silva Fortunato²\n",
    "#### Luis Fillipe Camargos²\n",
    "\n",
    "1. *Grupo de Estudos em Sistemas Energéticos e Simulação Computacional (GESESC)*\n",
    "2. *IFMG - Campus Arcos*\n",
    "3. *Departamento de Engenharia Nuclear - UFMG*\n",
    "---"
   ]
  },
  {
   "cell_type": "markdown",
   "id": "veterinary-rider",
   "metadata": {},
   "source": [
    "## Blocos de Execução Condicional\n",
    "\n",
    "Os operadores relacionais e lógicos, são destinados, na grande maioria das vezes a comporem crivos de execução para determinados blocos de código. Ou seja, determinar quando um determinado bloco de código de execução condicional, deve ou não ser executado. \n",
    "\n",
    "Para criar um blodo de código de execução concidicional, utilizamos as palavras reservadas da linguagem `if` e `end`. Um exemplo simples poderia ser feito para exibir uma mensagem informando se um determinado número inteiro é par ou ímpar. Da seguinte forma:"
   ]
  },
  {
   "cell_type": "code",
   "execution_count": 3,
   "id": "spread-parking",
   "metadata": {},
   "outputs": [
    {
     "name": "stdout",
     "output_type": "stream",
     "text": [
      "O número 21 é impar.\n"
     ]
    }
   ],
   "source": [
    "num = 21\n",
    "if num%2 == 0\n",
    "    println(\"O número $num é par.\")\n",
    "end\n",
    "if num%2 != 0\n",
    "    println(\"O número $num é impar.\")\n",
    "end"
   ]
  },
  {
   "cell_type": "markdown",
   "id": "secret-record",
   "metadata": {},
   "source": [
    "Note que `if` e `end`delimitam o bloco de execução condicional e o verificação relacional à direita de `if` especifíca o critério de execução daquele bloco. \n",
    "\n",
    "O caso anterior, no entanto, poderia ser simplificado para uma estrutura mais elegante, caso fosse garantido inexistência de excessões para o valor de `num`. Isto quer dizer que, se de alguma forma o programador garantir que `num` atenderá os critérios de teste, por exemplo, ser sempre inteiro e maior ou igual a zero, então a palavra reservada `else` poderia ser utilizada no lugar do segundo bloco `if`. "
   ]
  },
  {
   "cell_type": "code",
   "execution_count": 5,
   "id": "threaded-premium",
   "metadata": {},
   "outputs": [
    {
     "name": "stdout",
     "output_type": "stream",
     "text": [
      "O número 22 é par.\n"
     ]
    }
   ],
   "source": [
    "num = 22\n",
    "if num%2 == 0\n",
    "    println(\"O número $num é par.\")\n",
    "else\n",
    "    println(\"O número $num é impar.\")\n",
    "end"
   ]
  },
  {
   "cell_type": "code",
   "execution_count": 6,
   "id": "reliable-alias",
   "metadata": {},
   "outputs": [
    {
     "name": "stdout",
     "output_type": "stream",
     "text": [
      "O número 21 é impar.\n"
     ]
    }
   ],
   "source": [
    "num = 21\n",
    "if num%2 == 0\n",
    "    println(\"O número $num é par.\")\n",
    "else\n",
    "    println(\"O número $num é impar.\")\n",
    "end"
   ]
  },
  {
   "cell_type": "markdown",
   "id": "central-cylinder",
   "metadata": {},
   "source": [
    "O bloco `else` será executado apenas se o bloco `if` não o for independete de quaisquer outros critérios. Isto exige que ele seja cuidadosamente utilizado, e que sejam garantidas as inocorrência de quaiquer excessões ao teste. Como a seguinte, por exemplo. "
   ]
  },
  {
   "cell_type": "code",
   "execution_count": 11,
   "id": "important-constitutional",
   "metadata": {},
   "outputs": [
    {
     "name": "stdout",
     "output_type": "stream",
     "text": [
      "O número 2.2 é impar.\n"
     ]
    }
   ],
   "source": [
    "num = 2.2\n",
    "if num%2 == 0\n",
    "    println(\"O número $num é par.\")\n",
    "else\n",
    "    println(\"O número $num é impar.\")\n",
    "end"
   ]
  },
  {
   "cell_type": "markdown",
   "id": "parallel-gather",
   "metadata": {},
   "source": [
    "Veja que quando um `float`foi passado, o código determinou que o número é ímpar, no entanto, é sabido que a paridade é uma característica apenas de números inteiros, o que demonstra a debilidade do método como está implementado aqui, para valores de `num` inadequados.\n",
    "\n",
    "Para corrigirmos esse comportamento, poderíamos validar a entrada e usar o recurso de blocos de execução condicional aninhados, ou seja, blocos declarados dentro de outos blocos."
   ]
  },
  {
   "cell_type": "code",
   "execution_count": 26,
   "id": "vital-apple",
   "metadata": {},
   "outputs": [
    {
     "name": "stdout",
     "output_type": "stream",
     "text": [
      "O valor informado não possui paridade.\n"
     ]
    }
   ],
   "source": [
    "num = 2.5\n",
    "if typeof(num) == Int\n",
    "    if num%2 == 0\n",
    "        println(\"O número $num é par.\")\n",
    "    else\n",
    "        println(\"O número $num é impar.\")\n",
    "    end\n",
    "else\n",
    "    println(\"O valor informado não possui paridade.\")\n",
    "end"
   ]
  },
  {
   "cell_type": "markdown",
   "id": "removed-grave",
   "metadata": {},
   "source": [
    "Ainda é possível associar múltiplas verificações relacionais e lógicas sequenciais utilizando as palavra reservada `elseif`. No notebook anterior, um jogo de dados foi simulado, porém o teste lógico realizado foi bastante grosseiro. Podemos melhor esse teste, inclusive exibindo o resultado da avaliação relacional para o usuário. "
   ]
  },
  {
   "cell_type": "code",
   "execution_count": 32,
   "id": "sustainable-private",
   "metadata": {},
   "outputs": [
    {
     "name": "stdout",
     "output_type": "stream",
     "text": [
      "Vitória do Jogador 2 com 11 pontos contra 10 pontos do Jogador 1.\n"
     ]
    }
   ],
   "source": [
    "# Jogadas sucessivas\n",
    "\n",
    "jogador1 = rand(1:6);\n",
    "jogador1 += rand(1:6);\n",
    "jogador1 += rand(1:6);\n",
    "jogador2 = rand(1:6);\n",
    "jogador2 += rand(1:6);\n",
    "jogador2 += rand(1:6);\n",
    "# Já já vamos melhorar essa coisa horrível aí em cima\n",
    "\n",
    "if jogador1 == jogador2\n",
    "    println(\"EMPATE!\")\n",
    "elseif jogador1 > jogador2\n",
    "    println(\"Vitória do Jogador 1 com $jogador1 pontos contra $jogador2 pontos do Jogador 2.\")\n",
    "else\n",
    "    println(\"Vitória do Jogador 2 com $jogador2 pontos contra $jogador1 pontos do Jogador 1.\")\n",
    "end"
   ]
  },
  {
   "cell_type": "markdown",
   "id": "intensive-parliament",
   "metadata": {},
   "source": [
    "## *Containers* de Julia\n",
    "\n",
    "*Containers* são tipos de dados abstratos, com os quais o usuário pode armazenar uma determinada **coleção** de \n",
    "valores de distintos tipos. \n",
    "\n",
    "Julia possui três tipos de *containers* distintos, as tuplas, os dicionários e os *arrays*. \n",
    "\n",
    "### Tuplas de Julia\n",
    "\n",
    "Tuplas são coleções imutáveis de dados sequenciais. As tuplas são inicializadas através da declaração de seus valores entre parênteses e separados por vírgulas, como mostrado abaixo."
   ]
  },
  {
   "cell_type": "code",
   "execution_count": 59,
   "id": "thousand-operator",
   "metadata": {},
   "outputs": [
    {
     "data": {
      "text/plain": [
       "(22, 15.7, 198 + 80im, 'R', \"fígado\")"
      ]
     },
     "execution_count": 59,
     "metadata": {},
     "output_type": "execute_result"
    }
   ],
   "source": [
    "tupla1 = (22, 15.7, 198+80im, 'R', \"fígado\")"
   ]
  },
  {
   "cell_type": "markdown",
   "id": "automatic-basket",
   "metadata": {},
   "source": [
    "Note a versatilidade da estrutura que é capaz de armazenar diferentes tipos de dados simultaneamente. Todavia é importante ressaltar mais uma vez que tuplas são imutáveis e seus ítens não podem ser modificados após a inicialização da estrutura. Veja como os valores dos ítens podem ser acessados individualmente e o que acontece quando tentamos modificar qualquer um desses valores."
   ]
  },
  {
   "cell_type": "code",
   "execution_count": 47,
   "id": "cross-happening",
   "metadata": {},
   "outputs": [
    {
     "name": "stdout",
     "output_type": "stream",
     "text": [
      "22\n",
      "15.7\n",
      "1 + 98im\n",
      "R\n",
      "fígado\n"
     ]
    },
    {
     "ename": "LoadError",
     "evalue": "MethodError: no method matching setindex!(::Tuple{Int64, Float64, Complex{Int64}, Char, String}, ::String, ::Int64)",
     "output_type": "error",
     "traceback": [
      "MethodError: no method matching setindex!(::Tuple{Int64, Float64, Complex{Int64}, Char, String}, ::String, ::Int64)",
      "",
      "Stacktrace:",
      " [1] top-level scope",
      "   @ In[47]:6",
      " [2] eval",
      "   @ ./boot.jl:360 [inlined]",
      " [3] include_string(mapexpr::typeof(REPL.softscope), mod::Module, code::String, filename::String)",
      "   @ Base ./loading.jl:1094"
     ]
    }
   ],
   "source": [
    "println(tupla1[1])\n",
    "println(tupla1[2])\n",
    "println(tupla1[3])\n",
    "println(tupla1[4])\n",
    "println(tupla1[5])\n",
    "tupla1[5] = \"Já falei que fígado é muito bom?\";"
   ]
  },
  {
   "cell_type": "markdown",
   "id": "north-judges",
   "metadata": {},
   "source": [
    "Veja que não houve modificação no ítem de índice 5."
   ]
  },
  {
   "cell_type": "code",
   "execution_count": 51,
   "id": "sublime-planning",
   "metadata": {},
   "outputs": [
    {
     "data": {
      "text/plain": [
       "(22, 15.7, 1 + 98im, 'R', \"fígado\")"
      ]
     },
     "execution_count": 51,
     "metadata": {},
     "output_type": "execute_result"
    }
   ],
   "source": [
    "tupla1"
   ]
  },
  {
   "cell_type": "markdown",
   "id": "unlimited-longer",
   "metadata": {},
   "source": [
    "Fatias de tuplas também podem ser obtidas, veja o caso da criação de uma fatia com os três primeiros elementos de `tupla1`."
   ]
  },
  {
   "cell_type": "code",
   "execution_count": 55,
   "id": "handled-landing",
   "metadata": {},
   "outputs": [
    {
     "data": {
      "text/plain": [
       "(22, 15.7, 1 + 98im)"
      ]
     },
     "execution_count": 55,
     "metadata": {},
     "output_type": "execute_result"
    }
   ],
   "source": [
    "tupla1[1:3]"
   ]
  },
  {
   "cell_type": "markdown",
   "id": "flush-kelly",
   "metadata": {},
   "source": [
    "### AVISO AOS PYTHONISTAS:\n",
    "\n",
    "__SIM__, Julia inicia a indexação dos *containers* pelo número 1, e __SIM__ de novo, o limite superior é fechado na delimitação dos *slices**, e daí? \n",
    "\n",
    "---\n",
    "\n",
    "### Tuplas nomeadas\n",
    "\n",
    "Os elementos de uma tupla em Julia podem receber nomes, que devem respeitar as regras de escolha dos nomes de variáveis de tal forma que a `tupla1` poderia ser redeclarada nomeadamente também. Note como cada elemento recebeu um nome válido."
   ]
  },
  {
   "cell_type": "code",
   "execution_count": 60,
   "id": "broadband-chemistry",
   "metadata": {},
   "outputs": [
    {
     "data": {
      "text/plain": [
       "(data = 22, data_e_mes = 15.7, idade_peso_imaginario = 1 + 98im, inicial = 'R', bom = \"fígado\")"
      ]
     },
     "execution_count": 60,
     "metadata": {},
     "output_type": "execute_result"
    }
   ],
   "source": [
    "tupla1_nom = (data=22, data_e_mes=15.7, idade_peso_imaginario = 1+98im, inicial='R', bom=\"fígado\")"
   ]
  },
  {
   "cell_type": "markdown",
   "id": "several-translation",
   "metadata": {},
   "source": [
    "Agora os elementos da tupla podem ser acessados tanto por seu índice, quando por seu nome utilizando o operador de acesso `.`."
   ]
  },
  {
   "cell_type": "code",
   "execution_count": 65,
   "id": "alleged-crisis",
   "metadata": {},
   "outputs": [
    {
     "name": "stdout",
     "output_type": "stream",
     "text": [
      "22\n",
      "22\n",
      "15.7\n",
      "15.7\n",
      "1 + 98im\n",
      "1 + 98im\n",
      "R\n",
      "R\n",
      "fígado\n",
      "fígado\n"
     ]
    }
   ],
   "source": [
    "println(tupla1_nom[1])\n",
    "println(tupla1_nom.data)\n",
    "println(tupla1_nom[2])\n",
    "println(tupla1_nom.data_e_mes)\n",
    "println(tupla1_nom[3])\n",
    "println(tupla1_nom.idade_peso_imaginario)\n",
    "println(tupla1_nom[4])\n",
    "println(tupla1_nom.inicial)\n",
    "println(tupla1_nom[5])\n",
    "println(tupla1_nom.bom)\n",
    "# Aquele negócio absurdo de ficar repetindo instruções semelhantes de novo né ?"
   ]
  },
  {
   "cell_type": "markdown",
   "id": "parallel-tobago",
   "metadata": {},
   "source": [
    "### Dicionários de Julia\n",
    "\n",
    "Os dicionários são estruturas bastante semelhantes às tuplas nomeadas, porém são mutáveis e não admitem acesso elementar pelo operador ponto. O nome dos elementos de um dicionário também é mais flexível, podendo ser qualquer, desde valores numéricos à strings de qualquer formato.\n",
    "\n",
    "A inicialização de um dicionário se dá por meio da função `Dict()` conforme mostrado abaixo:"
   ]
  },
  {
   "cell_type": "code",
   "execution_count": 78,
   "id": "republican-michael",
   "metadata": {},
   "outputs": [
    {
     "name": "stdout",
     "output_type": "stream",
     "text": [
      "Dict{String, Any}(\"bom\" => \"fígado\", \"inicial\" => 'R', \"idade_peso_imaginario\" => 1 + 98im, \"data\" => 22, \"data_e_mes\" => 15.7)\n"
     ]
    }
   ],
   "source": [
    "dicionario1 = Dict(\n",
    "    \"data\" => 22, \n",
    "    \"data_e_mes\" => 15.7, \n",
    "    \"idade_peso_imaginario\" => 1+98im, \n",
    "    \"inicial\" =>'R', \n",
    "    \"bom\" => \"fígado\"\n",
    ")\n",
    "println(dicionario1)"
   ]
  },
  {
   "cell_type": "markdown",
   "id": "perfect-moderator",
   "metadata": {},
   "source": [
    "Veja como os elementos do dicionário são mutávies e também como são acessados por meio de suas chaves."
   ]
  },
  {
   "cell_type": "code",
   "execution_count": 80,
   "id": "published-finland",
   "metadata": {},
   "outputs": [
    {
     "name": "stdout",
     "output_type": "stream",
     "text": [
      "Dict{String, Any}(\"bom\" => \"Já falei que fígado é muito bom?\", \"inicial\" => 'R', \"idade_peso_imaginario\" => 1 + 98im, \"data\" => 2, \"data_e_mes\" => 15.7)\n"
     ]
    }
   ],
   "source": [
    "dicionario1[\"data\"] = 02;\n",
    "dicionario1[\"bom\"] = \"Já falei que fígado é muito bom?\";\n",
    "println(dicionario1)"
   ]
  },
  {
   "cell_type": "markdown",
   "id": "olive-thirty",
   "metadata": {},
   "source": [
    "Uma outra grande versatilidade dos dicionários, é sua extensibilidade. Uma vez que tenham sido inicializados com a função `Dict()` podem ser extendidos sempre que necessário. "
   ]
  },
  {
   "cell_type": "markdown",
   "id": "attached-companion",
   "metadata": {},
   "source": [
    "## Laços 🎀\n",
    "\n"
   ]
  },
  {
   "cell_type": "markdown",
   "id": "advanced-thickness",
   "metadata": {},
   "source": [
    "A propósito, notou o comentário logo após essa coisa absurda?\n",
    "\n",
    "~~~Julia\n",
    "jogador1 = rand(1:6);\n",
    "jogador1 += rand(1:6);\n",
    "jogador1 += rand(1:6);\n",
    "jogador2 = rand(1:6);\n",
    "jogador2 += rand(1:6);\n",
    "jogador2 += rand(1:6);\n",
    "~~~\n",
    "\n",
    "Os prgramas de computador existem exatamente para se evitar ess"
   ]
  },
  {
   "cell_type": "code",
   "execution_count": null,
   "id": "electrical-cleaning",
   "metadata": {},
   "outputs": [],
   "source": []
  }
 ],
 "metadata": {
  "kernelspec": {
   "display_name": "julia1.6 1.6.1",
   "language": "julia",
   "name": "julia1.6-1.6"
  },
  "language_info": {
   "file_extension": ".jl",
   "mimetype": "application/julia",
   "name": "julia",
   "version": "1.6.1"
  }
 },
 "nbformat": 4,
 "nbformat_minor": 5
}
