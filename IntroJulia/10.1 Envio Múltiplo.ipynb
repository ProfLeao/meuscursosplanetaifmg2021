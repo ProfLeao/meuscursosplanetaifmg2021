{
 "cells": [
  {
   "cell_type": "markdown",
   "id": "6041a09f-6aa5-4db8-b3c6-2c3d5300e4b3",
   "metadata": {},
   "source": [
    "# Envio múltiplo"
   ]
  },
  {
   "cell_type": "markdown",
   "id": "245e275c-847a-43de-bef5-dc3ffb305962",
   "metadata": {},
   "source": [
    "**Envio múltiplo** é uma característia fundamental de Julia, que exploraremos neste bloco de notas.\n",
    "\n",
    "Ajuda a tornar o softwerw mais rápido.Ele também torna o softwerw extensível, programável e totalmente dovertido de usar.\n",
    "\n",
    "Podendo ser um grande avanço para a computação paralela."
   ]
  },
  {
   "cell_type": "markdown",
   "id": "95defe1b-490f-4d50-8b2a-73e9fc83c46a",
   "metadata": {},
   "source": [
    "1. Algarismos romanos\n",
    "2. Funções\n",
    "3. Computação paralela"
   ]
  },
  {
   "cell_type": "markdown",
   "id": "21b16dcc-9542-4acd-b216-da23a7b0c8af",
   "metadata": {},
   "source": [
    "## 1. Algarismos romanos (para diversão)"
   ]
  },
  {
   "cell_type": "markdown",
   "id": "120353ea-9f74-4fee-9bcd-fb51972b87b9",
   "metadata": {},
   "source": [
    "Vamos definir uma **nova estrutura** que representa um algarismos romano.Para simplificar a codificação, lidaremos apenas com números entre 0 e 9.\n",
    "\n",
    "**Exercício**:\n",
    "Estenda para números maiores.(Lembre-se de que os números romanos são um sistema de base 10!)"
   ]
  },
  {
   "cell_type": "code",
   "execution_count": 2,
   "id": "3a685e6d-236a-46bb-a35b-f9ea985d5de8",
   "metadata": {},
   "outputs": [],
   "source": [
    "struct Roman\n",
    "    n::Int\n",
    "end\n",
    "\n",
    "Base.show(io::IO, r::Roman) = print(io, 'ⅰ' + (r.n - 1) % 10)  # nice display; 'ⅰ' is a Unicode Roman numeral"
   ]
  },
  {
   "cell_type": "markdown",
   "id": "3a458a6b-4e5e-422b-8a94-51c02dca96b5",
   "metadata": {},
   "source": [
    "Podemos criar um objeto deste tipo da seguinte maneira :"
   ]
  },
  {
   "cell_type": "code",
   "execution_count": 3,
   "id": "7d4d24d8-66a6-4e86-b364-9f027b2b2fe1",
   "metadata": {},
   "outputs": [
    {
     "data": {
      "text/plain": [
       "ⅴ"
      ]
     },
     "execution_count": 3,
     "metadata": {},
     "output_type": "execute_result"
    }
   ],
   "source": [
    "Roman(5)"
   ]
  },
  {
   "cell_type": "code",
   "execution_count": 4,
   "id": "f57a1c0a-97ee-4591-9081-d32b955f9ae1",
   "metadata": {},
   "outputs": [
    {
     "data": {
      "text/plain": [
       "1×6 Matrix{DataType}:\n",
       " Int64  Float64  Roman  String  Char  Rational{Int64}"
      ]
     },
     "execution_count": 4,
     "metadata": {},
     "output_type": "execute_result"
    }
   ],
   "source": [
    "typeof.([5 5.0 Roman(5) \"Five\" '5'  5//1])"
   ]
  },
  {
   "cell_type": "code",
   "execution_count": 5,
   "id": "da0d15be-459f-4af3-bb37-3d66949134c9",
   "metadata": {},
   "outputs": [
    {
     "data": {
      "text/plain": [
       "1×6 Matrix{Roman}:\n",
       " ⅶ  ⅰ  ⅱ  ⅴ  ⅷ  ⅸ"
      ]
     },
     "execution_count": 5,
     "metadata": {},
     "output_type": "execute_result"
    }
   ],
   "source": [
    "x = [7 1 2 5 8 9]\n",
    "Roman.(x)   # equivalente a map (Roman, x) ou [Roman (w) para w em x]"
   ]
  },
  {
   "cell_type": "markdown",
   "id": "191d5edf-c931-478e-80a6-2382b61675b1",
   "metadata": {},
   "source": [
    "Seria bom poder adicionar algarismos romanos como números normais:"
   ]
  },
  {
   "cell_type": "code",
   "execution_count": null,
   "id": "c9befd79-8333-46ac-bbe4-f8cd665c6c58",
   "metadata": {},
   "outputs": [],
   "source": [
    "Roman(4) + Roman(5)"
   ]
  },
  {
   "cell_type": "markdown",
   "id": "74545036-c997-493a-a6d8-bca3f521092e",
   "metadata": {},
   "source": [
    "Mas Julia não sabe fazer isso. Vamos ensiná-la `importando` a função `+`, que nos permite estender sua definição:"
   ]
  },
  {
   "cell_type": "code",
   "execution_count": null,
   "id": "04b25076-8e3c-4302-ad54-2762682415a1",
   "metadata": {},
   "outputs": [],
   "source": [
    "import Base: +, *\n",
    "\n",
    "+(a::Roman, b::Roman) = Roman(a.n + b.n)"
   ]
  },
  {
   "cell_type": "code",
   "execution_count": null,
   "id": "ae01521f-c647-4e6e-8d13-5f815e51d530",
   "metadata": {},
   "outputs": [],
   "source": [
    "Roman(4) + Roman(5)"
   ]
  },
  {
   "cell_type": "markdown",
   "id": "16a0a053-7352-452c-9a30-5102df279622",
   "metadata": {},
   "source": [
    "Isso **adiciona um novo método** à função `+`:"
   ]
  },
  {
   "cell_type": "code",
   "execution_count": null,
   "id": "561d7b06-7c0d-4e0f-9a16-50ceea2faec6",
   "metadata": {},
   "outputs": [],
   "source": [
    "methods(+)"
   ]
  },
  {
   "cell_type": "code",
   "execution_count": null,
   "id": "46132a35-bf51-4eaf-a788-8f0865f716b6",
   "metadata": {},
   "outputs": [],
   "source": [
    "import Base.*\n",
    "*(i::Roman, j::Roman) = Roman(i.n * j.n)                     # Multiplique como um romano"
   ]
  },
  {
   "cell_type": "code",
   "execution_count": null,
   "id": "6bb2ab2c-db30-46fd-b9d9-c4e6ac42b21b",
   "metadata": {},
   "outputs": [],
   "source": [
    "Roman(3) * Roman(2)"
   ]
  },
  {
   "cell_type": "code",
   "execution_count": null,
   "id": "4b2182b2-c200-4ee4-8f53-23c9b1097945",
   "metadata": {},
   "outputs": [],
   "source": [
    "Roman.(1:3) .* [Roman(1) Roman(2) Roman(3)]"
   ]
  },
  {
   "cell_type": "markdown",
   "id": "64caf4e8-b719-4eca-8573-6f6f189675e1",
   "metadata": {},
   "source": [
    "Mas "
   ]
  },
  {
   "cell_type": "code",
   "execution_count": null,
   "id": "d8ba6b31-b946-4eb0-bc6b-b68e16b7450d",
   "metadata": {},
   "outputs": [],
   "source": [
    "Roman(3) * 2"
   ]
  },
  {
   "cell_type": "code",
   "execution_count": null,
   "id": "8df32c0f-ece8-4d1f-bff5-18ee371dbef4",
   "metadata": {},
   "outputs": [],
   "source": [
    "#  Mytimes complicado para decidir o que fazer com base no tipo\n",
    "# não sugerido, melhor maneira em breve\n",
    "\n",
    "function mytimes(i,j)\n",
    "  if isa(i,Roman) & isa(j,Number)\n",
    "        return  fill(1, i.n, j)   # i by j matrix with ones\n",
    "    elseif    isa(i,Number) & isa(j,Roman) \n",
    "        return \"😄\"^(i*j.n)   #  i * j happy faces\n",
    "    else\n",
    "        return(\"I Don't know\")\n",
    "    end\n",
    "end"
   ]
  },
  {
   "cell_type": "code",
   "execution_count": null,
   "id": "c71aabdb-f63c-4fdf-852b-2e482f58ecca",
   "metadata": {},
   "outputs": [],
   "source": [
    "mytimes(4,Roman(3)) # Twelve happys"
   ]
  },
  {
   "cell_type": "code",
   "execution_count": null,
   "id": "33da23ef-bc8b-4863-8345-b0198c19e1c1",
   "metadata": {},
   "outputs": [],
   "source": [
    "mytimes(Roman(4),3) # 4x3 matriz com uns"
   ]
  },
  {
   "cell_type": "markdown",
   "id": "5d2e0a1b-489a-4147-8003-5653768b4e2e",
   "metadata": {},
   "source": [
    "A coisa mais simples a fazer é definir explicitamente a multiplicação de um `Romano`por um número. Podemos fazer como acharmos adequado:"
   ]
  },
  {
   "cell_type": "code",
   "execution_count": null,
   "id": "eefdcb6c-9212-476b-a85f-6584fa501faa",
   "metadata": {},
   "outputs": [],
   "source": [
    "*(i::Number, j::Roman) = \"😄\"^(i*j.n)        #  i * j caras felizes\n",
    "\n",
    "*(i::Roman, j::Number) = fill(1, i.n, j)       # matriz i por j"
   ]
  },
  {
   "cell_type": "code",
   "execution_count": null,
   "id": "b1680b3e-24b0-4885-8e97-1e5c694bc29a",
   "metadata": {},
   "outputs": [],
   "source": [
    "3 * Roman(3) # Nove felizes"
   ]
  },
  {
   "cell_type": "code",
   "execution_count": null,
   "id": "a6d7c883-0e26-42ac-bd88-32dd8ac1e049",
   "metadata": {},
   "outputs": [],
   "source": [
    "Roman(3) * 5  # Matriz três por cinco de uns"
   ]
  },
  {
   "cell_type": "code",
   "execution_count": null,
   "id": "58a0705e-9a39-4a62-a298-c417c8efd63e",
   "metadata": {},
   "outputs": [],
   "source": [
    "t(x::Roman,y::Roman) = x.n * y.n"
   ]
  },
  {
   "cell_type": "code",
   "execution_count": null,
   "id": "d3dfd4e8-2dfd-4d9c-93b0-3427fbee50ae",
   "metadata": {},
   "outputs": [],
   "source": [
    "t(Roman(5),Roman(4))"
   ]
  },
  {
   "cell_type": "code",
   "execution_count": null,
   "id": "844f9865-76fb-4b0a-b9ab-7bb0073e3217",
   "metadata": {},
   "outputs": [],
   "source": [
    "# Observe como o montador é apertado!\n",
    "@code_native t(Roman(2),Roman(4))"
   ]
  },
  {
   "cell_type": "markdown",
   "id": "b27c90e7-ae04-48ef-8fa4-5043d7c61ec2",
   "metadata": {},
   "source": [
    "# Funções"
   ]
  },
  {
   "cell_type": "code",
   "execution_count": null,
   "id": "19dc0b6f-8184-4d73-96e9-fc796bfebf2c",
   "metadata": {},
   "outputs": [],
   "source": [
    "import Base: *, +, ^"
   ]
  },
  {
   "cell_type": "code",
   "execution_count": null,
   "id": "7f0b2f21-e502-4618-bd10-d00e5f8037b9",
   "metadata": {},
   "outputs": [],
   "source": [
    "*(α::Number,   g::Function) = x -> α * g(x)   # Função de tempos escalares\n",
    "\n",
    "*(f::Function, λ::Number)   = x -> f(λ * x)   # Escale o argumento\n",
    "\n",
    "*(f::Function, g::Function) = x -> f(g(x))    # Function composition  -- abuse of notation!  use \\circ in Julia 0.6\n",
    "\n",
    "^(f::Function, n::Integer) = n == 1 ? f : f*f^(n-1) # Um algoritmo de exponenciação ingênua por multiplicação recursiva"
   ]
  },
  {
   "cell_type": "code",
   "execution_count": null,
   "id": "6df42038-d1e8-441a-80bc-6ce44b7e9755",
   "metadata": {},
   "outputs": [],
   "source": [
    "+(f::Function, g::Function) = x -> f(x) + g(x)"
   ]
  },
  {
   "cell_type": "markdown",
   "id": "66513693-ed74-4070-8884-7bf75dd2faa1",
   "metadata": {},
   "source": [
    "Por exemplo, a função exponencial é definida como\n",
    "\n",
    "$$\\exp(x) = \\sum_{n=0}^\\infty \\frac{1}{n!} x^n.$$\n",
    "\n",
    "Podemos pensar nisso apenas em termos de funções:\n",
    "\n",
    "$$\\exp = \\sum_{n=0}^\\infty \\frac{1}{n!} \\mathrm{pow}_n,$$\n",
    "\n",
    "where $\\mathrm{pow}_n(x) = x^n$.\n",
    "\n",
    "(começa a confundir o simbólico com o numérico!)"
   ]
  },
  {
   "cell_type": "code",
   "execution_count": null,
   "id": "31cb6fd1-b5a0-46b7-af5b-6fa0e9f2fd27",
   "metadata": {},
   "outputs": [],
   "source": [
    "pow(n) = x -> x^n\n",
    "\n",
    "myexp = sum(1/factorial(big(n)) * pow(n) for n in 0:100)   # taylor series not efficient!"
   ]
  },
  {
   "cell_type": "code",
   "execution_count": null,
   "id": "71050af0-e3d5-403f-b758-3c59d677dc07",
   "metadata": {},
   "outputs": [],
   "source": [
    "[myexp(1); exp(1); exp(big(1))]"
   ]
  },
  {
   "cell_type": "code",
   "execution_count": null,
   "id": "ea27f5b7-cad1-4d74-bb49-9b1070b6ed92",
   "metadata": {},
   "outputs": [],
   "source": [
    "f = x -> x^2\n",
    "f(10)"
   ]
  },
  {
   "cell_type": "code",
   "execution_count": null,
   "id": "b093c077-7a4a-4b17-8c04-0a0022965bf2",
   "metadata": {},
   "outputs": [],
   "source": [
    "g = 3f\n",
    "g(10)"
   ]
  },
  {
   "cell_type": "code",
   "execution_count": null,
   "id": "d6080b64-48d0-4fa0-be4e-0ecd5e506f5f",
   "metadata": {},
   "outputs": [],
   "source": [
    "(f^2)(10)  # uma vez que definimos multiplicação de funções como composição"
   ]
  },
  {
   "cell_type": "code",
   "execution_count": null,
   "id": "d236432e-58cf-44b3-ad78-7f6d4c6c33a4",
   "metadata": {},
   "outputs": [],
   "source": [
    "using Plots;\n",
    "gr()"
   ]
  },
  {
   "cell_type": "code",
   "execution_count": null,
   "id": "698d16b1-338c-4b45-830b-734bd42b873a",
   "metadata": {},
   "outputs": [],
   "source": [
    "x = pi*(0:0.001:4)\n",
    "\n",
    "plot(x, sin.(x),    c=\"black\", label=\"Fun\")\n",
    "plot!(x, (12*sin).(x),    c=\"green\", label=\"Num * Fun\")\n",
    "plot!(x, (sin*12).(x),    c=\"red\", alpha=0.9, label=\"Fun * Num\")\n",
    "plot!(x, (5*sin*exp).(x), c=\"blue\", alpha=0.2, label=\"Num * Fun * Fun\")"
   ]
  },
  {
   "cell_type": "code",
   "execution_count": null,
   "id": "53379bf7-7f0f-4fb6-a89f-18ab09b22488",
   "metadata": {},
   "outputs": [],
   "source": [
    "plot([12*sin, sin*12, 5*sin*exp], 0:.01:4π, α=[1 .9 .2], c=[:green :red :blue])"
   ]
  },
  {
   "cell_type": "markdown",
   "id": "499040c2-735b-426b-a390-8018f51fad6a",
   "metadata": {},
   "source": [
    "<img src=\"https://lh4.googleusercontent.com/--z5eKJbB7sg/UffjL1iAd4I/AAAAAAAABOc/S_wDVyDOBfQ/gauss.jpg\">"
   ]
  },
  {
   "cell_type": "markdown",
   "id": "9c82ec77-1aa9-4349-ba04-b0b0356205fb",
   "metadata": {},
   "source": [
    "### \"Sin^2 phi é odioso para mim, embora Laplace tenha feito uso dele; deve-se temer que o sin^ 2 phi possa se tornar ambíguo, o que talvez nunca ocorresse, ou no máximo muito raramente quando se fala de sin( phi ^ 2), bem então, vamos escrever (sin phi)^ 2, mas não sin ^ 2 phi, que por analogia deveria significar sin (sin phi). \" - Gauss"
   ]
  },
  {
   "cell_type": "code",
   "execution_count": null,
   "id": "a9ab446c-4114-4a37-bad3-4b0b177e1d9a",
   "metadata": {},
   "outputs": [],
   "source": [
    "x=(0:.01:2) * pi;\n",
    "\n",
    "plot(x, (sin^2).(x), c=\"blue\")     # Quadrar simplesmente funciona, y = sin (sin (x)), Gauss ficaria satisfeito!\n",
    "plot!(x, sin.(x).^2,  c=\"red\")         "
   ]
  },
  {
   "cell_type": "markdown",
   "id": "937a9f5f-5ff3-4335-b5e1-5e09f864fe9b",
   "metadata": {},
   "source": [
    "# Exercício"
   ]
  },
  {
   "cell_type": "code",
   "execution_count": null,
   "id": "3a387caf-f2ef-4361-8865-538b4d79f9b4",
   "metadata": {},
   "outputs": [],
   "source": [
    "h(a, b::Any) = \"fallback\"\n",
    "h(a::Number, b::Number) = \"a and b are both numbers\"\n",
    "h(a::Number, b) = \"a is a number\"\n",
    "h(a, b::Number) = \"b is a number\"\n",
    "h(a::Integer, b::Integer) = \"a and b are both integers\""
   ]
  },
  {
   "cell_type": "code",
   "execution_count": null,
   "id": "ebdaf31d-017c-4dfe-a6ea-97c428cecc21",
   "metadata": {},
   "outputs": [],
   "source": [
    "# Experimente brincar com h"
   ]
  }
 ],
 "metadata": {
  "kernelspec": {
   "display_name": "Julia 1.6.1",
   "language": "julia",
   "name": "julia-1.6"
  },
  "language_info": {
   "file_extension": ".jl",
   "mimetype": "application/julia",
   "name": "julia",
   "version": "1.6.1"
  }
 },
 "nbformat": 4,
 "nbformat_minor": 5
}
