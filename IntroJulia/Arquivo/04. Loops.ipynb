{
 "cells": [
  {
   "cell_type": "markdown",
   "id": "90a21a20-3b28-426c-9074-ff3c3ce70a08",
   "metadata": {},
   "source": [
    "# Loops\n",
    "\n",
    "Tópicos:\n",
    "1. `while` loops\n",
    "2. `for` loops\n",
    "<br>\n",
    "\n",
    "## while loops\n",
    "\n",
    "A sintaxe para o comando `while` é\n",
    "\n",
    "```julia\n",
    "while *condição*\n",
    "    * estrutura loop*\n",
    "end\n",
    "```\n",
    "\n",
    "Por exemplo, podemos usar `while` para contar ou fazer a interação de um intervalo."
   ]
  },
  {
   "cell_type": "code",
   "execution_count": 1,
   "id": "a655602a-82c5-435b-b765-ee87bb44c949",
   "metadata": {},
   "outputs": [
    {
     "name": "stdout",
     "output_type": "stream",
     "text": [
      "1\n",
      "2\n",
      "3\n",
      "4\n",
      "5\n",
      "6\n",
      "7\n",
      "8\n",
      "9\n",
      "10\n"
     ]
    },
    {
     "data": {
      "text/plain": [
       "10"
      ]
     },
     "execution_count": 1,
     "metadata": {},
     "output_type": "execute_result"
    }
   ],
   "source": [
    "n = 0\n",
    "while n < 10\n",
    "    n += 1\n",
    "    println(n)\n",
    "end\n",
    "n"
   ]
  },
  {
   "cell_type": "code",
   "execution_count": 2,
   "id": "702a4ccf-9ebc-4e47-8b1b-8923ca47991b",
   "metadata": {},
   "outputs": [
    {
     "name": "stdout",
     "output_type": "stream",
     "text": [
      "Hi Ted, it's great to see you!\n",
      "Hi Robyn, it's great to see you!\n",
      "Hi Barney, it's great to see you!\n",
      "Hi Lily, it's great to see you!\n",
      "Hi Marshall, it's great to see you!\n"
     ]
    }
   ],
   "source": [
    "myfriends = [\"Ted\", \"Robyn\", \"Barney\", \"Lily\", \"Marshall\"]\n",
    "\n",
    "i = 1\n",
    "while i <= length(myfriends)\n",
    "    friend = myfriends[i]\n",
    "    println(\"Hi $friend, it's great to see you!\")\n",
    "    i += 1\n",
    "end"
   ]
  },
  {
   "cell_type": "markdown",
   "id": "f659cb2f-3332-4f9f-abf0-a5324be82da0",
   "metadata": {},
   "source": [
    "## for loops\n",
    "\n",
    "A sintaxe para o comando `for` é\n",
    "\n",
    "```julia\n",
    "for *variável* in *parte iterável loop*\n",
    "    *estrutura loop*\n",
    "end\n",
    "```\n",
    "\n",
    "Poderíamos usar um loop for para gerar os mesmos resultados que qualquer um dos exemplos acima:"
   ]
  },
  {
   "cell_type": "code",
   "execution_count": 3,
   "id": "5b702f7f-b684-40c2-ad04-2b7153480283",
   "metadata": {},
   "outputs": [
    {
     "name": "stdout",
     "output_type": "stream",
     "text": [
      "1\n",
      "2\n",
      "3\n",
      "4\n",
      "5\n",
      "6\n",
      "7\n",
      "8\n",
      "9\n",
      "10\n"
     ]
    }
   ],
   "source": [
    "for n in 1:10\n",
    "    println(n)\n",
    "end"
   ]
  },
  {
   "cell_type": "code",
   "execution_count": 4,
   "id": "5b1b6585-b8f7-4b5c-8252-0892f841042e",
   "metadata": {},
   "outputs": [
    {
     "name": "stdout",
     "output_type": "stream",
     "text": [
      "Hi Ted, it's great to see you!\n",
      "Hi Robyn, it's great to see you!\n",
      "Hi Barney, it's great to see you!\n",
      "Hi Lily, it's great to see you!\n",
      "Hi Marshall, it's great to see you!\n"
     ]
    }
   ],
   "source": [
    "myfriends = [\"Ted\", \"Robyn\", \"Barney\", \"Lily\", \"Marshall\"]\n",
    "\n",
    "for friend in myfriends\n",
    "    println(\"Hi $friend, it's great to see you!\")\n",
    "end"
   ]
  },
  {
   "cell_type": "markdown",
   "id": "189fbe64-71d8-41c7-82c0-79707a0816ac",
   "metadata": {},
   "source": [
    "Agora vamos usar loops `for` para criar algumas tabelas de adição, onde o valor de cada entrada é a soma de seus índices de linha e coluna. <br>\n",
    "\n",
    "Observe que iteramos sobre esse intervalo por meio de loops de coluna principal para obter o melhor desempenho. Mais informações sobre a indexação rápida de arrays multidimensionais dentro de loops aninhados podem ser encontradas em: https://docs.julialang.org/en/v1/manual/performance-tips/#Access-arrays-in-memory-order,-along-columns-1\n",
    "\n",
    "Primeiro, inicializamos uma matriz com zeros."
   ]
  },
  {
   "cell_type": "code",
   "execution_count": 5,
   "id": "dbf24aed-18b6-460f-b97f-685655d4f655",
   "metadata": {},
   "outputs": [
    {
     "data": {
      "text/plain": [
       "5×5 Matrix{Int64}:\n",
       " 0  0  0  0  0\n",
       " 0  0  0  0  0\n",
       " 0  0  0  0  0\n",
       " 0  0  0  0  0\n",
       " 0  0  0  0  0"
      ]
     },
     "execution_count": 5,
     "metadata": {},
     "output_type": "execute_result"
    }
   ],
   "source": [
    "m, n = 5, 5\n",
    "A = fill(0, (m, n))"
   ]
  },
  {
   "cell_type": "code",
   "execution_count": 6,
   "id": "a54eddf1-5af8-4c93-ae96-60bffd180489",
   "metadata": {},
   "outputs": [
    {
     "data": {
      "text/plain": [
       "5×5 Matrix{Int64}:\n",
       " 2  3  4  5   6\n",
       " 3  4  5  6   7\n",
       " 4  5  6  7   8\n",
       " 5  6  7  8   9\n",
       " 6  7  8  9  10"
      ]
     },
     "execution_count": 6,
     "metadata": {},
     "output_type": "execute_result"
    }
   ],
   "source": [
    "for j in 1:n\n",
    "    for i in 1:m\n",
    "        A[i, j] = i + j\n",
    "    end\n",
    "end\n",
    "A"
   ]
  },
  {
   "cell_type": "markdown",
   "id": "9d9fb87b-35c1-4c1c-a22f-629769d7c6b2",
   "metadata": {},
   "source": [
    "Aqui está um pouco de syntactic sugar para o mesmo loop `for`"
   ]
  },
  {
   "cell_type": "code",
   "execution_count": 7,
   "id": "9b5c7631-4e77-4303-83fc-d7ce0ba2f29c",
   "metadata": {},
   "outputs": [
    {
     "data": {
      "text/plain": [
       "5×5 Matrix{Int64}:\n",
       " 0  0  0  0  0\n",
       " 0  0  0  0  0\n",
       " 0  0  0  0  0\n",
       " 0  0  0  0  0\n",
       " 0  0  0  0  0"
      ]
     },
     "execution_count": 7,
     "metadata": {},
     "output_type": "execute_result"
    }
   ],
   "source": [
    "B = fill(0, (m, n))"
   ]
  },
  {
   "cell_type": "code",
   "execution_count": 8,
   "id": "fb78cfb9-5704-425a-8510-836bf6129347",
   "metadata": {},
   "outputs": [
    {
     "data": {
      "text/plain": [
       "5×5 Matrix{Int64}:\n",
       " 2  3  4  5   6\n",
       " 3  4  5  6   7\n",
       " 4  5  6  7   8\n",
       " 5  6  7  8   9\n",
       " 6  7  8  9  10"
      ]
     },
     "execution_count": 8,
     "metadata": {},
     "output_type": "execute_result"
    }
   ],
   "source": [
    "for j in 1:n, i in 1:m\n",
    "    B[i, j] = i + j\n",
    "end\n",
    "B"
   ]
  },
  {
   "cell_type": "markdown",
   "id": "e56eefc7-dfd8-40dd-a902-453b5b97887e",
   "metadata": {},
   "source": [
    "A maneira mais \\\\\\\"Julia \\\\\\\" de se criar esta tabela de adição seria com uma *inclusão de intervalos*."
   ]
  },
  {
   "cell_type": "code",
   "execution_count": 9,
   "id": "a2a7691d-cb09-4ce4-a8dd-9c0ce4fd8af2",
   "metadata": {},
   "outputs": [
    {
     "data": {
      "text/plain": [
       "5×5 Matrix{Int64}:\n",
       " 2  3  4  5   6\n",
       " 3  4  5  6   7\n",
       " 4  5  6  7   8\n",
       " 5  6  7  8   9\n",
       " 6  7  8  9  10"
      ]
     },
     "execution_count": 9,
     "metadata": {},
     "output_type": "execute_result"
    }
   ],
   "source": [
    "C = [i + j for i in 1:m, j in 1:n]"
   ]
  },
  {
   "cell_type": "markdown",
   "id": "429b65a4-1d36-45aa-9f06-81363716ffcf",
   "metadata": {},
   "source": [
    "### Exercícios\n",
    "\n",
    "#### 4.1 \n",
    "Faça um loop contendo somente números inteiros entre 1 e 100 e imprima seus quadrados."
   ]
  },
  {
   "cell_type": "code",
   "execution_count": 10,
   "id": "0e56750a-03c1-4df8-91f7-475040443d32",
   "metadata": {},
   "outputs": [
    {
     "name": "stdout",
     "output_type": "stream",
     "text": [
      "1\n",
      "2\n",
      "3\n",
      "4\n",
      "5\n",
      "6\n",
      "7\n",
      "8\n",
      "9\n",
      "10\n",
      "11\n",
      "12\n",
      "13\n",
      "14\n",
      "15\n",
      "16\n",
      "17\n",
      "18\n",
      "19\n",
      "20\n",
      "21\n",
      "22\n",
      "23\n",
      "24\n",
      "25\n",
      "26\n",
      "27\n",
      "28\n",
      "29\n",
      "30\n",
      "31\n",
      "32\n",
      "33\n",
      "34\n",
      "35\n",
      "36\n",
      "37\n",
      "38\n",
      "39\n",
      "40\n",
      "41\n",
      "42\n",
      "43\n",
      "44\n",
      "45\n",
      "46\n",
      "47\n",
      "48\n",
      "49\n",
      "50\n",
      "51\n",
      "52\n",
      "53\n",
      "54\n",
      "55\n",
      "56\n",
      "57\n",
      "58\n",
      "59\n",
      "60\n",
      "61\n",
      "62\n",
      "63\n",
      "64\n",
      "65\n",
      "66\n",
      "67\n",
      "68\n",
      "69\n",
      "70\n",
      "71\n",
      "72\n",
      "73\n",
      "74\n",
      "75\n",
      "76\n",
      "77\n",
      "78\n",
      "79\n",
      "80\n",
      "81\n",
      "82\n",
      "83\n",
      "84\n",
      "85\n",
      "86\n",
      "87\n",
      "88\n",
      "89\n",
      "90\n",
      "91\n",
      "92\n",
      "93\n",
      "94\n",
      "95\n",
      "96\n",
      "97\n",
      "98\n",
      "99\n",
      "100\n"
     ]
    }
   ],
   "source": [
    "for i in 1:100\n",
    "    println(i)\n",
    "end"
   ]
  },
  {
   "cell_type": "markdown",
   "id": "8428bce7-cf4a-48e8-b856-ca97370fbc6f",
   "metadata": {},
   "source": [
    "#### 4.2 \n",
    "Adicione uma interção ao código acima para criar um dicionário, `squares` que contém números inteiros e seus quadrados (entre chaves), pares de valores tais que\n",
    "\n",
    "```julia\n",
    "squares[10] == 100\n",
    "```"
   ]
  },
  {
   "cell_type": "code",
   "execution_count": 11,
   "id": "ef90f970-cca4-43ab-8672-13a836f422ae",
   "metadata": {},
   "outputs": [
    {
     "data": {
      "text/plain": [
       "Dict{Int64, Int64} with 100 entries:\n",
       "  5  => 25\n",
       "  56 => 3136\n",
       "  35 => 1225\n",
       "  55 => 3025\n",
       "  60 => 3600\n",
       "  30 => 900\n",
       "  32 => 1024\n",
       "  6  => 36\n",
       "  67 => 4489\n",
       "  45 => 2025\n",
       "  73 => 5329\n",
       "  64 => 4096\n",
       "  90 => 8100\n",
       "  4  => 16\n",
       "  13 => 169\n",
       "  54 => 2916\n",
       "  63 => 3969\n",
       "  86 => 7396\n",
       "  91 => 8281\n",
       "  62 => 3844\n",
       "  58 => 3364\n",
       "  52 => 2704\n",
       "  12 => 144\n",
       "  28 => 784\n",
       "  75 => 5625\n",
       "  ⋮  => ⋮"
      ]
     },
     "execution_count": 11,
     "metadata": {},
     "output_type": "execute_result"
    }
   ],
   "source": [
    "squares = Dict{Int64,Int}()\n",
    "for i in 1:100\n",
    "    squares[i] = i^2\n",
    "end\n",
    "squares"
   ]
  },
  {
   "cell_type": "code",
   "execution_count": 12,
   "id": "f620a1d4-796c-42f2-9c54-9bccae17164a",
   "metadata": {},
   "outputs": [],
   "source": [
    "@assert squares[10] == 100\n",
    "@assert squares[11] == 121"
   ]
  },
  {
   "cell_type": "markdown",
   "id": "d736502e-d329-4f98-ab98-ae337946a4af",
   "metadata": {},
   "source": [
    "#### 4.3 \n",
    "Use uma inclusão de matriz para criar uma matriz `quadrados_arr` que armazena os quadrados para todos os inteiros entre 1 e 100."
   ]
  },
  {
   "cell_type": "code",
   "execution_count": 13,
   "id": "ecda16d2-e3aa-4fb4-a669-bf6f7e0b0b38",
   "metadata": {},
   "outputs": [
    {
     "data": {
      "text/plain": [
       "338350"
      ]
     },
     "execution_count": 13,
     "metadata": {},
     "output_type": "execute_result"
    }
   ],
   "source": [
    "squares_arr = [i^2 for i in 1:100]\n",
    "sum(squares_arr)"
   ]
  },
  {
   "cell_type": "code",
   "execution_count": 14,
   "id": "448bc55f-9308-432a-ac06-3eb66ceaeaeb",
   "metadata": {},
   "outputs": [],
   "source": [
    "@assert length(squares_arr) == 100\n",
    "@assert sum(squares_arr) == 338350"
   ]
  },
  {
   "cell_type": "markdown",
   "id": "5f7175e8-9619-485d-a5cc-fff11f00e18d",
   "metadata": {},
   "source": [
    "Clique em `Validar` no topo, assim que terminar os exercícios."
   ]
  },
  {
   "cell_type": "code",
   "execution_count": null,
   "id": "373094e6-c8d4-4b52-9c22-ce6465fa5d1c",
   "metadata": {},
   "outputs": [],
   "source": []
  }
 ],
 "metadata": {
  "kernelspec": {
   "display_name": "julia1.6 1.6.1",
   "language": "julia",
   "name": "julia1.6-1.6"
  },
  "language_info": {
   "file_extension": ".jl",
   "mimetype": "application/julia",
   "name": "julia",
   "version": "1.6.1"
  }
 },
 "nbformat": 4,
 "nbformat_minor": 5
}
