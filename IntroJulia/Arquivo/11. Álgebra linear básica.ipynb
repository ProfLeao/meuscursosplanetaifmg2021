{
 "cells": [
  {
   "cell_type": "markdown",
   "id": "8f7b4c30-82e5-4f7c-8177-03d87aadb75a",
   "metadata": {},
   "source": [
    "# Álgebra linear básica em Julia\n",
    "\n",
    "Autor : Andreas Noack Jensen (MIT)(http://www.econ.ku.dk/phdstudent/noack/)(com edições de Jane Herriman)"
   ]
  },
  {
   "cell_type": "markdown",
   "id": "df028bdd-c9ae-4fa9-809a-634172d2dd35",
   "metadata": {},
   "source": [
    "Primeiro vamos definir uma matriz aleatória"
   ]
  },
  {
   "cell_type": "code",
   "execution_count": null,
   "id": "e18465f2-803f-4133-b945-e6de1f934498",
   "metadata": {},
   "outputs": [],
   "source": [
    "A = rand(1:4,3,3)"
   ]
  },
  {
   "cell_type": "markdown",
   "id": "6524f987-6c88-4b5a-92c4-6ccd09a999e5",
   "metadata": {},
   "source": [
    "Defina um vetor de uns "
   ]
  },
  {
   "cell_type": "code",
   "execution_count": null,
   "id": "c6a40ac8-4e4c-4e96-a080-76301e74c095",
   "metadata": {},
   "outputs": [],
   "source": [
    "x = fill(1.0, (3,)) # = fill(1.0, 3)"
   ]
  },
  {
   "cell_type": "markdown",
   "id": "9a557702-f889-4611-ba7b-42a1b67f9fc1",
   "metadata": {},
   "source": [
    "Observe que $A$ tem o tipo de Array {Int64,2}, mas $x$ tem o tipo Array{Float64,1}. Julia define os apelidos Vector{Type}=Array {Type, 1} e Matrix {Type}=Array {Type,2}.\n",
    "\n",
    "Muitas das operações básicas são as mesmas que em outras linguagens.\n",
    "\n",
    "#### Multiplicação"
   ]
  },
  {
   "cell_type": "code",
   "execution_count": null,
   "id": "3d32df73-eaa7-4263-8a65-889d405603fe",
   "metadata": {},
   "outputs": [],
   "source": [
    "b = A*x"
   ]
  },
  {
   "cell_type": "markdown",
   "id": "c7c29227-0cdd-4e78-b51c-5dd82d599848",
   "metadata": {},
   "source": [
    "#### Transposição \n",
    "\n",
    "Como em outras linguagens , A'é o conjugado transposto,ou adjunto"
   ]
  },
  {
   "cell_type": "code",
   "execution_count": null,
   "id": "529baedb-e320-4882-98c1-169211fd67d5",
   "metadata": {},
   "outputs": [],
   "source": [
    "A'"
   ]
  },
  {
   "cell_type": "code",
   "execution_count": null,
   "id": "f750582d-f8a8-41ee-84ef-0e5a70a79cc3",
   "metadata": {},
   "outputs": [],
   "source": [
    "transpose(A)"
   ]
  },
  {
   "cell_type": "markdown",
   "id": "fcc4f3b3-6129-45c4-968c-359c779ad68b",
   "metadata": {},
   "source": [
    "#### Multiplicação transposta\n",
    "\n",
    "Julia nos permite escrever isso sem *"
   ]
  },
  {
   "cell_type": "code",
   "execution_count": null,
   "id": "5e649f0b-6ebb-4634-a0ab-04faaeb5ce88",
   "metadata": {},
   "outputs": [],
   "source": [
    "A 'A"
   ]
  },
  {
   "cell_type": "markdown",
   "id": "221f27c6-3176-46ed-9d40-eac099c0d99d",
   "metadata": {},
   "source": [
    "#### Resolvendo sistemas lineares\n",
    "\n",
    "O problema $Ax = b$ para ***quadrado*** $A$ é resolvido pela função \\ ."
   ]
  },
  {
   "cell_type": "code",
   "execution_count": null,
   "id": "85e4794b-8fcb-46e3-b00d-4a0c426f9fc3",
   "metadata": {},
   "outputs": [],
   "source": [
    "A\\b"
   ]
  },
  {
   "cell_type": "markdown",
   "id": "b0beaa58-f6ed-4eaf-a092-ce66c3ff6cd9",
   "metadata": {},
   "source": [
    "`A\\b` nos dá a solução dos mínimos quadrados se tivermos um sistema linear sobredeterminado ( uma matriz \"alta\")"
   ]
  },
  {
   "cell_type": "code",
   "execution_count": null,
   "id": "d42e3286-0ff3-4204-bacb-3a51c23452c5",
   "metadata": {},
   "outputs": [],
   "source": [
    "Atall = rand(3, 2)"
   ]
  },
  {
   "cell_type": "code",
   "execution_count": null,
   "id": "09fa1471-0a8f-40d8-80a9-33ff614f3619",
   "metadata": {},
   "outputs": [],
   "source": [
    "Atall\\b"
   ]
  },
  {
   "cell_type": "markdown",
   "id": "8024cdd4-5c92-4ed5-bd72-032fd888fdc8",
   "metadata": {},
   "source": [
    "e a solução de mínimos quadrados de norma mínima se tivermos um problema de mínimos quadrados com deficiência de classificação"
   ]
  },
  {
   "cell_type": "code",
   "execution_count": null,
   "id": "0d47d17c-d2c0-4c1c-8fcd-30b8d68bf2ab",
   "metadata": {},
   "outputs": [],
   "source": [
    "v = rand(3)\n",
    "rankdef = hcat(v, v)"
   ]
  },
  {
   "cell_type": "code",
   "execution_count": null,
   "id": "bebcb033-53e7-46e2-91dc-d810a4ffe2d6",
   "metadata": {},
   "outputs": [],
   "source": [
    "rankdef\\b"
   ]
  },
  {
   "cell_type": "markdown",
   "id": "e40a9194-5f71-4c20-8fdd-79e29700fcb7",
   "metadata": {},
   "source": [
    "Julia também nos dá a solução de norma mínima quando temos uma solução subdeterminada (uma matriz \"curta\")"
   ]
  },
  {
   "cell_type": "code",
   "execution_count": null,
   "id": "4955bdad-8b9d-46ed-aa04-db27c6a1acde",
   "metadata": {},
   "outputs": [],
   "source": [
    "bshort = rand(2)\n",
    "Ashort = rand(2, 3)"
   ]
  },
  {
   "cell_type": "code",
   "execution_count": null,
   "id": "12d084c1-9afb-4093-90f0-22e1280104df",
   "metadata": {},
   "outputs": [],
   "source": [
    "Ashort\\bshort"
   ]
  },
  {
   "cell_type": "markdown",
   "id": "c4a77b84-37fe-4913-a4c1-311908e56c88",
   "metadata": {},
   "source": [
    "# A biblioteca LinearAlgebra\n",
    "\n",
    "Embora muito da álgebra linear esteja disponível em Julia por padrão (como mostrado acima),há uma biblioteca padrão chamada `LinearAlgebra`que traz muitos nomes e funções relevantes. Em particular, ela fornece fatorações e algusn tipos de matrizes estruturadas.Como acontece com todos os pacotes, você pode trazer esses recursos adicionais para sua sessão com `using LinearAlgebra`."
   ]
  },
  {
   "cell_type": "markdown",
   "id": "d86c59b6-1e8e-4262-bd12-92eb5b85b14d",
   "metadata": {},
   "source": [
    "#### Exercícios\n",
    "\n",
    "#### 10.1\n",
    "\n",
    "Pegue o produto interno (ou produto \"ponto\") de um vetor `v`com ele mesmo e atribua-o à variável `dor_v` ."
   ]
  },
  {
   "cell_type": "code",
   "execution_count": null,
   "id": "2aa4f8c7-8d2c-4652-8142-19834a0a4e37",
   "metadata": {},
   "outputs": [],
   "source": [
    "v = [1,2,3]"
   ]
  },
  {
   "cell_type": "code",
   "execution_count": null,
   "id": "4b2ec4b7-9585-4dc4-b360-1c15780f384f",
   "metadata": {},
   "outputs": [],
   "source": []
  },
  {
   "cell_type": "code",
   "execution_count": null,
   "id": "00984aa9-d048-43c3-904f-5e7f455035f8",
   "metadata": {},
   "outputs": [],
   "source": [
    "@assert dot_v == 14"
   ]
  },
  {
   "cell_type": "markdown",
   "id": "29b30cd4-7a56-49e5-b089-9241dcfb2ea9",
   "metadata": {},
   "source": [
    "#### 10.2\n",
    "\n",
    "Pegue o produto externo de um vetor v com ele mesmo e atribua-o à variável `outer_v`"
   ]
  },
  {
   "cell_type": "code",
   "execution_count": null,
   "id": "709466d8-1cf8-4703-ac16-263493e08a0c",
   "metadata": {},
   "outputs": [],
   "source": []
  },
  {
   "cell_type": "code",
   "execution_count": null,
   "id": "29f72765-68b1-4a19-90fd-abae5b0a3cb0",
   "metadata": {},
   "outputs": [],
   "source": [
    "@assert outer_v == [1 2 3\n",
    "                    2 4 6\n",
    "                    3 6 9]"
   ]
  },
  {
   "cell_type": "code",
   "execution_count": null,
   "id": "6bfdff2c-11f0-4d15-b8f1-a2c701950796",
   "metadata": {},
   "outputs": [],
   "source": [
    "@assert cross_v == [0, 0, 0]"
   ]
  },
  {
   "cell_type": "markdown",
   "id": "2282a2a0-d866-4be3-9ae2-052568c59dfb",
   "metadata": {},
   "source": [
    "Clique em `Validar` na parte superior quando terminar os exercícios."
   ]
  }
 ],
 "metadata": {
  "kernelspec": {
   "display_name": "Julia 1.6.1",
   "language": "julia",
   "name": "julia-1.6"
  },
  "language_info": {
   "file_extension": ".jl",
   "mimetype": "application/julia",
   "name": "julia",
   "version": "1.6.1"
  }
 },
 "nbformat": 4,
 "nbformat_minor": 5
}
